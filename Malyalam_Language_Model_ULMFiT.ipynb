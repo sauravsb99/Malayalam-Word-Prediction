{
  "nbformat": 4,
  "nbformat_minor": 0,
  "metadata": {
    "kernelspec": {
      "display_name": "Python 3",
      "language": "python",
      "name": "python3"
    },
    "language_info": {
      "codemirror_mode": {
        "name": "ipython",
        "version": 3
      },
      "file_extension": ".py",
      "mimetype": "text/x-python",
      "name": "python",
      "nbconvert_exporter": "python",
      "pygments_lexer": "ipython3",
      "version": "3.8.3"
    },
    "colab": {
      "name": "Malyalam_Language_Model_ULMFiT.ipynb",
      "provenance": [],
      "toc_visible": true,
      "include_colab_link": true
    },
    "accelerator": "GPU"
  },
  "cells": [
    {
      "cell_type": "markdown",
      "metadata": {
        "id": "view-in-github",
        "colab_type": "text"
      },
      "source": [
        "<a href=\"https://colab.research.google.com/github/sauravsb99/Malayalam-Word-Prediction/blob/master/Malyalam_Language_Model_ULMFiT.ipynb\" target=\"_parent\"><img src=\"https://colab.research.google.com/assets/colab-badge.svg\" alt=\"Open In Colab\"/></a>"
      ]
    },
    {
      "cell_type": "code",
      "metadata": {
        "id": "MmpikCGwn1S5",
        "colab_type": "code",
        "colab": {}
      },
      "source": [
        "%reload_ext autoreload\n",
        "%autoreload 2\n",
        "%matplotlib inline"
      ],
      "execution_count": 1,
      "outputs": []
    },
    {
      "cell_type": "code",
      "metadata": {
        "id": "wQECpM2ioSUB",
        "colab_type": "code",
        "colab": {
          "base_uri": "https://localhost:8080/",
          "height": 122
        },
        "outputId": "5abc2e3a-2724-4d60-c744-a39d2bc0515f"
      },
      "source": [
        "!pip install sentencepiece\n"
      ],
      "execution_count": 3,
      "outputs": [
        {
          "output_type": "stream",
          "text": [
            "Collecting sentencepiece\n",
            "\u001b[?25l  Downloading https://files.pythonhosted.org/packages/d4/a4/d0a884c4300004a78cca907a6ff9a5e9fe4f090f5d95ab341c53d28cbc58/sentencepiece-0.1.91-cp36-cp36m-manylinux1_x86_64.whl (1.1MB)\n",
            "\r\u001b[K     |▎                               | 10kB 21.4MB/s eta 0:00:01\r\u001b[K     |▋                               | 20kB 5.3MB/s eta 0:00:01\r\u001b[K     |█                               | 30kB 5.5MB/s eta 0:00:01\r\u001b[K     |█▏                              | 40kB 6.3MB/s eta 0:00:01\r\u001b[K     |█▌                              | 51kB 6.2MB/s eta 0:00:01\r\u001b[K     |█▉                              | 61kB 7.0MB/s eta 0:00:01\r\u001b[K     |██▏                             | 71kB 6.1MB/s eta 0:00:01\r\u001b[K     |██▍                             | 81kB 6.2MB/s eta 0:00:01\r\u001b[K     |██▊                             | 92kB 6.5MB/s eta 0:00:01\r\u001b[K     |███                             | 102kB 6.5MB/s eta 0:00:01\r\u001b[K     |███▍                            | 112kB 6.5MB/s eta 0:00:01\r\u001b[K     |███▋                            | 122kB 6.5MB/s eta 0:00:01\r\u001b[K     |████                            | 133kB 6.5MB/s eta 0:00:01\r\u001b[K     |████▎                           | 143kB 6.5MB/s eta 0:00:01\r\u001b[K     |████▋                           | 153kB 6.5MB/s eta 0:00:01\r\u001b[K     |████▉                           | 163kB 6.5MB/s eta 0:00:01\r\u001b[K     |█████▏                          | 174kB 6.5MB/s eta 0:00:01\r\u001b[K     |█████▌                          | 184kB 6.5MB/s eta 0:00:01\r\u001b[K     |█████▉                          | 194kB 6.5MB/s eta 0:00:01\r\u001b[K     |██████                          | 204kB 6.5MB/s eta 0:00:01\r\u001b[K     |██████▍                         | 215kB 6.5MB/s eta 0:00:01\r\u001b[K     |██████▊                         | 225kB 6.5MB/s eta 0:00:01\r\u001b[K     |███████                         | 235kB 6.5MB/s eta 0:00:01\r\u001b[K     |███████▎                        | 245kB 6.5MB/s eta 0:00:01\r\u001b[K     |███████▋                        | 256kB 6.5MB/s eta 0:00:01\r\u001b[K     |████████                        | 266kB 6.5MB/s eta 0:00:01\r\u001b[K     |████████▎                       | 276kB 6.5MB/s eta 0:00:01\r\u001b[K     |████████▌                       | 286kB 6.5MB/s eta 0:00:01\r\u001b[K     |████████▉                       | 296kB 6.5MB/s eta 0:00:01\r\u001b[K     |█████████▏                      | 307kB 6.5MB/s eta 0:00:01\r\u001b[K     |█████████▌                      | 317kB 6.5MB/s eta 0:00:01\r\u001b[K     |█████████▊                      | 327kB 6.5MB/s eta 0:00:01\r\u001b[K     |██████████                      | 337kB 6.5MB/s eta 0:00:01\r\u001b[K     |██████████▍                     | 348kB 6.5MB/s eta 0:00:01\r\u001b[K     |██████████▊                     | 358kB 6.5MB/s eta 0:00:01\r\u001b[K     |███████████                     | 368kB 6.5MB/s eta 0:00:01\r\u001b[K     |███████████▎                    | 378kB 6.5MB/s eta 0:00:01\r\u001b[K     |███████████▋                    | 389kB 6.5MB/s eta 0:00:01\r\u001b[K     |████████████                    | 399kB 6.5MB/s eta 0:00:01\r\u001b[K     |████████████▏                   | 409kB 6.5MB/s eta 0:00:01\r\u001b[K     |████████████▌                   | 419kB 6.5MB/s eta 0:00:01\r\u001b[K     |████████████▉                   | 430kB 6.5MB/s eta 0:00:01\r\u001b[K     |█████████████▏                  | 440kB 6.5MB/s eta 0:00:01\r\u001b[K     |█████████████▍                  | 450kB 6.5MB/s eta 0:00:01\r\u001b[K     |█████████████▊                  | 460kB 6.5MB/s eta 0:00:01\r\u001b[K     |██████████████                  | 471kB 6.5MB/s eta 0:00:01\r\u001b[K     |██████████████▍                 | 481kB 6.5MB/s eta 0:00:01\r\u001b[K     |██████████████▋                 | 491kB 6.5MB/s eta 0:00:01\r\u001b[K     |███████████████                 | 501kB 6.5MB/s eta 0:00:01\r\u001b[K     |███████████████▎                | 512kB 6.5MB/s eta 0:00:01\r\u001b[K     |███████████████▋                | 522kB 6.5MB/s eta 0:00:01\r\u001b[K     |███████████████▉                | 532kB 6.5MB/s eta 0:00:01\r\u001b[K     |████████████████▏               | 542kB 6.5MB/s eta 0:00:01\r\u001b[K     |████████████████▌               | 552kB 6.5MB/s eta 0:00:01\r\u001b[K     |████████████████▉               | 563kB 6.5MB/s eta 0:00:01\r\u001b[K     |█████████████████               | 573kB 6.5MB/s eta 0:00:01\r\u001b[K     |█████████████████▍              | 583kB 6.5MB/s eta 0:00:01\r\u001b[K     |█████████████████▊              | 593kB 6.5MB/s eta 0:00:01\r\u001b[K     |██████████████████              | 604kB 6.5MB/s eta 0:00:01\r\u001b[K     |██████████████████▎             | 614kB 6.5MB/s eta 0:00:01\r\u001b[K     |██████████████████▋             | 624kB 6.5MB/s eta 0:00:01\r\u001b[K     |███████████████████             | 634kB 6.5MB/s eta 0:00:01\r\u001b[K     |███████████████████▎            | 645kB 6.5MB/s eta 0:00:01\r\u001b[K     |███████████████████▌            | 655kB 6.5MB/s eta 0:00:01\r\u001b[K     |███████████████████▉            | 665kB 6.5MB/s eta 0:00:01\r\u001b[K     |████████████████████▏           | 675kB 6.5MB/s eta 0:00:01\r\u001b[K     |████████████████████▌           | 686kB 6.5MB/s eta 0:00:01\r\u001b[K     |████████████████████▊           | 696kB 6.5MB/s eta 0:00:01\r\u001b[K     |█████████████████████           | 706kB 6.5MB/s eta 0:00:01\r\u001b[K     |█████████████████████▍          | 716kB 6.5MB/s eta 0:00:01\r\u001b[K     |█████████████████████▋          | 727kB 6.5MB/s eta 0:00:01\r\u001b[K     |██████████████████████          | 737kB 6.5MB/s eta 0:00:01\r\u001b[K     |██████████████████████▎         | 747kB 6.5MB/s eta 0:00:01\r\u001b[K     |██████████████████████▋         | 757kB 6.5MB/s eta 0:00:01\r\u001b[K     |██████████████████████▉         | 768kB 6.5MB/s eta 0:00:01\r\u001b[K     |███████████████████████▏        | 778kB 6.5MB/s eta 0:00:01\r\u001b[K     |███████████████████████▌        | 788kB 6.5MB/s eta 0:00:01\r\u001b[K     |███████████████████████▉        | 798kB 6.5MB/s eta 0:00:01\r\u001b[K     |████████████████████████        | 808kB 6.5MB/s eta 0:00:01\r\u001b[K     |████████████████████████▍       | 819kB 6.5MB/s eta 0:00:01\r\u001b[K     |████████████████████████▊       | 829kB 6.5MB/s eta 0:00:01\r\u001b[K     |█████████████████████████       | 839kB 6.5MB/s eta 0:00:01\r\u001b[K     |█████████████████████████▎      | 849kB 6.5MB/s eta 0:00:01\r\u001b[K     |█████████████████████████▋      | 860kB 6.5MB/s eta 0:00:01\r\u001b[K     |██████████████████████████      | 870kB 6.5MB/s eta 0:00:01\r\u001b[K     |██████████████████████████▎     | 880kB 6.5MB/s eta 0:00:01\r\u001b[K     |██████████████████████████▌     | 890kB 6.5MB/s eta 0:00:01\r\u001b[K     |██████████████████████████▉     | 901kB 6.5MB/s eta 0:00:01\r\u001b[K     |███████████████████████████▏    | 911kB 6.5MB/s eta 0:00:01\r\u001b[K     |███████████████████████████▌    | 921kB 6.5MB/s eta 0:00:01\r\u001b[K     |███████████████████████████▊    | 931kB 6.5MB/s eta 0:00:01\r\u001b[K     |████████████████████████████    | 942kB 6.5MB/s eta 0:00:01\r\u001b[K     |████████████████████████████▍   | 952kB 6.5MB/s eta 0:00:01\r\u001b[K     |████████████████████████████▊   | 962kB 6.5MB/s eta 0:00:01\r\u001b[K     |█████████████████████████████   | 972kB 6.5MB/s eta 0:00:01\r\u001b[K     |█████████████████████████████▎  | 983kB 6.5MB/s eta 0:00:01\r\u001b[K     |█████████████████████████████▋  | 993kB 6.5MB/s eta 0:00:01\r\u001b[K     |██████████████████████████████  | 1.0MB 6.5MB/s eta 0:00:01\r\u001b[K     |██████████████████████████████▏ | 1.0MB 6.5MB/s eta 0:00:01\r\u001b[K     |██████████████████████████████▌ | 1.0MB 6.5MB/s eta 0:00:01\r\u001b[K     |██████████████████████████████▉ | 1.0MB 6.5MB/s eta 0:00:01\r\u001b[K     |███████████████████████████████▏| 1.0MB 6.5MB/s eta 0:00:01\r\u001b[K     |███████████████████████████████▍| 1.1MB 6.5MB/s eta 0:00:01\r\u001b[K     |███████████████████████████████▊| 1.1MB 6.5MB/s eta 0:00:01\r\u001b[K     |████████████████████████████████| 1.1MB 6.5MB/s \n",
            "\u001b[?25hInstalling collected packages: sentencepiece\n",
            "Successfully installed sentencepiece-0.1.91\n"
          ],
          "name": "stdout"
        }
      ]
    },
    {
      "cell_type": "code",
      "metadata": {
        "id": "C4eL7cv7wmu8",
        "colab_type": "code",
        "colab": {
          "base_uri": "https://localhost:8080/",
          "height": 241
        },
        "outputId": "309e3113-6e81-4e42-ac7d-bef7b05ddb3e"
      },
      "source": [
        "!pip install fastprogress==0.1.22"
      ],
      "execution_count": 21,
      "outputs": [
        {
          "output_type": "stream",
          "text": [
            "Collecting fastprogress==0.1.22\n",
            "  Downloading https://files.pythonhosted.org/packages/f0/4f/eb76f71e7da768325e029b10a443aa015236a04217ec482e861fae7ccb8f/fastprogress-0.1.22-py3-none-any.whl\n",
            "Installing collected packages: fastprogress\n",
            "  Found existing installation: fastprogress 0.2.3\n",
            "    Uninstalling fastprogress-0.2.3:\n",
            "      Successfully uninstalled fastprogress-0.2.3\n",
            "Successfully installed fastprogress-0.1.22\n"
          ],
          "name": "stdout"
        },
        {
          "output_type": "display_data",
          "data": {
            "application/vnd.colab-display-data+json": {
              "pip_warning": {
                "packages": [
                  "fastprogress"
                ]
              }
            }
          },
          "metadata": {
            "tags": []
          }
        }
      ]
    },
    {
      "cell_type": "code",
      "metadata": {
        "id": "fuRj1K1ln1S9",
        "colab_type": "code",
        "colab": {}
      },
      "source": [
        "from fastai.text import *\n",
        "import numpy as np\n",
        "from sklearn.model_selection import train_test_split\n",
        "import pickle\n",
        "import sentencepiece as spm"
      ],
      "execution_count": 3,
      "outputs": []
    },
    {
      "cell_type": "code",
      "metadata": {
        "id": "gzEqQZuzn1TB",
        "colab_type": "code",
        "colab": {
          "base_uri": "https://localhost:8080/",
          "height": 34
        },
        "outputId": "a7872615-b50d-48f7-ba2d-0f90c77f31ec"
      },
      "source": [
        "import fastai, torch\n",
        "fastai.__version__ , torch.__version__"
      ],
      "execution_count": 5,
      "outputs": [
        {
          "output_type": "execute_result",
          "data": {
            "text/plain": [
              "('1.0.57', '1.5.1+cu101')"
            ]
          },
          "metadata": {
            "tags": []
          },
          "execution_count": 5
        }
      ]
    },
    {
      "cell_type": "code",
      "metadata": {
        "id": "N3UZowDPn1TF",
        "colab_type": "code",
        "colab": {}
      },
      "source": [
        "import multiprocessing as mp\n",
        "\n",
        "class Foo():\n",
        "    @staticmethod\n",
        "    def work(self):\n",
        "        pass\n",
        "\n",
        "if __name__ == '__main__':   \n",
        "    pool = mp.Pool()\n",
        "    foo = Foo()\n",
        "    pool.apply_async(foo.work)\n",
        "    pool.close()\n",
        "    pool.join()"
      ],
      "execution_count": 6,
      "outputs": []
    },
    {
      "cell_type": "code",
      "metadata": {
        "id": "58o7ZI_nn1TI",
        "colab_type": "code",
        "colab": {}
      },
      "source": [
        "# torch.cuda.set_device(0)"
      ],
      "execution_count": null,
      "outputs": []
    },
    {
      "cell_type": "code",
      "metadata": {
        "id": "fhGfRC1Nn1TL",
        "colab_type": "code",
        "colab": {
          "base_uri": "https://localhost:8080/",
          "height": 34
        },
        "outputId": "14b78bdf-0b8a-4ebf-96f3-b9c33c65f762"
      },
      "source": [
        "!pwd"
      ],
      "execution_count": null,
      "outputs": [
        {
          "output_type": "stream",
          "text": [
            "/content\n"
          ],
          "name": "stdout"
        }
      ]
    },
    {
      "cell_type": "code",
      "metadata": {
        "id": "XezYtwtEn1TO",
        "colab_type": "code",
        "colab": {}
      },
      "source": [
        "path = Path('/home/sauravsb99/MalWorPre/nlp-for-malyalam/language-model')"
      ],
      "execution_count": null,
      "outputs": []
    },
    {
      "cell_type": "code",
      "metadata": {
        "id": "Cj8Dlf7woh4U",
        "colab_type": "code",
        "colab": {
          "base_uri": "https://localhost:8080/",
          "height": 1000
        },
        "outputId": "d1f3d9df-d882-4905-e17e-e04e386b8537"
      },
      "source": [
        "!pip install inltk\n"
      ],
      "execution_count": 6,
      "outputs": [
        {
          "output_type": "stream",
          "text": [
            "Collecting inltk\n",
            "  Downloading https://files.pythonhosted.org/packages/4a/6b/27e71de5a61d1cb3b37abb566880b023029b95183224a60088da9abb224b/inltk-0.8.1-py3-none-any.whl\n",
            "Requirement already satisfied: packaging in /usr/local/lib/python3.6/dist-packages (from inltk) (20.4)\n",
            "Requirement already satisfied: numpy>=1.15 in /usr/local/lib/python3.6/dist-packages (from inltk) (1.18.5)\n",
            "Collecting typing\n",
            "\u001b[?25l  Downloading https://files.pythonhosted.org/packages/05/d9/6eebe19d46bd05360c9a9aae822e67a80f9242aabbfc58b641b957546607/typing-3.7.4.3.tar.gz (78kB)\n",
            "\u001b[K     |████████████████████████████████| 81kB 6.1MB/s \n",
            "\u001b[?25hCollecting async-timeout>=3.0.1\n",
            "  Downloading https://files.pythonhosted.org/packages/e1/1e/5a4441be21b0726c4464f3f23c8b19628372f606755a9d2e46c187e65ec4/async_timeout-3.0.1-py3-none-any.whl\n",
            "Collecting fastai==1.0.57\n",
            "\u001b[?25l  Downloading https://files.pythonhosted.org/packages/c1/e2/42342ded0385d694e3250e74f43f0dc9a3ff3d5c2241a2ddd98236b5f9de/fastai-1.0.57-py3-none-any.whl (233kB)\n",
            "\u001b[K     |████████████████████████████████| 235kB 15.4MB/s \n",
            "\u001b[?25hRequirement already satisfied: bottleneck in /usr/local/lib/python3.6/dist-packages (from inltk) (1.3.2)\n",
            "Collecting aiohttp>=3.5.4\n",
            "\u001b[?25l  Downloading https://files.pythonhosted.org/packages/7c/39/7eb5f98d24904e0f6d3edb505d4aa60e3ef83c0a58d6fe18244a51757247/aiohttp-3.6.2-cp36-cp36m-manylinux1_x86_64.whl (1.2MB)\n",
            "\u001b[K     |████████████████████████████████| 1.2MB 19.8MB/s \n",
            "\u001b[?25hRequirement already satisfied: sentencepiece in /usr/local/lib/python3.6/dist-packages (from inltk) (0.1.91)\n",
            "Requirement already satisfied: scipy in /usr/local/lib/python3.6/dist-packages (from inltk) (1.4.1)\n",
            "Requirement already satisfied: fastprogress>=0.1.19 in /usr/local/lib/python3.6/dist-packages (from inltk) (0.2.3)\n",
            "Requirement already satisfied: beautifulsoup4 in /usr/local/lib/python3.6/dist-packages (from inltk) (4.6.3)\n",
            "Requirement already satisfied: Pillow in /usr/local/lib/python3.6/dist-packages (from inltk) (7.0.0)\n",
            "Requirement already satisfied: nvidia-ml-py3 in /usr/local/lib/python3.6/dist-packages (from inltk) (7.352.0)\n",
            "Requirement already satisfied: pandas in /usr/local/lib/python3.6/dist-packages (from inltk) (1.0.5)\n",
            "Requirement already satisfied: pyyaml in /usr/local/lib/python3.6/dist-packages (from inltk) (3.13)\n",
            "Requirement already satisfied: matplotlib in /usr/local/lib/python3.6/dist-packages (from inltk) (3.2.2)\n",
            "Requirement already satisfied: spacy>=2.0.18 in /usr/local/lib/python3.6/dist-packages (from inltk) (2.2.4)\n",
            "Requirement already satisfied: numexpr in /usr/local/lib/python3.6/dist-packages (from inltk) (2.7.1)\n",
            "Requirement already satisfied: requests in /usr/local/lib/python3.6/dist-packages (from inltk) (2.23.0)\n",
            "Requirement already satisfied: dataclasses; python_version < \"3.7\" in /usr/local/lib/python3.6/dist-packages (from inltk) (0.7)\n",
            "Requirement already satisfied: six in /usr/local/lib/python3.6/dist-packages (from packaging->inltk) (1.15.0)\n",
            "Requirement already satisfied: pyparsing>=2.0.2 in /usr/local/lib/python3.6/dist-packages (from packaging->inltk) (2.4.7)\n",
            "Requirement already satisfied: torch>=1.0.0 in /usr/local/lib/python3.6/dist-packages (from fastai==1.0.57->inltk) (1.5.1+cu101)\n",
            "Requirement already satisfied: torchvision in /usr/local/lib/python3.6/dist-packages (from fastai==1.0.57->inltk) (0.6.1+cu101)\n",
            "Collecting yarl<2.0,>=1.0\n",
            "\u001b[?25l  Downloading https://files.pythonhosted.org/packages/77/9a/2365a077c21c3d711b2367199a81edbe3f362712a05f6437647ca770eab1/yarl-1.5.0-cp36-cp36m-manylinux1_x86_64.whl (257kB)\n",
            "\u001b[K     |████████████████████████████████| 266kB 16.1MB/s \n",
            "\u001b[?25hRequirement already satisfied: typing-extensions>=3.6.5; python_version < \"3.7\" in /usr/local/lib/python3.6/dist-packages (from aiohttp>=3.5.4->inltk) (3.7.4.2)\n",
            "Requirement already satisfied: chardet<4.0,>=2.0 in /usr/local/lib/python3.6/dist-packages (from aiohttp>=3.5.4->inltk) (3.0.4)\n",
            "Collecting multidict<5.0,>=4.5\n",
            "\u001b[?25l  Downloading https://files.pythonhosted.org/packages/1a/95/f50352b5366e7d579e8b99631680a9e32e1b22adfa1629a8f23b1d22d5e2/multidict-4.7.6-cp36-cp36m-manylinux1_x86_64.whl (148kB)\n",
            "\u001b[K     |████████████████████████████████| 153kB 30.7MB/s \n",
            "\u001b[?25hCollecting idna-ssl>=1.0; python_version < \"3.7\"\n",
            "  Downloading https://files.pythonhosted.org/packages/46/03/07c4894aae38b0de52b52586b24bf189bb83e4ddabfe2e2c8f2419eec6f4/idna-ssl-1.1.0.tar.gz\n",
            "Requirement already satisfied: attrs>=17.3.0 in /usr/local/lib/python3.6/dist-packages (from aiohttp>=3.5.4->inltk) (19.3.0)\n",
            "Requirement already satisfied: python-dateutil>=2.6.1 in /usr/local/lib/python3.6/dist-packages (from pandas->inltk) (2.8.1)\n",
            "Requirement already satisfied: pytz>=2017.2 in /usr/local/lib/python3.6/dist-packages (from pandas->inltk) (2018.9)\n",
            "Requirement already satisfied: kiwisolver>=1.0.1 in /usr/local/lib/python3.6/dist-packages (from matplotlib->inltk) (1.2.0)\n",
            "Requirement already satisfied: cycler>=0.10 in /usr/local/lib/python3.6/dist-packages (from matplotlib->inltk) (0.10.0)\n",
            "Requirement already satisfied: blis<0.5.0,>=0.4.0 in /usr/local/lib/python3.6/dist-packages (from spacy>=2.0.18->inltk) (0.4.1)\n",
            "Requirement already satisfied: srsly<1.1.0,>=1.0.2 in /usr/local/lib/python3.6/dist-packages (from spacy>=2.0.18->inltk) (1.0.2)\n",
            "Requirement already satisfied: plac<1.2.0,>=0.9.6 in /usr/local/lib/python3.6/dist-packages (from spacy>=2.0.18->inltk) (1.1.3)\n",
            "Requirement already satisfied: cymem<2.1.0,>=2.0.2 in /usr/local/lib/python3.6/dist-packages (from spacy>=2.0.18->inltk) (2.0.3)\n",
            "Requirement already satisfied: thinc==7.4.0 in /usr/local/lib/python3.6/dist-packages (from spacy>=2.0.18->inltk) (7.4.0)\n",
            "Requirement already satisfied: tqdm<5.0.0,>=4.38.0 in /usr/local/lib/python3.6/dist-packages (from spacy>=2.0.18->inltk) (4.41.1)\n",
            "Requirement already satisfied: preshed<3.1.0,>=3.0.2 in /usr/local/lib/python3.6/dist-packages (from spacy>=2.0.18->inltk) (3.0.2)\n",
            "Requirement already satisfied: setuptools in /usr/local/lib/python3.6/dist-packages (from spacy>=2.0.18->inltk) (49.1.0)\n",
            "Requirement already satisfied: wasabi<1.1.0,>=0.4.0 in /usr/local/lib/python3.6/dist-packages (from spacy>=2.0.18->inltk) (0.7.1)\n",
            "Requirement already satisfied: catalogue<1.1.0,>=0.0.7 in /usr/local/lib/python3.6/dist-packages (from spacy>=2.0.18->inltk) (1.0.0)\n",
            "Requirement already satisfied: murmurhash<1.1.0,>=0.28.0 in /usr/local/lib/python3.6/dist-packages (from spacy>=2.0.18->inltk) (1.0.2)\n",
            "Requirement already satisfied: idna<3,>=2.5 in /usr/local/lib/python3.6/dist-packages (from requests->inltk) (2.10)\n",
            "Requirement already satisfied: certifi>=2017.4.17 in /usr/local/lib/python3.6/dist-packages (from requests->inltk) (2020.6.20)\n",
            "Requirement already satisfied: urllib3!=1.25.0,!=1.25.1,<1.26,>=1.21.1 in /usr/local/lib/python3.6/dist-packages (from requests->inltk) (1.24.3)\n",
            "Requirement already satisfied: future in /usr/local/lib/python3.6/dist-packages (from torch>=1.0.0->fastai==1.0.57->inltk) (0.16.0)\n",
            "Requirement already satisfied: importlib-metadata>=0.20; python_version < \"3.8\" in /usr/local/lib/python3.6/dist-packages (from catalogue<1.1.0,>=0.0.7->spacy>=2.0.18->inltk) (1.7.0)\n",
            "Requirement already satisfied: zipp>=0.5 in /usr/local/lib/python3.6/dist-packages (from importlib-metadata>=0.20; python_version < \"3.8\"->catalogue<1.1.0,>=0.0.7->spacy>=2.0.18->inltk) (3.1.0)\n",
            "Building wheels for collected packages: typing, idna-ssl\n",
            "  Building wheel for typing (setup.py) ... \u001b[?25l\u001b[?25hdone\n",
            "  Created wheel for typing: filename=typing-3.7.4.3-cp36-none-any.whl size=26309 sha256=a525233b592c038c3dd354c7047d5cad79c1cfb8d094a4e3f46d4e2e2ab728ef\n",
            "  Stored in directory: /root/.cache/pip/wheels/2d/04/41/8e1836e79581989c22eebac3f4e70aaac9af07b0908da173be\n",
            "  Building wheel for idna-ssl (setup.py) ... \u001b[?25l\u001b[?25hdone\n",
            "  Created wheel for idna-ssl: filename=idna_ssl-1.1.0-cp36-none-any.whl size=3162 sha256=f67b8c15eb0ae5488bebaba9aa8d24f804db0ba99bde43d41725443e605d8f96\n",
            "  Stored in directory: /root/.cache/pip/wheels/d3/00/b3/32d613e19e08a739751dd6bf998cfed277728f8b2127ad4eb7\n",
            "Successfully built typing idna-ssl\n",
            "Installing collected packages: typing, async-timeout, fastai, multidict, yarl, idna-ssl, aiohttp, inltk\n",
            "  Found existing installation: fastai 1.0.61\n",
            "    Uninstalling fastai-1.0.61:\n",
            "      Successfully uninstalled fastai-1.0.61\n",
            "Successfully installed aiohttp-3.6.2 async-timeout-3.0.1 fastai-1.0.57 idna-ssl-1.1.0 inltk-0.8.1 multidict-4.7.6 typing-3.7.4.3 yarl-1.5.0\n"
          ],
          "name": "stdout"
        },
        {
          "output_type": "display_data",
          "data": {
            "application/vnd.colab-display-data+json": {
              "pip_warning": {
                "packages": [
                  "fastai",
                  "typing"
                ]
              }
            }
          },
          "metadata": {
            "tags": []
          }
        }
      ]
    },
    {
      "cell_type": "code",
      "metadata": {
        "id": "fmcfxB0sn1TR",
        "colab_type": "code",
        "colab": {}
      },
      "source": [
        "from inltk.tokenizer import MalyalamTokenizer"
      ],
      "execution_count": 7,
      "outputs": []
    },
    {
      "cell_type": "code",
      "metadata": {
        "id": "teXqUOcin1TU",
        "colab_type": "code",
        "colab": {
          "base_uri": "https://localhost:8080/",
          "height": 34
        },
        "outputId": "12208196-2045-4d83-9cf4-fc35dfd5b97a"
      },
      "source": [
        "MalyalamTokenizer"
      ],
      "execution_count": 8,
      "outputs": [
        {
          "output_type": "execute_result",
          "data": {
            "text/plain": [
              "inltk.tokenizer.MalyalamTokenizer"
            ]
          },
          "metadata": {
            "tags": []
          },
          "execution_count": 8
        }
      ]
    },
    {
      "cell_type": "code",
      "metadata": {
        "id": "Uc_DnPgNn1TX",
        "colab_type": "code",
        "colab": {}
      },
      "source": [
        "# class MalyalamTokenizer(BaseTokenizer):\n",
        "#     def __init__(self, lang:str):\n",
        "#         self.lang = lang\n",
        "#         self.sp = spm.SentencePieceProcessor()\n",
        "#         self.sp.Load(str(path/\"../tokenizer/malyalam_lm.model\"))\n",
        "        \n",
        "#     def tokenizer(self, t:str) -> List[str]:\n",
        "#         return self.sp.EncodeAsPieces(t)"
      ],
      "execution_count": null,
      "outputs": []
    },
    {
      "cell_type": "code",
      "metadata": {
        "id": "5p8LWftqsfBu",
        "colab_type": "code",
        "colab": {}
      },
      "source": [
        "!cp \"/content/drive/My Drive/Dataset/malyalam_lm.model\" \"/content/\""
      ],
      "execution_count": 14,
      "outputs": []
    },
    {
      "cell_type": "code",
      "metadata": {
        "id": "rFFljF92n1Ta",
        "colab_type": "code",
        "colab": {}
      },
      "source": [
        "sp = spm.SentencePieceProcessor()\n",
        "sp.Load(str(\"/content/malyalam_lm.model\"))\n",
        "itos = [sp.IdToPiece(int(i)) for i in range(10000)]"
      ],
      "execution_count": 9,
      "outputs": []
    },
    {
      "cell_type": "code",
      "metadata": {
        "id": "EsYU5z5On1Tc",
        "colab_type": "code",
        "colab": {}
      },
      "source": [
        "# 10,000 is the vocab size that we chose in sentencepiece\n",
        "malyalam_vocab = Vocab(itos)"
      ],
      "execution_count": 10,
      "outputs": []
    },
    {
      "cell_type": "code",
      "metadata": {
        "id": "-9xnq1zUn1Th",
        "colab_type": "code",
        "colab": {}
      },
      "source": [
        "tokenizer = Tokenizer(tok_func=MalyalamTokenizer, lang='ml')"
      ],
      "execution_count": 11,
      "outputs": []
    },
    {
      "cell_type": "code",
      "metadata": {
        "id": "YXR20aUdn1Tj",
        "colab_type": "code",
        "colab": {
          "base_uri": "https://localhost:8080/",
          "height": 170
        },
        "outputId": "8a440ac6-5982-462b-b537-2dab0f9401b0"
      },
      "source": [
        "tokenizer.special_cases"
      ],
      "execution_count": 12,
      "outputs": [
        {
          "output_type": "execute_result",
          "data": {
            "text/plain": [
              "['xxunk',\n",
              " 'xxpad',\n",
              " 'xxbos',\n",
              " 'xxeos',\n",
              " 'xxfld',\n",
              " 'xxmaj',\n",
              " 'xxup',\n",
              " 'xxrep',\n",
              " 'xxwrep']"
            ]
          },
          "metadata": {
            "tags": []
          },
          "execution_count": 12
        }
      ]
    },
    {
      "cell_type": "code",
      "metadata": {
        "id": "pAKB7Q1_peuR",
        "colab_type": "code",
        "colab": {
          "base_uri": "https://localhost:8080/",
          "height": 122
        },
        "outputId": "a6279c97-a4e9-4f0e-efdc-e6d9ca7bd80d"
      },
      "source": [
        "from google.colab import drive\n",
        "drive.mount('/content/drive')"
      ],
      "execution_count": 6,
      "outputs": [
        {
          "output_type": "stream",
          "text": [
            "Go to this URL in a browser: https://accounts.google.com/o/oauth2/auth?client_id=947318989803-6bn6qk8qdgf4n4g3pfee6491hc0brc4i.apps.googleusercontent.com&redirect_uri=urn%3aietf%3awg%3aoauth%3a2.0%3aoob&response_type=code&scope=email%20https%3a%2f%2fwww.googleapis.com%2fauth%2fdocs.test%20https%3a%2f%2fwww.googleapis.com%2fauth%2fdrive%20https%3a%2f%2fwww.googleapis.com%2fauth%2fdrive.photos.readonly%20https%3a%2f%2fwww.googleapis.com%2fauth%2fpeopleapi.readonly\n",
            "\n",
            "Enter your authorization code:\n",
            "··········\n",
            "Mounted at /content/drive\n"
          ],
          "name": "stdout"
        }
      ]
    },
    {
      "cell_type": "code",
      "metadata": {
        "id": "uZPIAF5CPsCg",
        "colab_type": "code",
        "colab": {
          "resources": {
            "http://localhost:8080/nbextensions/google.colab/files.js": {
              "data": "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",
              "ok": true,
              "headers": [
                [
                  "content-type",
                  "application/javascript"
                ]
              ],
              "status": 200,
              "status_text": ""
            }
          },
          "base_uri": "https://localhost:8080/",
          "height": 72
        },
        "outputId": "df241a4f-97d2-4c22-f797-ecf9f4593b22"
      },
      "source": [
        "from google.colab import files\n",
        "dataset_file_dict = files.upload()"
      ],
      "execution_count": null,
      "outputs": [
        {
          "output_type": "display_data",
          "data": {
            "text/html": [
              "\n",
              "     <input type=\"file\" id=\"files-590cfa12-eb5c-4553-9954-7695f00abdd4\" name=\"files[]\" multiple disabled\n",
              "        style=\"border:none\" />\n",
              "     <output id=\"result-590cfa12-eb5c-4553-9954-7695f00abdd4\">\n",
              "      Upload widget is only available when the cell has been executed in the\n",
              "      current browser session. Please rerun this cell to enable.\n",
              "      </output>\n",
              "      <script src=\"/nbextensions/google.colab/files.js\"></script> "
            ],
            "text/plain": [
              "<IPython.core.display.HTML object>"
            ]
          },
          "metadata": {
            "tags": []
          }
        },
        {
          "output_type": "stream",
          "text": [
            "Saving MalayalamDataset.zip to MalayalamDataset.zip\n"
          ],
          "name": "stdout"
        }
      ]
    },
    {
      "cell_type": "code",
      "metadata": {
        "id": "M5AxK2VCqzo6",
        "colab_type": "code",
        "colab": {}
      },
      "source": [
        "!cp \"/content/drive/My Drive/Dataset/MalayalamDataset.zip\" \"/content/\" \n"
      ],
      "execution_count": 11,
      "outputs": []
    },
    {
      "cell_type": "code",
      "metadata": {
        "id": "c9oXM7uQSKhV",
        "colab_type": "code",
        "colab": {}
      },
      "source": [
        "# zip_path = '/content/drive/My Drive/Dataset/MalayalamDataset.zip'\n",
        "# !cp “{zip_path}” .\n",
        "!unzip -q MalayalamDataset.zip\n",
        "# !rm MalayalamDataset.zip"
      ],
      "execution_count": 12,
      "outputs": []
    },
    {
      "cell_type": "code",
      "metadata": {
        "id": "4VPBFnyTUUc_",
        "colab_type": "code",
        "colab": {
          "base_uri": "https://localhost:8080/",
          "height": 374
        },
        "outputId": "ceddf483-afbb-43dd-bf64-031bff49467d"
      },
      "source": [
        "from inltk.inltk import setup\n",
        "\n",
        "setup('ml')"
      ],
      "execution_count": 8,
      "outputs": [
        {
          "output_type": "error",
          "ename": "RuntimeError",
          "evalue": "ignored",
          "traceback": [
            "\u001b[0;31m---------------------------------------------------------------------------\u001b[0m",
            "\u001b[0;31mRuntimeError\u001b[0m                              Traceback (most recent call last)",
            "\u001b[0;32m<ipython-input-8-e542df608a81>\u001b[0m in \u001b[0;36m<module>\u001b[0;34m()\u001b[0m\n\u001b[1;32m      1\u001b[0m \u001b[0;32mfrom\u001b[0m \u001b[0minltk\u001b[0m\u001b[0;34m.\u001b[0m\u001b[0minltk\u001b[0m \u001b[0;32mimport\u001b[0m \u001b[0msetup\u001b[0m\u001b[0;34m\u001b[0m\u001b[0;34m\u001b[0m\u001b[0m\n\u001b[1;32m      2\u001b[0m \u001b[0;34m\u001b[0m\u001b[0m\n\u001b[0;32m----> 3\u001b[0;31m \u001b[0msetup\u001b[0m\u001b[0;34m(\u001b[0m\u001b[0;34m'ml'\u001b[0m\u001b[0;34m)\u001b[0m\u001b[0;34m\u001b[0m\u001b[0;34m\u001b[0m\u001b[0m\n\u001b[0m",
            "\u001b[0;32m/usr/local/lib/python3.6/dist-packages/inltk/inltk.py\u001b[0m in \u001b[0;36msetup\u001b[0;34m(language_code)\u001b[0m\n\u001b[1;32m     26\u001b[0m     \u001b[0mloop\u001b[0m \u001b[0;34m=\u001b[0m \u001b[0masyncio\u001b[0m\u001b[0;34m.\u001b[0m\u001b[0mget_event_loop\u001b[0m\u001b[0;34m(\u001b[0m\u001b[0;34m)\u001b[0m\u001b[0;34m\u001b[0m\u001b[0;34m\u001b[0m\u001b[0m\n\u001b[1;32m     27\u001b[0m     \u001b[0mtasks\u001b[0m \u001b[0;34m=\u001b[0m \u001b[0;34m[\u001b[0m\u001b[0masyncio\u001b[0m\u001b[0;34m.\u001b[0m\u001b[0mensure_future\u001b[0m\u001b[0;34m(\u001b[0m\u001b[0mdownload\u001b[0m\u001b[0;34m(\u001b[0m\u001b[0mlanguage_code\u001b[0m\u001b[0;34m)\u001b[0m\u001b[0;34m)\u001b[0m\u001b[0;34m]\u001b[0m\u001b[0;34m\u001b[0m\u001b[0;34m\u001b[0m\u001b[0m\n\u001b[0;32m---> 28\u001b[0;31m     \u001b[0mlearn\u001b[0m \u001b[0;34m=\u001b[0m \u001b[0mloop\u001b[0m\u001b[0;34m.\u001b[0m\u001b[0mrun_until_complete\u001b[0m\u001b[0;34m(\u001b[0m\u001b[0masyncio\u001b[0m\u001b[0;34m.\u001b[0m\u001b[0mgather\u001b[0m\u001b[0;34m(\u001b[0m\u001b[0;34m*\u001b[0m\u001b[0mtasks\u001b[0m\u001b[0;34m)\u001b[0m\u001b[0;34m)\u001b[0m\u001b[0;34m[\u001b[0m\u001b[0;36m0\u001b[0m\u001b[0;34m]\u001b[0m\u001b[0;34m\u001b[0m\u001b[0;34m\u001b[0m\u001b[0m\n\u001b[0m\u001b[1;32m     29\u001b[0m     \u001b[0mloop\u001b[0m\u001b[0;34m.\u001b[0m\u001b[0mclose\u001b[0m\u001b[0;34m(\u001b[0m\u001b[0;34m)\u001b[0m\u001b[0;34m\u001b[0m\u001b[0;34m\u001b[0m\u001b[0m\n\u001b[1;32m     30\u001b[0m \u001b[0;34m\u001b[0m\u001b[0m\n",
            "\u001b[0;32m/usr/lib/python3.6/asyncio/base_events.py\u001b[0m in \u001b[0;36mrun_until_complete\u001b[0;34m(self, future)\u001b[0m\n\u001b[1;32m    469\u001b[0m         \u001b[0mfuture\u001b[0m\u001b[0;34m.\u001b[0m\u001b[0madd_done_callback\u001b[0m\u001b[0;34m(\u001b[0m\u001b[0m_run_until_complete_cb\u001b[0m\u001b[0;34m)\u001b[0m\u001b[0;34m\u001b[0m\u001b[0;34m\u001b[0m\u001b[0m\n\u001b[1;32m    470\u001b[0m         \u001b[0;32mtry\u001b[0m\u001b[0;34m:\u001b[0m\u001b[0;34m\u001b[0m\u001b[0;34m\u001b[0m\u001b[0m\n\u001b[0;32m--> 471\u001b[0;31m             \u001b[0mself\u001b[0m\u001b[0;34m.\u001b[0m\u001b[0mrun_forever\u001b[0m\u001b[0;34m(\u001b[0m\u001b[0;34m)\u001b[0m\u001b[0;34m\u001b[0m\u001b[0;34m\u001b[0m\u001b[0m\n\u001b[0m\u001b[1;32m    472\u001b[0m         \u001b[0;32mexcept\u001b[0m\u001b[0;34m:\u001b[0m\u001b[0;34m\u001b[0m\u001b[0;34m\u001b[0m\u001b[0m\n\u001b[1;32m    473\u001b[0m             \u001b[0;32mif\u001b[0m \u001b[0mnew_task\u001b[0m \u001b[0;32mand\u001b[0m \u001b[0mfuture\u001b[0m\u001b[0;34m.\u001b[0m\u001b[0mdone\u001b[0m\u001b[0;34m(\u001b[0m\u001b[0;34m)\u001b[0m \u001b[0;32mand\u001b[0m \u001b[0;32mnot\u001b[0m \u001b[0mfuture\u001b[0m\u001b[0;34m.\u001b[0m\u001b[0mcancelled\u001b[0m\u001b[0;34m(\u001b[0m\u001b[0;34m)\u001b[0m\u001b[0;34m:\u001b[0m\u001b[0;34m\u001b[0m\u001b[0;34m\u001b[0m\u001b[0m\n",
            "\u001b[0;32m/usr/lib/python3.6/asyncio/base_events.py\u001b[0m in \u001b[0;36mrun_forever\u001b[0;34m(self)\u001b[0m\n\u001b[1;32m    423\u001b[0m         \u001b[0mself\u001b[0m\u001b[0;34m.\u001b[0m\u001b[0m_check_closed\u001b[0m\u001b[0;34m(\u001b[0m\u001b[0;34m)\u001b[0m\u001b[0;34m\u001b[0m\u001b[0;34m\u001b[0m\u001b[0m\n\u001b[1;32m    424\u001b[0m         \u001b[0;32mif\u001b[0m \u001b[0mself\u001b[0m\u001b[0;34m.\u001b[0m\u001b[0mis_running\u001b[0m\u001b[0;34m(\u001b[0m\u001b[0;34m)\u001b[0m\u001b[0;34m:\u001b[0m\u001b[0;34m\u001b[0m\u001b[0;34m\u001b[0m\u001b[0m\n\u001b[0;32m--> 425\u001b[0;31m             \u001b[0;32mraise\u001b[0m \u001b[0mRuntimeError\u001b[0m\u001b[0;34m(\u001b[0m\u001b[0;34m'This event loop is already running'\u001b[0m\u001b[0;34m)\u001b[0m\u001b[0;34m\u001b[0m\u001b[0;34m\u001b[0m\u001b[0m\n\u001b[0m\u001b[1;32m    426\u001b[0m         \u001b[0;32mif\u001b[0m \u001b[0mevents\u001b[0m\u001b[0;34m.\u001b[0m\u001b[0m_get_running_loop\u001b[0m\u001b[0;34m(\u001b[0m\u001b[0;34m)\u001b[0m \u001b[0;32mis\u001b[0m \u001b[0;32mnot\u001b[0m \u001b[0;32mNone\u001b[0m\u001b[0;34m:\u001b[0m\u001b[0;34m\u001b[0m\u001b[0;34m\u001b[0m\u001b[0m\n\u001b[1;32m    427\u001b[0m             raise RuntimeError(\n",
            "\u001b[0;31mRuntimeError\u001b[0m: This event loop is already running"
          ]
        },
        {
          "output_type": "stream",
          "text": [
            "Downloading Model. This might take time, depending on your internet connection. Please be patient.\n",
            "We'll only do this for the first time.\n"
          ],
          "name": "stdout"
        }
      ]
    },
    {
      "cell_type": "code",
      "metadata": {
        "id": "MvrdWWdgn1Tm",
        "colab_type": "code",
        "colab": {
          "base_uri": "https://localhost:8080/",
          "height": 17
        },
        "outputId": "d3e57fe6-6175-4cae-8765-0fe4dfbb55eb"
      },
      "source": [
        "data_lm = TextLMDataBunch.from_folder(path='/content/MalayalamDataset', tokenizer=tokenizer, vocab=malyalam_vocab)\n"
      ],
      "execution_count": 13,
      "outputs": [
        {
          "output_type": "display_data",
          "data": {
            "text/html": [
              ""
            ],
            "text/plain": [
              "<IPython.core.display.HTML object>"
            ]
          },
          "metadata": {
            "tags": []
          }
        },
        {
          "output_type": "display_data",
          "data": {
            "text/html": [
              ""
            ],
            "text/plain": [
              "<IPython.core.display.HTML object>"
            ]
          },
          "metadata": {
            "tags": []
          }
        }
      ]
    },
    {
      "cell_type": "code",
      "metadata": {
        "id": "qnkEx8Tcn1Tp",
        "colab_type": "code",
        "colab": {
          "base_uri": "https://localhost:8080/",
          "height": 34
        },
        "outputId": "8afb9f91-3b0b-48a1-92a1-8173198ff21f"
      },
      "source": [
        "data_lm.batch_size"
      ],
      "execution_count": 14,
      "outputs": [
        {
          "output_type": "execute_result",
          "data": {
            "text/plain": [
              "64"
            ]
          },
          "metadata": {
            "tags": []
          },
          "execution_count": 14
        }
      ]
    },
    {
      "cell_type": "code",
      "metadata": {
        "id": "JvqLNmd-n1Ts",
        "colab_type": "code",
        "colab": {}
      },
      "source": [
        "data_lm.save()"
      ],
      "execution_count": 15,
      "outputs": []
    },
    {
      "cell_type": "code",
      "metadata": {
        "id": "NLmS1vPAn1Tv",
        "colab_type": "code",
        "colab": {
          "base_uri": "https://localhost:8080/",
          "height": 374
        },
        "outputId": "78eb4764-21b0-4778-cbd2-31e8a16b6645"
      },
      "source": [
        "data_lm.show_batch()"
      ],
      "execution_count": 16,
      "outputs": [
        {
          "output_type": "display_data",
          "data": {
            "text/html": [
              "<table border=\"1\" class=\"dataframe\">\n",
              "  <thead>\n",
              "    <tr style=\"text-align: right;\">\n",
              "      <th>idx</th>\n",
              "      <th>text</th>\n",
              "    </tr>\n",
              "  </thead>\n",
              "  <tbody>\n",
              "    <tr>\n",
              "      <td>0</td>\n",
              "      <td>▁താ ലു ക്കിൽ , ▁കോട്ട പ്പ ടി ▁പഞ്ചായത്ത ിൽ ▁മൂ ന്തു ർ ▁എന്ന ▁സ്ഥല ത്തുള്ള ▁ശിവക്ഷേത്ര മാണ് ▁ന ന്ത നാർ ▁ക്ഷേത്രം . ▁ശിവ ▁പ്രതിഷ്ഠ ക്കൊപ്പം ▁ഭക്ത ന ന്ത നാ രുടെ ▁പ്രതിഷ്ഠ യും ▁ഉള്ള ▁കേരളത്തിലെ ▁അപൂർവ്വ ം ▁ക്ഷേത്ര ങ്ങളിൽ ▁ഒന്നാണ് ▁ഇത് . ▁അമ്പ തി യ ൊന്നു ▁പടി കൾ ▁കയറി വേ ണം ▁നട &lt;unk&gt; ▁എത്ത ാൻ . ▁മലയാളം ▁മാസം ▁ഒന്നാം തി യ തി കളിൽ ▁രാവിലെ ▁പ്രത്യേക ▁പൂജ കൾ ▁നടത്തിവരുന്നു . ▁കൂടാതെ ▁എല്ലാ</td>\n",
              "    </tr>\n",
              "    <tr>\n",
              "      <td>1</td>\n",
              "      <td>▁ചെയ്തു . ▁ഗ ത്യ ന്ത ര മില്ലാതെ ▁അലി ▁മുആവിയ യുടെ ▁സൈന്യ വുമായി ▁സന്ധി ▁ചെയ്യാൻ ▁തീരുമാനിച്ചു . ▁എന്നാൽ ▁ഈ ▁തീരുമാന ം ▁അലിയുടെ ▁തന്നെ ▁അനുയായികള ിൽ ▁ചില രുടെ ▁കടുത്ത ▁എതിർപ്പ ിനി ട യാക്കി . ▁തീവ്രവാദ ികളായ ▁ഇവര ിൽ ▁ചിലർ ചേർന്ന് ▁അലി യെ ▁കൊല പ്പെടുത്തി . ▁കിട്ടിയ ▁അവസരം ▁പാ ഴ ാ ക്കാതെ ▁മുആവിയ ▁സ്വയം ▁ഖലീഫ യായി ▁അവ രോധ ിച്ചു . ▁ഖലീഫ ▁സ്ഥാന ത്തിന ർ ഹ നായ ▁അലിയുടെ ▁മൂത്ത ▁പുത്രൻ ▁ഹ സ്സ ന് ▁പെൻഷൻ</td>\n",
              "    </tr>\n",
              "    <tr>\n",
              "      <td>2</td>\n",
              "      <td>ത ൽ ▁അതിവേഗ പാത ▁ഉപയോഗ ് ഗ ിക്കുന്ന ▁വാഹന ങ്ങൾക്ക് ▁ചു ങ്ക ം ▁നിരക്ക ിൽ ▁ഇള വ ുകൾ ▁അനുവദിച്ച ിട്ടുണ്ട് . ▁ x x bo s ▁തോ ക്ക ുകളുടെ ▁മുന്നിൽ ▁ഘടിപ്പിക്ക ുന്ന ▁കത്തി യാണ് ▁ബ യ ണ റ്റ് ▁എന്ന റിയപ്പെടുന്നത് . ▁തോ ക്ക ിനെ ▁അടിസ്ഥാന പരമായി ▁ഒരു ▁കു ന്ത മാക്കി ▁ഉപയോഗിക്ക ാനാണ് ▁ബ യ ണ റ്റ് ▁ഘടിപ്പിക്ക ുന്നത് . ▁വെടി യു ണ്ട യുടെ ▁ദ ൗ ർ ല ഭ്യ മോ ▁തൊട്ടടുത്ത</td>\n",
              "    </tr>\n",
              "    <tr>\n",
              "      <td>3</td>\n",
              "      <td>ായ പ്പോൾ ▁അയാൾ ക്ക് ▁സഹ താ പ ം ▁തോന്ന ുകയും ▁ക്രമേണ ▁പ്രണയ മായി ▁മാറുകയും ▁ചെയ്തു . അ യാൾ ക്ക് ▁ഒരിക്കൽ ▁അന ധി കൃത മായി ▁ജോലി ▁ചെയ്യുന്ന ▁ അഫ്ഗാൻ കാര െ ▁പിടികൂട ാൻ ▁വന്ന ▁ഇറാനിയൻ ▁ഉദ്യോഗസ്ഥര ിൽ ▁അവളെ ▁രക്ഷിക്ക ാൻ ▁സാധിക്ക ുകയും ▁ചെയ്തു . ▁ഇ തിനുശേഷം ▁ബ റ ാൻ ▁ജോലി സ്ഥല ം ▁മാറ്റ ുകയും ▁ചെയ്തു . എന്നാൽ ▁ല തീ ഫ് ▁പല ▁സ്ഥല ങ്ങളിലും ▁അവളെ ▁അന്വേഷിച്ച ് ▁നടന്നു . ഒരു ▁പുഴ യുടെ</td>\n",
              "    </tr>\n",
              "    <tr>\n",
              "      <td>4</td>\n",
              "      <td>ാണ് . ▁മുഗൾ കാല ▁കെട്ടിട ങ്ങൾ ▁അടങ്ങുന്ന ▁തെക്കുകിഴക്ക േ ▁മൂല , ▁ആർ ക്കിയ ോളജി ക്കൽ ▁സർവ േ ▁ഓഫ് ▁ഇന്ത്യയുടെ ▁കൈവശ മാണ് . ▁ഈ ▁ഭാഗം ▁സന്ദർശക ർ ക്കായി ▁തുറന്നു കൊടുത്ത ിട്ടു മുണ്ട് . ▁ 94 - ac re ▁വിസ്തൃതി യുള്ള ▁ആഗ്ര ▁കോട്ട , ▁ഏതാണ്ട് ▁അർദ്ധ വൃത്ത ാകൃതി യിലാണ് . ▁കിഴക്കു വശത്ത ് ▁അർദ്ധ വൃത്ത ത്തിന്റെ ▁ഞാ ൺ ▁ഭാഗം , ▁യമുന ാ നദി ക്ക് ▁സമാന്തര മായി ▁സ്ഥിതി ▁ചെയ്യുന്നു . ▁ഇരട്ട ഭി ത്തി</td>\n",
              "    </tr>\n",
              "  </tbody>\n",
              "</table>"
            ],
            "text/plain": [
              "<IPython.core.display.HTML object>"
            ]
          },
          "metadata": {
            "tags": []
          }
        }
      ]
    },
    {
      "cell_type": "code",
      "metadata": {
        "id": "SVkLlFGrn1Ty",
        "colab_type": "code",
        "colab": {
          "base_uri": "https://localhost:8080/",
          "height": 34
        },
        "outputId": "d5e5c423-2b1b-46d7-8ca8-39f84a1435bf"
      },
      "source": [
        "len(data_lm.vocab.itos)"
      ],
      "execution_count": 17,
      "outputs": [
        {
          "output_type": "execute_result",
          "data": {
            "text/plain": [
              "10000"
            ]
          },
          "metadata": {
            "tags": []
          },
          "execution_count": 17
        }
      ]
    },
    {
      "cell_type": "code",
      "metadata": {
        "id": "gri-MJIYXFz1",
        "colab_type": "code",
        "colab": {
          "base_uri": "https://localhost:8080/",
          "height": 68
        },
        "outputId": "f842543f-dfb5-4606-bc1a-f78b1d4e9540"
      },
      "source": [
        "!pip install -q git+https://github.com/fastai/fastprogress --upgrade\n",
        "!pip install -q git+https://github.com/fastai/fastcore --upgrade\n",
        "!pip install -q git+https://github.com/fastai/fastai2 --upgrade"
      ],
      "execution_count": null,
      "outputs": [
        {
          "output_type": "stream",
          "text": [
            "  Building wheel for fastprogress (setup.py) ... \u001b[?25l\u001b[?25hdone\n",
            "  Building wheel for fastcore (setup.py) ... \u001b[?25l\u001b[?25hdone\n",
            "  Building wheel for fastai2 (setup.py) ... \u001b[?25l\u001b[?25hdone\n"
          ],
          "name": "stdout"
        }
      ]
    },
    {
      "cell_type": "code",
      "metadata": {
        "id": "m3jlHYgrYATH",
        "colab_type": "code",
        "colab": {
          "base_uri": "https://localhost:8080/",
          "height": 326
        },
        "outputId": "eec3db05-2e89-431c-c066-92247c0f5c8d"
      },
      "source": [
        "!pip install --upgrade --user prompt_toolkit==2.0.10"
      ],
      "execution_count": null,
      "outputs": [
        {
          "output_type": "stream",
          "text": [
            "Collecting prompt_toolkit==2.0.10\n",
            "\u001b[?25l  Downloading https://files.pythonhosted.org/packages/87/61/2dfea88583d5454e3a64f9308a686071d58d59a55db638268a6413e1eb6d/prompt_toolkit-2.0.10-py3-none-any.whl (340kB)\n",
            "\r\u001b[K     |█                               | 10kB 21.3MB/s eta 0:00:01\r\u001b[K     |██                              | 20kB 1.7MB/s eta 0:00:01\r\u001b[K     |███                             | 30kB 2.2MB/s eta 0:00:01\r\u001b[K     |███▉                            | 40kB 2.5MB/s eta 0:00:01\r\u001b[K     |████▉                           | 51kB 2.0MB/s eta 0:00:01\r\u001b[K     |█████▉                          | 61kB 2.2MB/s eta 0:00:01\r\u001b[K     |██████▊                         | 71kB 2.5MB/s eta 0:00:01\r\u001b[K     |███████▊                        | 81kB 2.7MB/s eta 0:00:01\r\u001b[K     |████████▊                       | 92kB 2.9MB/s eta 0:00:01\r\u001b[K     |█████████▋                      | 102kB 2.8MB/s eta 0:00:01\r\u001b[K     |██████████▋                     | 112kB 2.8MB/s eta 0:00:01\r\u001b[K     |███████████▋                    | 122kB 2.8MB/s eta 0:00:01\r\u001b[K     |████████████▌                   | 133kB 2.8MB/s eta 0:00:01\r\u001b[K     |█████████████▌                  | 143kB 2.8MB/s eta 0:00:01\r\u001b[K     |██████████████▌                 | 153kB 2.8MB/s eta 0:00:01\r\u001b[K     |███████████████▍                | 163kB 2.8MB/s eta 0:00:01\r\u001b[K     |████████████████▍               | 174kB 2.8MB/s eta 0:00:01\r\u001b[K     |█████████████████▍              | 184kB 2.8MB/s eta 0:00:01\r\u001b[K     |██████████████████▎             | 194kB 2.8MB/s eta 0:00:01\r\u001b[K     |███████████████████▎            | 204kB 2.8MB/s eta 0:00:01\r\u001b[K     |████████████████████▎           | 215kB 2.8MB/s eta 0:00:01\r\u001b[K     |█████████████████████▏          | 225kB 2.8MB/s eta 0:00:01\r\u001b[K     |██████████████████████▏         | 235kB 2.8MB/s eta 0:00:01\r\u001b[K     |███████████████████████▏        | 245kB 2.8MB/s eta 0:00:01\r\u001b[K     |████████████████████████        | 256kB 2.8MB/s eta 0:00:01\r\u001b[K     |█████████████████████████       | 266kB 2.8MB/s eta 0:00:01\r\u001b[K     |██████████████████████████      | 276kB 2.8MB/s eta 0:00:01\r\u001b[K     |███████████████████████████     | 286kB 2.8MB/s eta 0:00:01\r\u001b[K     |████████████████████████████    | 296kB 2.8MB/s eta 0:00:01\r\u001b[K     |█████████████████████████████   | 307kB 2.8MB/s eta 0:00:01\r\u001b[K     |█████████████████████████████▉  | 317kB 2.8MB/s eta 0:00:01\r\u001b[K     |██████████████████████████████▉ | 327kB 2.8MB/s eta 0:00:01\r\u001b[K     |███████████████████████████████▉| 337kB 2.8MB/s eta 0:00:01\r\u001b[K     |████████████████████████████████| 348kB 2.8MB/s \n",
            "\u001b[?25hRequirement already satisfied, skipping upgrade: six>=1.9.0 in /usr/local/lib/python3.6/dist-packages (from prompt_toolkit==2.0.10) (1.15.0)\n",
            "Requirement already satisfied, skipping upgrade: wcwidth in /usr/local/lib/python3.6/dist-packages (from prompt_toolkit==2.0.10) (0.2.5)\n",
            "\u001b[31mERROR: jupyter-console 5.2.0 has requirement prompt-toolkit<2.0.0,>=1.0.0, but you'll have prompt-toolkit 2.0.10 which is incompatible.\u001b[0m\n",
            "\u001b[31mERROR: ipython 5.5.0 has requirement prompt-toolkit<2.0.0,>=1.0.4, but you'll have prompt-toolkit 2.0.10 which is incompatible.\u001b[0m\n",
            "Installing collected packages: prompt-toolkit\n",
            "Successfully installed prompt-toolkit-2.0.10\n"
          ],
          "name": "stdout"
        },
        {
          "output_type": "display_data",
          "data": {
            "application/vnd.colab-display-data+json": {
              "pip_warning": {
                "packages": [
                  "prompt_toolkit"
                ]
              }
            }
          },
          "metadata": {
            "tags": []
          }
        }
      ]
    },
    {
      "cell_type": "code",
      "metadata": {
        "id": "dZEiP6IPZASP",
        "colab_type": "code",
        "colab": {
          "base_uri": "https://localhost:8080/",
          "height": 119
        },
        "outputId": "47c30f59-c05b-4e8a-d845-95e916568700"
      },
      "source": [
        "!pip uninstall fastprogress"
      ],
      "execution_count": 29,
      "outputs": [
        {
          "output_type": "stream",
          "text": [
            "Uninstalling fastprogress-0.2.3:\n",
            "  Would remove:\n",
            "    /usr/local/lib/python3.6/dist-packages/fastprogress-0.2.3.dist-info/*\n",
            "    /usr/local/lib/python3.6/dist-packages/fastprogress/*\n",
            "Proceed (y/n)? y\n",
            "  Successfully uninstalled fastprogress-0.2.3\n"
          ],
          "name": "stdout"
        }
      ]
    },
    {
      "cell_type": "code",
      "metadata": {
        "id": "cx5hytBKn1T1",
        "colab_type": "code",
        "colab": {
          "base_uri": "https://localhost:8080/",
          "height": 71
        },
        "outputId": "f4283e22-cf4e-4143-df1c-734ff42912ed"
      },
      "source": [
        "learn = language_model_learner(data_lm, AWD_LSTM, drop_mult=0.3)"
      ],
      "execution_count": 18,
      "outputs": [
        {
          "output_type": "stream",
          "text": [
            "A new version of the model is available.\n",
            "Downloading https://s3.amazonaws.com/fast-ai-modelzoo/wt103-fwd\n"
          ],
          "name": "stdout"
        },
        {
          "output_type": "display_data",
          "data": {
            "text/html": [
              "\n",
              "    <div>\n",
              "        <style>\n",
              "            /* Turns off some styling */\n",
              "            progress {\n",
              "                /* gets rid of default border in Firefox and Opera. */\n",
              "                border: none;\n",
              "                /* Needs to be in here for Safari polyfill so background images work as expected. */\n",
              "                background-size: auto;\n",
              "            }\n",
              "            .progress-bar-interrupted, .progress-bar-interrupted::-webkit-progress-bar {\n",
              "                background: #F44336;\n",
              "            }\n",
              "        </style>\n",
              "      <progress value='0' class='' max='105067061', style='width:300px; height:20px; vertical-align: middle;'></progress>\n",
              "      \n",
              "    </div>\n",
              "    "
            ],
            "text/plain": [
              "<IPython.core.display.HTML object>"
            ]
          },
          "metadata": {
            "tags": []
          }
        }
      ]
    },
    {
      "cell_type": "code",
      "metadata": {
        "id": "k4w1qsVrn1T3",
        "colab_type": "code",
        "colab": {
          "base_uri": "https://localhost:8080/",
          "height": 34
        },
        "outputId": "09c42d0e-4bbd-47bb-e321-2389262045f4"
      },
      "source": [
        "gc.collect()"
      ],
      "execution_count": 19,
      "outputs": [
        {
          "output_type": "execute_result",
          "data": {
            "text/plain": [
              "0"
            ]
          },
          "metadata": {
            "tags": []
          },
          "execution_count": 19
        }
      ]
    },
    {
      "cell_type": "code",
      "metadata": {
        "id": "0t2e8NiCn1T6",
        "colab_type": "code",
        "colab": {
          "base_uri": "https://localhost:8080/",
          "height": 34
        },
        "outputId": "961c1b24-b4b7-42aa-a0e9-8e9f394af3a9"
      },
      "source": [
        "learn.lr_find()"
      ],
      "execution_count": 20,
      "outputs": [
        {
          "output_type": "display_data",
          "data": {
            "text/html": [
              ""
            ],
            "text/plain": [
              "<IPython.core.display.HTML object>"
            ]
          },
          "metadata": {
            "tags": []
          }
        },
        {
          "output_type": "stream",
          "text": [
            "LR Finder is complete, type {learner_name}.recorder.plot() to see the graph.\n"
          ],
          "name": "stdout"
        }
      ]
    },
    {
      "cell_type": "code",
      "metadata": {
        "id": "nMYCVsvSn1T9",
        "colab_type": "code",
        "colab": {},
        "outputId": "9f7b6210-af0c-422c-d7a2-055f269b4583"
      },
      "source": [
        "learn.recorder.plot()"
      ],
      "execution_count": null,
      "outputs": [
        {
          "output_type": "display_data",
          "data": {
            "image/png": "[encoded data removed]",
            "text/plain": [
              "<Figure size 432x288 with 1 Axes>"
            ]
          },
          "metadata": {
            "tags": [],
            "needs_background": "light"
          }
        }
      ]
    },
    {
      "cell_type": "code",
      "metadata": {
        "id": "uRaZgTqin1T_",
        "colab_type": "code",
        "colab": {
          "base_uri": "https://localhost:8080/",
          "height": 80
        },
        "outputId": "3f0eb942-0d87-4660-bf5b-3383f0733f6f"
      },
      "source": [
        "learn.fit_one_cycle(1, 1e-2, moms=(0.8,0.7))"
      ],
      "execution_count": 21,
      "outputs": [
        {
          "output_type": "display_data",
          "data": {
            "text/html": [
              "<table border=\"1\" class=\"dataframe\">\n",
              "  <thead>\n",
              "    <tr style=\"text-align: left;\">\n",
              "      <th>epoch</th>\n",
              "      <th>train_loss</th>\n",
              "      <th>valid_loss</th>\n",
              "      <th>accuracy</th>\n",
              "      <th>time</th>\n",
              "    </tr>\n",
              "  </thead>\n",
              "  <tbody>\n",
              "    <tr>\n",
              "      <td>0</td>\n",
              "      <td>5.320145</td>\n",
              "      <td>5.169722</td>\n",
              "      <td>0.207704</td>\n",
              "      <td>03:54</td>\n",
              "    </tr>\n",
              "  </tbody>\n",
              "</table>"
            ],
            "text/plain": [
              "<IPython.core.display.HTML object>"
            ]
          },
          "metadata": {
            "tags": []
          }
        }
      ]
    },
    {
      "cell_type": "code",
      "metadata": {
        "id": "c9yaUs7Dn1UC",
        "colab_type": "code",
        "colab": {}
      },
      "source": [
        "learn.save('first', with_opt=True)"
      ],
      "execution_count": 22,
      "outputs": []
    },
    {
      "cell_type": "code",
      "metadata": {
        "id": "7GFwFkQAn1UE",
        "colab_type": "code",
        "colab": {}
      },
      "source": [
        "learn.load('first', with_opt=True);"
      ],
      "execution_count": 23,
      "outputs": []
    },
    {
      "cell_type": "code",
      "metadata": {
        "id": "xJXea5iBn1UH",
        "colab_type": "code",
        "colab": {}
      },
      "source": [
        "learn.unfreeze()"
      ],
      "execution_count": 24,
      "outputs": []
    },
    {
      "cell_type": "code",
      "metadata": {
        "id": "8bndf-e8n1UK",
        "colab_type": "code",
        "colab": {
          "base_uri": "https://localhost:8080/",
          "height": 204
        },
        "outputId": "1ac52287-709d-4ef5-e982-e982fc86e4ad"
      },
      "source": [
        "learn.fit_one_cycle(5, 1e-2, moms=(0.8,0.7))"
      ],
      "execution_count": 25,
      "outputs": [
        {
          "output_type": "display_data",
          "data": {
            "text/html": [
              "<table border=\"1\" class=\"dataframe\">\n",
              "  <thead>\n",
              "    <tr style=\"text-align: left;\">\n",
              "      <th>epoch</th>\n",
              "      <th>train_loss</th>\n",
              "      <th>valid_loss</th>\n",
              "      <th>accuracy</th>\n",
              "      <th>time</th>\n",
              "    </tr>\n",
              "  </thead>\n",
              "  <tbody>\n",
              "    <tr>\n",
              "      <td>0</td>\n",
              "      <td>4.616034</td>\n",
              "      <td>4.716401</td>\n",
              "      <td>0.242920</td>\n",
              "      <td>04:53</td>\n",
              "    </tr>\n",
              "    <tr>\n",
              "      <td>1</td>\n",
              "      <td>4.292662</td>\n",
              "      <td>4.435427</td>\n",
              "      <td>0.272956</td>\n",
              "      <td>04:57</td>\n",
              "    </tr>\n",
              "    <tr>\n",
              "      <td>2</td>\n",
              "      <td>3.994890</td>\n",
              "      <td>4.039202</td>\n",
              "      <td>0.321016</td>\n",
              "      <td>04:57</td>\n",
              "    </tr>\n",
              "    <tr>\n",
              "      <td>3</td>\n",
              "      <td>3.547452</td>\n",
              "      <td>3.656352</td>\n",
              "      <td>0.374645</td>\n",
              "      <td>04:57</td>\n",
              "    </tr>\n",
              "    <tr>\n",
              "      <td>4</td>\n",
              "      <td>3.153727</td>\n",
              "      <td>3.555925</td>\n",
              "      <td>0.392381</td>\n",
              "      <td>04:57</td>\n",
              "    </tr>\n",
              "  </tbody>\n",
              "</table>"
            ],
            "text/plain": [
              "<IPython.core.display.HTML object>"
            ]
          },
          "metadata": {
            "tags": []
          }
        }
      ]
    },
    {
      "cell_type": "code",
      "metadata": {
        "id": "tWcZwoVMn1UM",
        "colab_type": "code",
        "colab": {}
      },
      "source": [
        "learn.save('second_ml_lm', with_opt=True)"
      ],
      "execution_count": 26,
      "outputs": []
    },
    {
      "cell_type": "code",
      "metadata": {
        "id": "478gobgan1UO",
        "colab_type": "code",
        "colab": {}
      },
      "source": [
        "learn.load('second_ml_lm', with_opt=True);"
      ],
      "execution_count": 27,
      "outputs": []
    },
    {
      "cell_type": "code",
      "metadata": {
        "id": "GZKCdNbLn1UR",
        "colab_type": "code",
        "colab": {
          "base_uri": "https://localhost:8080/",
          "height": 1000
        },
        "outputId": "7fe84a09-8da1-464a-c0f5-f71b1e164c3c"
      },
      "source": [
        "learn.fit_one_cycle(40, 1e-3, moms=(0.8,0.7))"
      ],
      "execution_count": 30,
      "outputs": [
        {
          "output_type": "display_data",
          "data": {
            "text/html": [
              "<table border=\"1\" class=\"dataframe\">\n",
              "  <thead>\n",
              "    <tr style=\"text-align: left;\">\n",
              "      <th>epoch</th>\n",
              "      <th>train_loss</th>\n",
              "      <th>valid_loss</th>\n",
              "      <th>accuracy</th>\n",
              "      <th>time</th>\n",
              "    </tr>\n",
              "  </thead>\n",
              "  <tbody>\n",
              "    <tr>\n",
              "      <td>0</td>\n",
              "      <td>3.131536</td>\n",
              "      <td>3.551069</td>\n",
              "      <td>0.393701</td>\n",
              "      <td>04:57</td>\n",
              "    </tr>\n",
              "    <tr>\n",
              "      <td>1</td>\n",
              "      <td>3.135180</td>\n",
              "      <td>3.543151</td>\n",
              "      <td>0.395411</td>\n",
              "      <td>04:57</td>\n",
              "    </tr>\n",
              "    <tr>\n",
              "      <td>2</td>\n",
              "      <td>3.222759</td>\n",
              "      <td>3.526797</td>\n",
              "      <td>0.397630</td>\n",
              "      <td>04:57</td>\n",
              "    </tr>\n",
              "    <tr>\n",
              "      <td>3</td>\n",
              "      <td>3.141239</td>\n",
              "      <td>3.509689</td>\n",
              "      <td>0.400824</td>\n",
              "      <td>04:58</td>\n",
              "    </tr>\n",
              "    <tr>\n",
              "      <td>4</td>\n",
              "      <td>3.187061</td>\n",
              "      <td>3.485843</td>\n",
              "      <td>0.404872</td>\n",
              "      <td>04:58</td>\n",
              "    </tr>\n",
              "    <tr>\n",
              "      <td>5</td>\n",
              "      <td>3.007848</td>\n",
              "      <td>3.460825</td>\n",
              "      <td>0.408889</td>\n",
              "      <td>04:57</td>\n",
              "    </tr>\n",
              "    <tr>\n",
              "      <td>6</td>\n",
              "      <td>2.989048</td>\n",
              "      <td>3.438332</td>\n",
              "      <td>0.413262</td>\n",
              "      <td>04:58</td>\n",
              "    </tr>\n",
              "    <tr>\n",
              "      <td>7</td>\n",
              "      <td>3.030503</td>\n",
              "      <td>3.408356</td>\n",
              "      <td>0.418677</td>\n",
              "      <td>04:58</td>\n",
              "    </tr>\n",
              "    <tr>\n",
              "      <td>8</td>\n",
              "      <td>2.931909</td>\n",
              "      <td>3.380073</td>\n",
              "      <td>0.423970</td>\n",
              "      <td>04:58</td>\n",
              "    </tr>\n",
              "    <tr>\n",
              "      <td>9</td>\n",
              "      <td>2.976166</td>\n",
              "      <td>3.353133</td>\n",
              "      <td>0.429234</td>\n",
              "      <td>04:58</td>\n",
              "    </tr>\n",
              "    <tr>\n",
              "      <td>10</td>\n",
              "      <td>2.938027</td>\n",
              "      <td>3.322958</td>\n",
              "      <td>0.434814</td>\n",
              "      <td>04:58</td>\n",
              "    </tr>\n",
              "    <tr>\n",
              "      <td>11</td>\n",
              "      <td>2.967745</td>\n",
              "      <td>3.302486</td>\n",
              "      <td>0.439194</td>\n",
              "      <td>04:58</td>\n",
              "    </tr>\n",
              "    <tr>\n",
              "      <td>12</td>\n",
              "      <td>2.776341</td>\n",
              "      <td>3.277907</td>\n",
              "      <td>0.444687</td>\n",
              "      <td>04:58</td>\n",
              "    </tr>\n",
              "    <tr>\n",
              "      <td>13</td>\n",
              "      <td>2.770434</td>\n",
              "      <td>3.253533</td>\n",
              "      <td>0.449742</td>\n",
              "      <td>04:58</td>\n",
              "    </tr>\n",
              "    <tr>\n",
              "      <td>14</td>\n",
              "      <td>2.727103</td>\n",
              "      <td>3.234043</td>\n",
              "      <td>0.453815</td>\n",
              "      <td>04:58</td>\n",
              "    </tr>\n",
              "    <tr>\n",
              "      <td>15</td>\n",
              "      <td>2.638887</td>\n",
              "      <td>3.213580</td>\n",
              "      <td>0.458422</td>\n",
              "      <td>04:58</td>\n",
              "    </tr>\n",
              "    <tr>\n",
              "      <td>16</td>\n",
              "      <td>2.696338</td>\n",
              "      <td>3.190564</td>\n",
              "      <td>0.463189</td>\n",
              "      <td>04:58</td>\n",
              "    </tr>\n",
              "    <tr>\n",
              "      <td>17</td>\n",
              "      <td>2.662719</td>\n",
              "      <td>3.178207</td>\n",
              "      <td>0.467274</td>\n",
              "      <td>04:58</td>\n",
              "    </tr>\n",
              "    <tr>\n",
              "      <td>18</td>\n",
              "      <td>2.610730</td>\n",
              "      <td>3.163209</td>\n",
              "      <td>0.469884</td>\n",
              "      <td>04:58</td>\n",
              "    </tr>\n",
              "    <tr>\n",
              "      <td>19</td>\n",
              "      <td>2.524756</td>\n",
              "      <td>3.149675</td>\n",
              "      <td>0.473225</td>\n",
              "      <td>04:58</td>\n",
              "    </tr>\n",
              "    <tr>\n",
              "      <td>20</td>\n",
              "      <td>2.495587</td>\n",
              "      <td>3.135123</td>\n",
              "      <td>0.476851</td>\n",
              "      <td>04:58</td>\n",
              "    </tr>\n",
              "    <tr>\n",
              "      <td>21</td>\n",
              "      <td>2.503460</td>\n",
              "      <td>3.121202</td>\n",
              "      <td>0.479685</td>\n",
              "      <td>04:58</td>\n",
              "    </tr>\n",
              "    <tr>\n",
              "      <td>22</td>\n",
              "      <td>2.600522</td>\n",
              "      <td>3.108968</td>\n",
              "      <td>0.482069</td>\n",
              "      <td>04:58</td>\n",
              "    </tr>\n",
              "    <tr>\n",
              "      <td>23</td>\n",
              "      <td>2.499932</td>\n",
              "      <td>3.103553</td>\n",
              "      <td>0.484781</td>\n",
              "      <td>04:58</td>\n",
              "    </tr>\n",
              "    <tr>\n",
              "      <td>24</td>\n",
              "      <td>2.504970</td>\n",
              "      <td>3.092736</td>\n",
              "      <td>0.487314</td>\n",
              "      <td>04:58</td>\n",
              "    </tr>\n",
              "    <tr>\n",
              "      <td>25</td>\n",
              "      <td>2.386357</td>\n",
              "      <td>3.087775</td>\n",
              "      <td>0.489481</td>\n",
              "      <td>04:58</td>\n",
              "    </tr>\n",
              "    <tr>\n",
              "      <td>26</td>\n",
              "      <td>2.311937</td>\n",
              "      <td>3.078223</td>\n",
              "      <td>0.491471</td>\n",
              "      <td>04:58</td>\n",
              "    </tr>\n",
              "    <tr>\n",
              "      <td>27</td>\n",
              "      <td>2.371817</td>\n",
              "      <td>3.072309</td>\n",
              "      <td>0.492869</td>\n",
              "      <td>04:58</td>\n",
              "    </tr>\n",
              "    <tr>\n",
              "      <td>28</td>\n",
              "      <td>2.459195</td>\n",
              "      <td>3.066876</td>\n",
              "      <td>0.494716</td>\n",
              "      <td>04:58</td>\n",
              "    </tr>\n",
              "    <tr>\n",
              "      <td>29</td>\n",
              "      <td>2.329390</td>\n",
              "      <td>3.059173</td>\n",
              "      <td>0.496286</td>\n",
              "      <td>04:58</td>\n",
              "    </tr>\n",
              "    <tr>\n",
              "      <td>30</td>\n",
              "      <td>2.280540</td>\n",
              "      <td>3.057855</td>\n",
              "      <td>0.497326</td>\n",
              "      <td>04:58</td>\n",
              "    </tr>\n",
              "    <tr>\n",
              "      <td>31</td>\n",
              "      <td>2.239609</td>\n",
              "      <td>3.053461</td>\n",
              "      <td>0.498359</td>\n",
              "      <td>04:58</td>\n",
              "    </tr>\n",
              "    <tr>\n",
              "      <td>32</td>\n",
              "      <td>2.244890</td>\n",
              "      <td>3.052901</td>\n",
              "      <td>0.499159</td>\n",
              "      <td>04:58</td>\n",
              "    </tr>\n",
              "    <tr>\n",
              "      <td>33</td>\n",
              "      <td>2.346315</td>\n",
              "      <td>3.049518</td>\n",
              "      <td>0.499699</td>\n",
              "      <td>04:58</td>\n",
              "    </tr>\n",
              "    <tr>\n",
              "      <td>34</td>\n",
              "      <td>2.281551</td>\n",
              "      <td>3.046763</td>\n",
              "      <td>0.500068</td>\n",
              "      <td>04:58</td>\n",
              "    </tr>\n",
              "    <tr>\n",
              "      <td>35</td>\n",
              "      <td>2.159464</td>\n",
              "      <td>3.047960</td>\n",
              "      <td>0.500453</td>\n",
              "      <td>04:58</td>\n",
              "    </tr>\n",
              "    <tr>\n",
              "      <td>36</td>\n",
              "      <td>2.175610</td>\n",
              "      <td>3.047085</td>\n",
              "      <td>0.500663</td>\n",
              "      <td>04:58</td>\n",
              "    </tr>\n",
              "    <tr>\n",
              "      <td>37</td>\n",
              "      <td>2.066239</td>\n",
              "      <td>3.046371</td>\n",
              "      <td>0.500789</td>\n",
              "      <td>04:58</td>\n",
              "    </tr>\n",
              "    <tr>\n",
              "      <td>38</td>\n",
              "      <td>2.173280</td>\n",
              "      <td>3.045957</td>\n",
              "      <td>0.500841</td>\n",
              "      <td>04:59</td>\n",
              "    </tr>\n",
              "    <tr>\n",
              "      <td>39</td>\n",
              "      <td>2.216558</td>\n",
              "      <td>3.045890</td>\n",
              "      <td>0.500847</td>\n",
              "      <td>04:59</td>\n",
              "    </tr>\n",
              "  </tbody>\n",
              "</table>"
            ],
            "text/plain": [
              "<IPython.core.display.HTML object>"
            ]
          },
          "metadata": {
            "tags": []
          }
        }
      ]
    },
    {
      "cell_type": "code",
      "metadata": {
        "id": "ADCHjETan1UV",
        "colab_type": "code",
        "colab": {}
      },
      "source": [
        "learn.save('third_ml_lm', with_opt=True)"
      ],
      "execution_count": 31,
      "outputs": []
    },
    {
      "cell_type": "code",
      "metadata": {
        "id": "pHqla28Hn1UX",
        "colab_type": "code",
        "colab": {}
      },
      "source": [
        "learn.load('third_ml_lm', with_opt=True);"
      ],
      "execution_count": 32,
      "outputs": []
    },
    {
      "cell_type": "code",
      "metadata": {
        "id": "70MGcqrxx5DP",
        "colab_type": "code",
        "colab": {}
      },
      "source": [
        ""
      ],
      "execution_count": null,
      "outputs": []
    },
    {
      "cell_type": "code",
      "metadata": {
        "id": "jY8gcIGRn1UZ",
        "colab_type": "code",
        "colab": {}
      },
      "source": [
        "TEXT = \"ബംഗാളിലെ ▁ഭരണം ▁കമ്പനി\"\n",
        "N_WORDS = 40\n",
        "N_SENTENCES = 2"
      ],
      "execution_count": 33,
      "outputs": []
    },
    {
      "cell_type": "code",
      "metadata": {
        "id": "_F2WzmZEn1Ub",
        "colab_type": "code",
        "colab": {
          "base_uri": "https://localhost:8080/",
          "height": 71
        },
        "outputId": "8e89a13c-8ca4-49d5-a198-22220c2ad0af"
      },
      "source": [
        "print(\"\\n\".join(learn.predict(TEXT, N_WORDS, temperature=0.75) for _ in range(N_SENTENCES)))"
      ],
      "execution_count": 34,
      "outputs": [
        {
          "output_type": "stream",
          "text": [
            "ബംഗാളിലെ ▁ഭരണം ▁കമ്പനി ക്ക് ▁നേരിട്ട് ▁ഭരണ പരി ശീല ന ത ▁അഥവാ ▁കട പ്പ ത്ര ങ്ങൾ ▁പുറപ്പെടുവിക്ക ാൻ ▁കമ്പനി ക്കു ▁കഴിഞ്ഞു . ▁കച്ചവട ം ▁എളുപ്പ ം ▁ഒ ത്തു ▁പോകുന്ന തോ ▁ആയ ▁എല്ലാ ▁വസ്തുവ ും ▁ത ിട്ട പ്പെടുത്തി യാണ് ▁സാധനങ്ങൾ ▁വാങ്ങ ുക , ▁ചെലവ ു\n",
            "ബംഗാളിലെ ▁ഭരണം ▁കമ്പനി ക്ക് ▁ഇന്ത്യൻ ▁ഭരണാധികാരി കൾ ▁നൽകിയ ▁രാജ്ഞി യാണ് ▁ഈസ്റ്റ് ▁ഇന്ത്യാ ▁കമ്പനി . ▁മുഗൾ ▁ചക്രവർത്തി യായ ▁ബഹാദൂർ ഷാ ▁സ ഫ റിന്റെ ▁ഭരണകാലത്ത് , ▁മുഗൾ ▁ചക്രവർത്തി യായ ▁ഫറൂഖ് ▁സി യാർ ▁അലി , യാർ ക്ക ൽ ▁എന്നിവർ ▁16 11 - ൽ ▁പു ത്തേ ട\n"
          ],
          "name": "stdout"
        }
      ]
    },
    {
      "cell_type": "code",
      "metadata": {
        "id": "zlzPbzyQn1Ue",
        "colab_type": "code",
        "colab": {
          "base_uri": "https://localhost:8080/",
          "height": 34
        },
        "outputId": "aa1cbe21-dbfa-4562-84df-ed3e4d1948ca"
      },
      "source": [
        "np.exp(3.273)"
      ],
      "execution_count": 35,
      "outputs": [
        {
          "output_type": "execute_result",
          "data": {
            "text/plain": [
              "26.39039188081262"
            ]
          },
          "metadata": {
            "tags": []
          },
          "execution_count": 35
        }
      ]
    },
    {
      "cell_type": "code",
      "metadata": {
        "id": "_opdjODQyEc5",
        "colab_type": "code",
        "colab": {
          "base_uri": "https://localhost:8080/",
          "height": 17
        },
        "outputId": "18f2f350-dfd2-41d0-d976-710204ead7d4"
      },
      "source": [
        "from google.colab import files\n",
        "files.download('embeddings_metadata.tsv')"
      ],
      "execution_count": 65,
      "outputs": [
        {
          "output_type": "display_data",
          "data": {
            "application/javascript": [
              "\n",
              "    async function download(id, filename, size) {\n",
              "      if (!google.colab.kernel.accessAllowed) {\n",
              "        return;\n",
              "      }\n",
              "      const div = document.createElement('div');\n",
              "      const label = document.createElement('label');\n",
              "      label.textContent = `Downloading \"${filename}\": `;\n",
              "      div.appendChild(label);\n",
              "      const progress = document.createElement('progress');\n",
              "      progress.max = size;\n",
              "      div.appendChild(progress);\n",
              "      document.body.appendChild(div);\n",
              "\n",
              "      const buffers = [];\n",
              "      let downloaded = 0;\n",
              "\n",
              "      const channel = await google.colab.kernel.comms.open(id);\n",
              "      // Send a message to notify the kernel that we're ready.\n",
              "      channel.send({})\n",
              "\n",
              "      for await (const message of channel.messages) {\n",
              "        // Send a message to notify the kernel that we're ready.\n",
              "        channel.send({})\n",
              "        if (message.buffers) {\n",
              "          for (const buffer of message.buffers) {\n",
              "            buffers.push(buffer);\n",
              "            downloaded += buffer.byteLength;\n",
              "            progress.value = downloaded;\n",
              "          }\n",
              "        }\n",
              "      }\n",
              "      const blob = new Blob(buffers, {type: 'application/binary'});\n",
              "      const a = document.createElement('a');\n",
              "      a.href = window.URL.createObjectURL(blob);\n",
              "      a.download = filename;\n",
              "      div.appendChild(a);\n",
              "      a.click();\n",
              "      div.remove();\n",
              "    }\n",
              "  "
            ],
            "text/plain": [
              "<IPython.core.display.Javascript object>"
            ]
          },
          "metadata": {
            "tags": []
          }
        },
        {
          "output_type": "display_data",
          "data": {
            "application/javascript": [
              "download(\"download_215ea970-e3cb-470a-8583-23441d043cca\", \"embeddings_metadata.tsv\", 206241)"
            ],
            "text/plain": [
              "<IPython.core.display.Javascript object>"
            ]
          },
          "metadata": {
            "tags": []
          }
        }
      ]
    },
    {
      "cell_type": "code",
      "metadata": {
        "id": "TLkCFP_5n1Ug",
        "colab_type": "code",
        "colab": {}
      },
      "source": [
        "defaults.device = torch.device('cpu')\n",
        "learn.model.eval()\n",
        "learn.export()"
      ],
      "execution_count": 45,
      "outputs": []
    },
    {
      "cell_type": "code",
      "metadata": {
        "id": "TrDjN5Rkn1Ui",
        "colab_type": "code",
        "colab": {}
      },
      "source": [
        "# Generating embedding vectors for visualization"
      ],
      "execution_count": null,
      "outputs": []
    },
    {
      "cell_type": "code",
      "metadata": {
        "id": "CQWt51qZn1Uk",
        "colab_type": "code",
        "colab": {
          "base_uri": "https://localhost:8080/",
          "height": 35
        },
        "outputId": "e0443f6b-8eed-4bc0-fd34-d14986fb67bc"
      },
      "source": [
        "path"
      ],
      "execution_count": 46,
      "outputs": [
        {
          "output_type": "execute_result",
          "data": {
            "application/vnd.google.colaboratory.intrinsic+json": {
              "type": "string"
            },
            "text/plain": [
              "'/content/drive/My Drive/Dataset/third_ml_lm.pt'"
            ]
          },
          "metadata": {
            "tags": []
          },
          "execution_count": 46
        }
      ]
    },
    {
      "cell_type": "code",
      "metadata": {
        "id": "Mk4g-_IJn1Um",
        "colab_type": "code",
        "colab": {}
      },
      "source": [
        "defaults.device = torch.device('cpu')"
      ],
      "execution_count": 47,
      "outputs": []
    },
    {
      "cell_type": "code",
      "metadata": {
        "id": "wzCsud_7n1Up",
        "colab_type": "code",
        "colab": {
          "base_uri": "https://localhost:8080/",
          "height": 17
        },
        "outputId": "77379aa9-badc-437e-c6cd-ee97ebf4dbe6"
      },
      "source": [
        "learn = load_learner(\"/content/MalayalamDataset/\")"
      ],
      "execution_count": 49,
      "outputs": [
        {
          "output_type": "display_data",
          "data": {
            "text/html": [
              ""
            ],
            "text/plain": [
              "<IPython.core.display.HTML object>"
            ]
          },
          "metadata": {
            "tags": []
          }
        },
        {
          "output_type": "display_data",
          "data": {
            "text/html": [
              ""
            ],
            "text/plain": [
              "<IPython.core.display.HTML object>"
            ]
          },
          "metadata": {
            "tags": []
          }
        }
      ]
    },
    {
      "cell_type": "code",
      "metadata": {
        "id": "VNGz9SEdn1Us",
        "colab_type": "code",
        "colab": {}
      },
      "source": [
        "encoder = get_model(learn.model)[0]"
      ],
      "execution_count": 50,
      "outputs": []
    },
    {
      "cell_type": "code",
      "metadata": {
        "id": "sDHgc6lbn1Uu",
        "colab_type": "code",
        "colab": {
          "base_uri": "https://localhost:8080/",
          "height": 34
        },
        "outputId": "c19e84c9-0b84-40d4-b54f-23ed96090754"
      },
      "source": [
        "encoder.state_dict()['encoder.weight'].shape"
      ],
      "execution_count": 51,
      "outputs": [
        {
          "output_type": "execute_result",
          "data": {
            "text/plain": [
              "torch.Size([10000, 400])"
            ]
          },
          "metadata": {
            "tags": []
          },
          "execution_count": 51
        }
      ]
    },
    {
      "cell_type": "code",
      "metadata": {
        "id": "FCsZUZehn1Uw",
        "colab_type": "code",
        "colab": {}
      },
      "source": [
        "embeddings = encoder.state_dict()['encoder.weight']"
      ],
      "execution_count": 52,
      "outputs": []
    },
    {
      "cell_type": "code",
      "metadata": {
        "id": "kkj7zRpWn1Uz",
        "colab_type": "code",
        "colab": {}
      },
      "source": [
        "embeddings = np.array(embeddings)"
      ],
      "execution_count": 53,
      "outputs": []
    },
    {
      "cell_type": "code",
      "metadata": {
        "id": "3jZX3Znjn1U2",
        "colab_type": "code",
        "colab": {
          "base_uri": "https://localhost:8080/",
          "height": 34
        },
        "outputId": "264341df-8dcf-4e4d-908f-e05f6b9dac25"
      },
      "source": [
        "embeddings[0].shape"
      ],
      "execution_count": 54,
      "outputs": [
        {
          "output_type": "execute_result",
          "data": {
            "text/plain": [
              "(400,)"
            ]
          },
          "metadata": {
            "tags": []
          },
          "execution_count": 54
        }
      ]
    },
    {
      "cell_type": "code",
      "metadata": {
        "id": "tC4AyiUpn1U4",
        "colab_type": "code",
        "colab": {}
      },
      "source": [
        "df = pd.DataFrame(embeddings)"
      ],
      "execution_count": 55,
      "outputs": []
    },
    {
      "cell_type": "code",
      "metadata": {
        "id": "mczZrtGZn1U6",
        "colab_type": "code",
        "colab": {
          "base_uri": "https://localhost:8080/",
          "height": 253
        },
        "outputId": "20cd83f1-ec0f-4c96-b823-1884e9ddb63d"
      },
      "source": [
        "df.head()"
      ],
      "execution_count": 56,
      "outputs": [
        {
          "output_type": "execute_result",
          "data": {
            "text/html": [
              "<div>\n",
              "<style scoped>\n",
              "    .dataframe tbody tr th:only-of-type {\n",
              "        vertical-align: middle;\n",
              "    }\n",
              "\n",
              "    .dataframe tbody tr th {\n",
              "        vertical-align: top;\n",
              "    }\n",
              "\n",
              "    .dataframe thead th {\n",
              "        text-align: right;\n",
              "    }\n",
              "</style>\n",
              "<table border=\"1\" class=\"dataframe\">\n",
              "  <thead>\n",
              "    <tr style=\"text-align: right;\">\n",
              "      <th></th>\n",
              "      <th>0</th>\n",
              "      <th>1</th>\n",
              "      <th>2</th>\n",
              "      <th>3</th>\n",
              "      <th>4</th>\n",
              "      <th>5</th>\n",
              "      <th>6</th>\n",
              "      <th>7</th>\n",
              "      <th>8</th>\n",
              "      <th>9</th>\n",
              "      <th>10</th>\n",
              "      <th>11</th>\n",
              "      <th>12</th>\n",
              "      <th>13</th>\n",
              "      <th>14</th>\n",
              "      <th>15</th>\n",
              "      <th>16</th>\n",
              "      <th>17</th>\n",
              "      <th>18</th>\n",
              "      <th>19</th>\n",
              "      <th>20</th>\n",
              "      <th>21</th>\n",
              "      <th>22</th>\n",
              "      <th>23</th>\n",
              "      <th>24</th>\n",
              "      <th>25</th>\n",
              "      <th>26</th>\n",
              "      <th>27</th>\n",
              "      <th>28</th>\n",
              "      <th>29</th>\n",
              "      <th>30</th>\n",
              "      <th>31</th>\n",
              "      <th>32</th>\n",
              "      <th>33</th>\n",
              "      <th>34</th>\n",
              "      <th>35</th>\n",
              "      <th>36</th>\n",
              "      <th>37</th>\n",
              "      <th>38</th>\n",
              "      <th>39</th>\n",
              "      <th>...</th>\n",
              "      <th>360</th>\n",
              "      <th>361</th>\n",
              "      <th>362</th>\n",
              "      <th>363</th>\n",
              "      <th>364</th>\n",
              "      <th>365</th>\n",
              "      <th>366</th>\n",
              "      <th>367</th>\n",
              "      <th>368</th>\n",
              "      <th>369</th>\n",
              "      <th>370</th>\n",
              "      <th>371</th>\n",
              "      <th>372</th>\n",
              "      <th>373</th>\n",
              "      <th>374</th>\n",
              "      <th>375</th>\n",
              "      <th>376</th>\n",
              "      <th>377</th>\n",
              "      <th>378</th>\n",
              "      <th>379</th>\n",
              "      <th>380</th>\n",
              "      <th>381</th>\n",
              "      <th>382</th>\n",
              "      <th>383</th>\n",
              "      <th>384</th>\n",
              "      <th>385</th>\n",
              "      <th>386</th>\n",
              "      <th>387</th>\n",
              "      <th>388</th>\n",
              "      <th>389</th>\n",
              "      <th>390</th>\n",
              "      <th>391</th>\n",
              "      <th>392</th>\n",
              "      <th>393</th>\n",
              "      <th>394</th>\n",
              "      <th>395</th>\n",
              "      <th>396</th>\n",
              "      <th>397</th>\n",
              "      <th>398</th>\n",
              "      <th>399</th>\n",
              "    </tr>\n",
              "  </thead>\n",
              "  <tbody>\n",
              "    <tr>\n",
              "      <th>0</th>\n",
              "      <td>-0.297892</td>\n",
              "      <td>-0.331972</td>\n",
              "      <td>0.070217</td>\n",
              "      <td>-0.155268</td>\n",
              "      <td>0.088603</td>\n",
              "      <td>0.212060</td>\n",
              "      <td>-0.081518</td>\n",
              "      <td>-0.678269</td>\n",
              "      <td>0.443123</td>\n",
              "      <td>0.481482</td>\n",
              "      <td>0.315815</td>\n",
              "      <td>-0.203421</td>\n",
              "      <td>-0.165445</td>\n",
              "      <td>0.028046</td>\n",
              "      <td>-0.272020</td>\n",
              "      <td>-0.896118</td>\n",
              "      <td>-0.405184</td>\n",
              "      <td>-0.234428</td>\n",
              "      <td>0.657030</td>\n",
              "      <td>0.186306</td>\n",
              "      <td>-0.169072</td>\n",
              "      <td>-0.209766</td>\n",
              "      <td>0.459631</td>\n",
              "      <td>0.722605</td>\n",
              "      <td>0.040651</td>\n",
              "      <td>-0.332693</td>\n",
              "      <td>-0.838987</td>\n",
              "      <td>-0.439200</td>\n",
              "      <td>-0.242361</td>\n",
              "      <td>-0.174896</td>\n",
              "      <td>0.231726</td>\n",
              "      <td>-0.585824</td>\n",
              "      <td>-0.260508</td>\n",
              "      <td>-0.375084</td>\n",
              "      <td>-0.306219</td>\n",
              "      <td>-0.306037</td>\n",
              "      <td>-0.327202</td>\n",
              "      <td>0.105402</td>\n",
              "      <td>0.198313</td>\n",
              "      <td>0.256535</td>\n",
              "      <td>...</td>\n",
              "      <td>-0.258957</td>\n",
              "      <td>-0.223616</td>\n",
              "      <td>0.377921</td>\n",
              "      <td>0.153783</td>\n",
              "      <td>-0.370866</td>\n",
              "      <td>-0.066235</td>\n",
              "      <td>-0.211417</td>\n",
              "      <td>0.063589</td>\n",
              "      <td>0.359449</td>\n",
              "      <td>0.011164</td>\n",
              "      <td>-0.782443</td>\n",
              "      <td>-0.164221</td>\n",
              "      <td>0.444226</td>\n",
              "      <td>-0.208292</td>\n",
              "      <td>-0.590227</td>\n",
              "      <td>0.866036</td>\n",
              "      <td>0.384420</td>\n",
              "      <td>0.240762</td>\n",
              "      <td>-0.086002</td>\n",
              "      <td>0.450606</td>\n",
              "      <td>-0.020360</td>\n",
              "      <td>-0.309999</td>\n",
              "      <td>-0.971045</td>\n",
              "      <td>0.073235</td>\n",
              "      <td>0.313045</td>\n",
              "      <td>-0.227954</td>\n",
              "      <td>0.270208</td>\n",
              "      <td>0.148950</td>\n",
              "      <td>0.219008</td>\n",
              "      <td>0.043542</td>\n",
              "      <td>0.045815</td>\n",
              "      <td>-0.623455</td>\n",
              "      <td>0.155058</td>\n",
              "      <td>0.254963</td>\n",
              "      <td>0.108806</td>\n",
              "      <td>-0.169915</td>\n",
              "      <td>0.552329</td>\n",
              "      <td>0.108223</td>\n",
              "      <td>0.739517</td>\n",
              "      <td>-0.409220</td>\n",
              "    </tr>\n",
              "    <tr>\n",
              "      <th>1</th>\n",
              "      <td>-0.160646</td>\n",
              "      <td>0.058475</td>\n",
              "      <td>0.054121</td>\n",
              "      <td>-0.071808</td>\n",
              "      <td>-0.250778</td>\n",
              "      <td>-0.340755</td>\n",
              "      <td>-0.026287</td>\n",
              "      <td>0.976310</td>\n",
              "      <td>-0.105371</td>\n",
              "      <td>-0.703556</td>\n",
              "      <td>-0.518588</td>\n",
              "      <td>0.064164</td>\n",
              "      <td>-0.382735</td>\n",
              "      <td>0.090043</td>\n",
              "      <td>0.126611</td>\n",
              "      <td>0.535767</td>\n",
              "      <td>0.438305</td>\n",
              "      <td>-0.281677</td>\n",
              "      <td>-0.848302</td>\n",
              "      <td>0.033281</td>\n",
              "      <td>-0.279764</td>\n",
              "      <td>-0.233857</td>\n",
              "      <td>-0.223170</td>\n",
              "      <td>-0.417064</td>\n",
              "      <td>-0.030521</td>\n",
              "      <td>0.032029</td>\n",
              "      <td>0.431749</td>\n",
              "      <td>-0.049039</td>\n",
              "      <td>-0.190830</td>\n",
              "      <td>-0.141212</td>\n",
              "      <td>-0.284958</td>\n",
              "      <td>-0.051619</td>\n",
              "      <td>0.713426</td>\n",
              "      <td>0.303255</td>\n",
              "      <td>0.353171</td>\n",
              "      <td>-0.302841</td>\n",
              "      <td>0.279728</td>\n",
              "      <td>0.026623</td>\n",
              "      <td>-0.570567</td>\n",
              "      <td>-0.037099</td>\n",
              "      <td>...</td>\n",
              "      <td>0.122340</td>\n",
              "      <td>0.308201</td>\n",
              "      <td>-0.369601</td>\n",
              "      <td>0.174132</td>\n",
              "      <td>-0.021707</td>\n",
              "      <td>-0.238341</td>\n",
              "      <td>0.451136</td>\n",
              "      <td>-0.034573</td>\n",
              "      <td>0.056281</td>\n",
              "      <td>-0.403181</td>\n",
              "      <td>0.387160</td>\n",
              "      <td>-0.202737</td>\n",
              "      <td>-0.209898</td>\n",
              "      <td>0.175677</td>\n",
              "      <td>0.316413</td>\n",
              "      <td>-0.190761</td>\n",
              "      <td>-0.488649</td>\n",
              "      <td>0.152949</td>\n",
              "      <td>-0.618381</td>\n",
              "      <td>-0.083623</td>\n",
              "      <td>-0.266157</td>\n",
              "      <td>-0.127658</td>\n",
              "      <td>0.305128</td>\n",
              "      <td>-0.431592</td>\n",
              "      <td>0.001313</td>\n",
              "      <td>0.458120</td>\n",
              "      <td>0.141384</td>\n",
              "      <td>0.034727</td>\n",
              "      <td>-0.068478</td>\n",
              "      <td>0.186345</td>\n",
              "      <td>0.450472</td>\n",
              "      <td>0.352687</td>\n",
              "      <td>0.505219</td>\n",
              "      <td>0.125074</td>\n",
              "      <td>0.297361</td>\n",
              "      <td>0.330581</td>\n",
              "      <td>-0.334927</td>\n",
              "      <td>0.231883</td>\n",
              "      <td>0.002418</td>\n",
              "      <td>0.043382</td>\n",
              "    </tr>\n",
              "    <tr>\n",
              "      <th>2</th>\n",
              "      <td>-0.160646</td>\n",
              "      <td>0.058475</td>\n",
              "      <td>0.054121</td>\n",
              "      <td>-0.071808</td>\n",
              "      <td>-0.250778</td>\n",
              "      <td>-0.340755</td>\n",
              "      <td>-0.026287</td>\n",
              "      <td>0.976310</td>\n",
              "      <td>-0.105371</td>\n",
              "      <td>-0.703556</td>\n",
              "      <td>-0.518588</td>\n",
              "      <td>0.064164</td>\n",
              "      <td>-0.382735</td>\n",
              "      <td>0.090043</td>\n",
              "      <td>0.126611</td>\n",
              "      <td>0.535767</td>\n",
              "      <td>0.438305</td>\n",
              "      <td>-0.281677</td>\n",
              "      <td>-0.848302</td>\n",
              "      <td>0.033281</td>\n",
              "      <td>-0.279764</td>\n",
              "      <td>-0.233857</td>\n",
              "      <td>-0.223170</td>\n",
              "      <td>-0.417064</td>\n",
              "      <td>-0.030521</td>\n",
              "      <td>0.032029</td>\n",
              "      <td>0.431749</td>\n",
              "      <td>-0.049039</td>\n",
              "      <td>-0.190830</td>\n",
              "      <td>-0.141212</td>\n",
              "      <td>-0.284958</td>\n",
              "      <td>-0.051619</td>\n",
              "      <td>0.713426</td>\n",
              "      <td>0.303255</td>\n",
              "      <td>0.353171</td>\n",
              "      <td>-0.302841</td>\n",
              "      <td>0.279728</td>\n",
              "      <td>0.026623</td>\n",
              "      <td>-0.570567</td>\n",
              "      <td>-0.037099</td>\n",
              "      <td>...</td>\n",
              "      <td>0.122340</td>\n",
              "      <td>0.308201</td>\n",
              "      <td>-0.369601</td>\n",
              "      <td>0.174132</td>\n",
              "      <td>-0.021707</td>\n",
              "      <td>-0.238341</td>\n",
              "      <td>0.451136</td>\n",
              "      <td>-0.034573</td>\n",
              "      <td>0.056281</td>\n",
              "      <td>-0.403181</td>\n",
              "      <td>0.387160</td>\n",
              "      <td>-0.202737</td>\n",
              "      <td>-0.209898</td>\n",
              "      <td>0.175677</td>\n",
              "      <td>0.316413</td>\n",
              "      <td>-0.190761</td>\n",
              "      <td>-0.488649</td>\n",
              "      <td>0.152949</td>\n",
              "      <td>-0.618381</td>\n",
              "      <td>-0.083623</td>\n",
              "      <td>-0.266157</td>\n",
              "      <td>-0.127658</td>\n",
              "      <td>0.305128</td>\n",
              "      <td>-0.431592</td>\n",
              "      <td>0.001313</td>\n",
              "      <td>0.458120</td>\n",
              "      <td>0.141384</td>\n",
              "      <td>0.034727</td>\n",
              "      <td>-0.068478</td>\n",
              "      <td>0.186345</td>\n",
              "      <td>0.450472</td>\n",
              "      <td>0.352687</td>\n",
              "      <td>0.505219</td>\n",
              "      <td>0.125074</td>\n",
              "      <td>0.297361</td>\n",
              "      <td>0.330581</td>\n",
              "      <td>-0.334927</td>\n",
              "      <td>0.231883</td>\n",
              "      <td>0.002418</td>\n",
              "      <td>0.043382</td>\n",
              "    </tr>\n",
              "    <tr>\n",
              "      <th>3</th>\n",
              "      <td>0.089373</td>\n",
              "      <td>-0.726966</td>\n",
              "      <td>0.240312</td>\n",
              "      <td>0.238689</td>\n",
              "      <td>-0.173341</td>\n",
              "      <td>0.053705</td>\n",
              "      <td>0.189028</td>\n",
              "      <td>-0.631315</td>\n",
              "      <td>0.123770</td>\n",
              "      <td>0.114347</td>\n",
              "      <td>0.014590</td>\n",
              "      <td>-0.032883</td>\n",
              "      <td>0.103078</td>\n",
              "      <td>0.351412</td>\n",
              "      <td>0.165508</td>\n",
              "      <td>0.183400</td>\n",
              "      <td>0.526711</td>\n",
              "      <td>0.193238</td>\n",
              "      <td>-0.332156</td>\n",
              "      <td>0.223156</td>\n",
              "      <td>-0.538613</td>\n",
              "      <td>-0.297137</td>\n",
              "      <td>0.505826</td>\n",
              "      <td>-0.095857</td>\n",
              "      <td>0.046667</td>\n",
              "      <td>1.441607</td>\n",
              "      <td>0.698710</td>\n",
              "      <td>0.150078</td>\n",
              "      <td>0.116360</td>\n",
              "      <td>-0.176172</td>\n",
              "      <td>-0.256836</td>\n",
              "      <td>0.312506</td>\n",
              "      <td>-0.737269</td>\n",
              "      <td>-0.003781</td>\n",
              "      <td>0.156800</td>\n",
              "      <td>0.021490</td>\n",
              "      <td>0.880053</td>\n",
              "      <td>0.072431</td>\n",
              "      <td>0.236686</td>\n",
              "      <td>-0.301657</td>\n",
              "      <td>...</td>\n",
              "      <td>0.224969</td>\n",
              "      <td>0.028987</td>\n",
              "      <td>-0.091331</td>\n",
              "      <td>0.630065</td>\n",
              "      <td>-0.429590</td>\n",
              "      <td>0.580563</td>\n",
              "      <td>0.424881</td>\n",
              "      <td>-0.164270</td>\n",
              "      <td>-0.371390</td>\n",
              "      <td>0.324348</td>\n",
              "      <td>-0.638957</td>\n",
              "      <td>0.529030</td>\n",
              "      <td>-0.141204</td>\n",
              "      <td>-1.243168</td>\n",
              "      <td>-0.202424</td>\n",
              "      <td>-0.290571</td>\n",
              "      <td>0.395240</td>\n",
              "      <td>-0.239927</td>\n",
              "      <td>0.572965</td>\n",
              "      <td>-0.287631</td>\n",
              "      <td>0.161046</td>\n",
              "      <td>0.081109</td>\n",
              "      <td>-0.050074</td>\n",
              "      <td>0.254225</td>\n",
              "      <td>0.253358</td>\n",
              "      <td>0.101367</td>\n",
              "      <td>-0.291929</td>\n",
              "      <td>0.839176</td>\n",
              "      <td>-0.634233</td>\n",
              "      <td>0.551641</td>\n",
              "      <td>0.115260</td>\n",
              "      <td>0.748270</td>\n",
              "      <td>0.173258</td>\n",
              "      <td>-0.036200</td>\n",
              "      <td>0.390018</td>\n",
              "      <td>-0.854705</td>\n",
              "      <td>-0.288600</td>\n",
              "      <td>-0.133843</td>\n",
              "      <td>0.282715</td>\n",
              "      <td>-0.127278</td>\n",
              "    </tr>\n",
              "    <tr>\n",
              "      <th>4</th>\n",
              "      <td>-0.033075</td>\n",
              "      <td>-0.850733</td>\n",
              "      <td>-0.047078</td>\n",
              "      <td>0.176574</td>\n",
              "      <td>0.018427</td>\n",
              "      <td>0.099038</td>\n",
              "      <td>0.085553</td>\n",
              "      <td>-0.562514</td>\n",
              "      <td>0.277020</td>\n",
              "      <td>0.244884</td>\n",
              "      <td>0.339492</td>\n",
              "      <td>-0.144493</td>\n",
              "      <td>0.117615</td>\n",
              "      <td>0.221814</td>\n",
              "      <td>-0.133400</td>\n",
              "      <td>-0.590753</td>\n",
              "      <td>-0.866454</td>\n",
              "      <td>0.318123</td>\n",
              "      <td>0.350842</td>\n",
              "      <td>0.180032</td>\n",
              "      <td>-0.079521</td>\n",
              "      <td>0.138312</td>\n",
              "      <td>0.067843</td>\n",
              "      <td>0.435829</td>\n",
              "      <td>0.049067</td>\n",
              "      <td>2.183836</td>\n",
              "      <td>0.482804</td>\n",
              "      <td>-0.026571</td>\n",
              "      <td>-0.257208</td>\n",
              "      <td>-0.165102</td>\n",
              "      <td>0.113736</td>\n",
              "      <td>-0.054586</td>\n",
              "      <td>-0.341303</td>\n",
              "      <td>0.216442</td>\n",
              "      <td>-0.041792</td>\n",
              "      <td>0.163283</td>\n",
              "      <td>0.225472</td>\n",
              "      <td>-0.189010</td>\n",
              "      <td>0.165899</td>\n",
              "      <td>-0.131240</td>\n",
              "      <td>...</td>\n",
              "      <td>0.146593</td>\n",
              "      <td>-0.159480</td>\n",
              "      <td>-0.120774</td>\n",
              "      <td>0.443102</td>\n",
              "      <td>0.159416</td>\n",
              "      <td>0.135648</td>\n",
              "      <td>-0.603677</td>\n",
              "      <td>-0.014715</td>\n",
              "      <td>0.104214</td>\n",
              "      <td>0.169010</td>\n",
              "      <td>-0.583729</td>\n",
              "      <td>0.330834</td>\n",
              "      <td>0.020506</td>\n",
              "      <td>0.060683</td>\n",
              "      <td>-0.501521</td>\n",
              "      <td>-0.034798</td>\n",
              "      <td>0.017864</td>\n",
              "      <td>0.246225</td>\n",
              "      <td>0.087756</td>\n",
              "      <td>-0.365197</td>\n",
              "      <td>0.149174</td>\n",
              "      <td>-0.027532</td>\n",
              "      <td>-0.038809</td>\n",
              "      <td>0.061676</td>\n",
              "      <td>0.253751</td>\n",
              "      <td>-0.162404</td>\n",
              "      <td>-0.041339</td>\n",
              "      <td>0.604351</td>\n",
              "      <td>-0.525800</td>\n",
              "      <td>0.540229</td>\n",
              "      <td>-0.164696</td>\n",
              "      <td>0.284623</td>\n",
              "      <td>-0.135987</td>\n",
              "      <td>0.085496</td>\n",
              "      <td>-0.168904</td>\n",
              "      <td>-0.633183</td>\n",
              "      <td>0.377146</td>\n",
              "      <td>-0.016358</td>\n",
              "      <td>0.151688</td>\n",
              "      <td>-0.177025</td>\n",
              "    </tr>\n",
              "  </tbody>\n",
              "</table>\n",
              "<p>5 rows × 400 columns</p>\n",
              "</div>"
            ],
            "text/plain": [
              "        0         1         2    ...       397       398       399\n",
              "0 -0.297892 -0.331972  0.070217  ...  0.108223  0.739517 -0.409220\n",
              "1 -0.160646  0.058475  0.054121  ...  0.231883  0.002418  0.043382\n",
              "2 -0.160646  0.058475  0.054121  ...  0.231883  0.002418  0.043382\n",
              "3  0.089373 -0.726966  0.240312  ... -0.133843  0.282715 -0.127278\n",
              "4 -0.033075 -0.850733 -0.047078  ... -0.016358  0.151688 -0.177025\n",
              "\n",
              "[5 rows x 400 columns]"
            ]
          },
          "metadata": {
            "tags": []
          },
          "execution_count": 56
        }
      ]
    },
    {
      "cell_type": "code",
      "metadata": {
        "id": "QuqIBDvnn1U8",
        "colab_type": "code",
        "colab": {
          "base_uri": "https://localhost:8080/",
          "height": 34
        },
        "outputId": "7ec46e50-c3e9-426d-91e5-21433108696c"
      },
      "source": [
        "df.shape"
      ],
      "execution_count": 57,
      "outputs": [
        {
          "output_type": "execute_result",
          "data": {
            "text/plain": [
              "(10000, 400)"
            ]
          },
          "metadata": {
            "tags": []
          },
          "execution_count": 57
        }
      ]
    },
    {
      "cell_type": "code",
      "metadata": {
        "id": "OW5X3ZGtn1U-",
        "colab_type": "code",
        "colab": {}
      },
      "source": [
        "df.to_csv('embeddings.tsv', sep='\\t', index=False, header=False)"
      ],
      "execution_count": 58,
      "outputs": []
    },
    {
      "cell_type": "code",
      "metadata": {
        "id": "szZpBJHan1VA",
        "colab_type": "code",
        "colab": {}
      },
      "source": [
        "df2 = pd.DataFrame(itos)"
      ],
      "execution_count": 60,
      "outputs": []
    },
    {
      "cell_type": "code",
      "metadata": {
        "id": "4M6Q8SVsn1VC",
        "colab_type": "code",
        "colab": {
          "base_uri": "https://localhost:8080/",
          "height": 204
        },
        "outputId": "c46df28b-6bb1-4349-d3a7-c4a1332768e2"
      },
      "source": [
        "df2.head()"
      ],
      "execution_count": 61,
      "outputs": [
        {
          "output_type": "execute_result",
          "data": {
            "text/html": [
              "<div>\n",
              "<style scoped>\n",
              "    .dataframe tbody tr th:only-of-type {\n",
              "        vertical-align: middle;\n",
              "    }\n",
              "\n",
              "    .dataframe tbody tr th {\n",
              "        vertical-align: top;\n",
              "    }\n",
              "\n",
              "    .dataframe thead th {\n",
              "        text-align: right;\n",
              "    }\n",
              "</style>\n",
              "<table border=\"1\" class=\"dataframe\">\n",
              "  <thead>\n",
              "    <tr style=\"text-align: right;\">\n",
              "      <th></th>\n",
              "      <th>0</th>\n",
              "    </tr>\n",
              "  </thead>\n",
              "  <tbody>\n",
              "    <tr>\n",
              "      <th>0</th>\n",
              "      <td>&lt;unk&gt;</td>\n",
              "    </tr>\n",
              "    <tr>\n",
              "      <th>1</th>\n",
              "      <td>&lt;s&gt;</td>\n",
              "    </tr>\n",
              "    <tr>\n",
              "      <th>2</th>\n",
              "      <td>&lt;/s&gt;</td>\n",
              "    </tr>\n",
              "    <tr>\n",
              "      <th>3</th>\n",
              "      <td>.</td>\n",
              "    </tr>\n",
              "    <tr>\n",
              "      <th>4</th>\n",
              "      <td>,</td>\n",
              "    </tr>\n",
              "  </tbody>\n",
              "</table>\n",
              "</div>"
            ],
            "text/plain": [
              "       0\n",
              "0  <unk>\n",
              "1    <s>\n",
              "2   </s>\n",
              "3      .\n",
              "4      ,"
            ]
          },
          "metadata": {
            "tags": []
          },
          "execution_count": 61
        }
      ]
    },
    {
      "cell_type": "code",
      "metadata": {
        "id": "5OlLsfGKn1VG",
        "colab_type": "code",
        "colab": {
          "base_uri": "https://localhost:8080/",
          "height": 34
        },
        "outputId": "84357dc4-8f14-442a-af32-833230a423e1"
      },
      "source": [
        "df2.shape"
      ],
      "execution_count": 62,
      "outputs": [
        {
          "output_type": "execute_result",
          "data": {
            "text/plain": [
              "(10000, 1)"
            ]
          },
          "metadata": {
            "tags": []
          },
          "execution_count": 62
        }
      ]
    },
    {
      "cell_type": "code",
      "metadata": {
        "id": "K53piZOan1VI",
        "colab_type": "code",
        "colab": {}
      },
      "source": [
        "df2.to_csv('embeddings_metadata.tsv', sep='\\t', index=False, header=False)"
      ],
      "execution_count": 63,
      "outputs": []
    },
    {
      "cell_type": "code",
      "metadata": {
        "id": "zzek_-1Nn1VK",
        "colab_type": "code",
        "colab": {
          "base_uri": "https://localhost:8080/",
          "height": 1000
        },
        "outputId": "1f4c1776-5e5d-4f24-d4a1-98004c022fb1"
      },
      "source": [
        "encoder.state_dict()['encoder.weight'][1]"
      ],
      "execution_count": 64,
      "outputs": [
        {
          "output_type": "execute_result",
          "data": {
            "text/plain": [
              "tensor([-1.6065e-01,  5.8475e-02,  5.4121e-02, -7.1808e-02, -2.5078e-01,\n",
              "        -3.4076e-01, -2.6287e-02,  9.7631e-01, -1.0537e-01, -7.0356e-01,\n",
              "        -5.1859e-01,  6.4164e-02, -3.8274e-01,  9.0043e-02,  1.2661e-01,\n",
              "         5.3577e-01,  4.3830e-01, -2.8168e-01, -8.4830e-01,  3.3281e-02,\n",
              "        -2.7976e-01, -2.3386e-01, -2.2317e-01, -4.1706e-01, -3.0521e-02,\n",
              "         3.2029e-02,  4.3175e-01, -4.9039e-02, -1.9083e-01, -1.4121e-01,\n",
              "        -2.8496e-01, -5.1619e-02,  7.1343e-01,  3.0325e-01,  3.5317e-01,\n",
              "        -3.0284e-01,  2.7973e-01,  2.6623e-02, -5.7057e-01, -3.7099e-02,\n",
              "        -3.2874e-02, -3.1420e-01, -4.7005e-01, -1.0226e-01,  1.3531e-01,\n",
              "        -3.7852e-01,  6.7062e-02, -3.4805e-01, -6.5244e-01,  5.1096e-01,\n",
              "         1.4987e-01,  1.0093e-01,  5.0094e-01,  9.8742e-02,  3.3780e-01,\n",
              "         2.8139e-01, -8.0219e-01, -6.9026e-02,  3.0843e-01,  3.1990e-01,\n",
              "         3.7880e-01,  2.3347e-01,  5.7049e-01,  8.1091e-01,  4.2217e-01,\n",
              "         5.4321e-02, -4.3582e-01, -1.5909e-01, -3.2722e-01, -1.2649e-01,\n",
              "         5.4288e-01,  5.6281e-01,  3.3636e-01, -9.9175e-02,  1.7471e-02,\n",
              "         1.6886e-01, -5.1012e-02,  1.2331e-01,  4.4552e-01,  4.5300e-01,\n",
              "         8.7750e-02, -2.3800e-01, -5.7979e-01, -1.2951e-01,  3.7648e-01,\n",
              "        -2.2570e-01, -6.9765e-01, -2.7775e-01, -6.1996e-02, -3.5066e-01,\n",
              "        -2.6947e-03, -1.0977e-01, -3.3225e-01, -1.1845e-01, -5.5339e-01,\n",
              "         2.9642e-02, -2.8588e-01,  3.9468e-01,  1.7430e-01, -2.3188e-01,\n",
              "         2.1671e-01, -5.3618e-01, -1.6065e-01,  2.0460e-01,  5.8803e-01,\n",
              "         1.0877e-01,  2.6582e-01, -3.8035e-01,  4.8135e-01,  1.4760e-01,\n",
              "        -2.3267e-01, -3.8488e-01, -2.8896e-02, -4.4491e-01,  1.8706e-01,\n",
              "        -1.6197e-01,  8.9933e-01, -7.7681e-01, -6.1723e-01,  1.5853e-02,\n",
              "         9.1987e-01,  2.5480e-01, -2.7794e-01,  9.3468e-02, -2.5204e-01,\n",
              "         2.5008e-01,  1.6329e-01, -3.0839e-01,  5.1435e-01, -4.2371e-01,\n",
              "         8.9640e-02,  4.6046e-03, -2.0394e-01,  2.6344e-01, -2.7503e-02,\n",
              "        -1.2594e-01,  1.6938e-01, -9.7056e-02,  1.3508e-01, -5.3359e-02,\n",
              "        -3.4105e-02, -4.5744e-02, -3.1251e-01,  5.9217e-01, -6.2852e-01,\n",
              "        -1.9928e-01,  2.5342e-02,  3.0193e-01,  1.3030e-01,  9.3027e-01,\n",
              "         1.1672e-01,  2.0239e-01, -6.2702e-02, -4.0418e-01, -2.3595e-01,\n",
              "         3.4139e-01, -8.0993e-01, -3.4845e-01,  5.8445e-01, -4.0723e-01,\n",
              "         5.6091e-01, -4.8719e-01, -3.0254e-01,  5.1504e-01, -1.3847e-01,\n",
              "        -5.0783e-01, -3.0418e-01,  3.1853e-01, -4.7380e-03,  4.2454e-02,\n",
              "        -3.0803e-01, -1.6086e-01, -3.1236e-01, -3.9814e-01, -9.8608e-02,\n",
              "         3.5188e-01, -8.4133e-01,  7.8038e-02,  2.7298e-01,  7.7784e-02,\n",
              "         2.8340e-01,  1.6008e-01, -4.5168e-01, -1.7022e-01,  7.8899e-02,\n",
              "         4.2940e-01,  1.0982e-01, -3.1926e-01, -1.1281e+00, -7.4719e-01,\n",
              "         1.2265e-01,  5.0432e-01, -2.4693e-01, -9.3453e-02,  1.6093e-01,\n",
              "        -9.2463e-02, -1.6055e-01, -3.6710e-01,  1.5283e-01, -2.2206e-02,\n",
              "        -1.4307e-01,  2.4908e-02,  1.3667e-01, -4.4231e-01, -4.5588e-01,\n",
              "         1.3372e-01, -3.4701e-02,  7.8005e-02,  7.8637e-01,  1.1564e-01,\n",
              "         4.2217e-01, -2.1499e-01,  1.1626e-01,  1.1781e+00,  1.9045e-01,\n",
              "         2.4380e-01,  8.2755e-02, -3.3324e-01,  1.2696e-01,  3.6131e-01,\n",
              "         1.4375e-01,  4.0300e-01,  1.3229e-02, -5.6903e-01,  5.7458e-01,\n",
              "        -2.5814e-01,  4.0936e-01, -3.1512e-01, -2.0224e-01, -4.0979e-02,\n",
              "        -5.4808e-01,  1.5376e-01,  6.5875e-01,  5.3331e-01, -2.6956e-01,\n",
              "         1.3805e-01,  7.8229e-01,  5.0047e-02, -5.7838e-01,  3.0924e-01,\n",
              "         2.5041e-01,  5.1366e-01,  5.3220e-04, -2.3115e-01, -4.8096e-01,\n",
              "         3.8693e-01,  2.1311e-01,  4.8749e-01,  3.5936e-01, -8.6879e-01,\n",
              "         1.4200e-01, -3.6893e-01, -2.9552e-01,  5.8615e-02,  1.4904e-01,\n",
              "        -4.2740e-01, -9.5423e-02, -1.2239e-01,  4.7615e-01,  1.2471e-01,\n",
              "        -3.2830e-01, -1.8471e-01, -2.6172e-01, -3.1439e-01, -1.9268e-01,\n",
              "         5.0531e-02, -2.9670e-02, -1.0602e-02,  3.6659e-01, -4.9307e-01,\n",
              "         3.7076e-01, -6.5553e-02, -2.9771e-01, -3.3756e-01, -5.7908e-01,\n",
              "        -2.3831e-01,  3.5809e-01, -3.6816e-01,  2.8939e-01, -2.5488e-01,\n",
              "        -6.0604e-02,  2.6673e-01, -8.7768e-02, -4.7708e-01,  4.5186e-01,\n",
              "         2.6523e-01,  1.2224e-01, -1.6517e-01, -4.1634e-01,  8.6778e-01,\n",
              "         2.9876e-02, -6.1479e-02,  2.7513e-01, -1.7041e-01, -2.0308e-01,\n",
              "        -5.3163e-01,  1.0586e-01, -2.3018e-01, -7.3382e-01,  1.2339e+00,\n",
              "        -1.4627e+00, -4.6506e-01,  6.4305e-01, -2.2402e-01,  3.5244e-01,\n",
              "        -1.3880e-01,  7.6038e-01, -7.1601e-01,  4.5809e-02, -4.4662e-01,\n",
              "        -1.0654e+00,  2.6762e-01, -5.0795e-01,  2.6615e-01, -2.0247e-01,\n",
              "        -1.6079e-01, -3.7139e-01,  2.9721e-01,  4.5056e-02,  2.5798e-01,\n",
              "        -1.7645e-01, -7.1273e-01, -1.7882e-01,  5.6359e-02,  9.0867e-01,\n",
              "         9.9517e-02,  2.9794e-02, -1.0939e-01, -1.9878e-02, -4.3565e-01,\n",
              "        -2.5743e-01, -1.0985e-01,  3.1574e-01, -5.5464e-02,  3.6384e-01,\n",
              "        -6.7502e-02,  4.5500e-02, -9.2647e-02, -4.8406e-02,  7.8815e-01,\n",
              "         7.9603e-01, -8.6959e-01, -2.1446e-01,  3.8761e-02,  8.6794e-02,\n",
              "        -9.0865e-02, -3.0702e-01,  3.3339e-01,  2.4386e-01,  3.8077e-01,\n",
              "         6.2597e-01,  2.7554e-01,  3.1068e-01, -7.0364e-01, -1.3205e+00,\n",
              "        -5.2075e-02,  6.8380e-01,  6.0825e-03,  1.3237e-01, -8.1821e-03,\n",
              "         1.2234e-01,  3.0820e-01, -3.6960e-01,  1.7413e-01, -2.1707e-02,\n",
              "        -2.3834e-01,  4.5114e-01, -3.4573e-02,  5.6281e-02, -4.0318e-01,\n",
              "         3.8716e-01, -2.0274e-01, -2.0990e-01,  1.7568e-01,  3.1641e-01,\n",
              "        -1.9076e-01, -4.8865e-01,  1.5295e-01, -6.1838e-01, -8.3623e-02,\n",
              "        -2.6616e-01, -1.2766e-01,  3.0513e-01, -4.3159e-01,  1.3135e-03,\n",
              "         4.5812e-01,  1.4138e-01,  3.4727e-02, -6.8478e-02,  1.8634e-01,\n",
              "         4.5047e-01,  3.5269e-01,  5.0522e-01,  1.2507e-01,  2.9736e-01,\n",
              "         3.3058e-01, -3.3493e-01,  2.3188e-01,  2.4179e-03,  4.3382e-02])"
            ]
          },
          "metadata": {
            "tags": []
          },
          "execution_count": 64
        }
      ]
    },
    {
      "cell_type": "code",
      "metadata": {
        "id": "9NU-AgUqn1VN",
        "colab_type": "code",
        "colab": {}
      },
      "source": [
        ""
      ],
      "execution_count": null,
      "outputs": []
    }
  ]
}