{
  "nbformat": 4,
  "nbformat_minor": 0,
  "metadata": {
    "kernelspec": {
      "display_name": "Python 3",
      "language": "python",
      "name": "python3"
    },
    "language_info": {
      "codemirror_mode": {
        "name": "ipython",
        "version": 3
      },
      "file_extension": ".py",
      "mimetype": "text/x-python",
      "name": "python",
      "nbconvert_exporter": "python",
      "pygments_lexer": "ipython3",
      "version": "3.8.3"
    },
    "colab": {
      "name": "Malyalam_Language_Model_ULMFiT.ipynb",
      "provenance": [],
      "toc_visible": true,
      "include_colab_link": true
    },
    "accelerator": "GPU"
  },
  "cells": [
    {
      "cell_type": "markdown",
      "metadata": {
        "id": "view-in-github",
        "colab_type": "text"
      },
      "source": [
        "<a href=\"https://colab.research.google.com/github/sauravsb99/Malayalam-Word-Prediction/blob/master/Malyalam_Language_Model_ULMFiT.ipynb\" target=\"_parent\"><img src=\"https://colab.research.google.com/assets/colab-badge.svg\" alt=\"Open In Colab\"/></a>"
      ]
    },
    {
      "cell_type": "code",
      "metadata": {
        "id": "MmpikCGwn1S5",
        "colab_type": "code",
        "colab": {}
      },
      "source": [
        "%reload_ext autoreload\n",
        "%autoreload 2\n",
        "%matplotlib inline"
      ],
      "execution_count": 1,
      "outputs": []
    },
    {
      "cell_type": "code",
      "metadata": {
        "id": "wQECpM2ioSUB",
        "colab_type": "code",
        "colab": {
          "base_uri": "https://localhost:8080/",
          "height": 122
        },
        "outputId": "5abc2e3a-2724-4d60-c744-a39d2bc0515f"
      },
      "source": [
        "!pip install sentencepiece\n"
      ],
      "execution_count": 3,
      "outputs": [
        {
          "output_type": "stream",
          "text": [
            "Collecting sentencepiece\n",
            "\u001b[?25l  Downloading https://files.pythonhosted.org/packages/d4/a4/d0a884c4300004a78cca907a6ff9a5e9fe4f090f5d95ab341c53d28cbc58/sentencepiece-0.1.91-cp36-cp36m-manylinux1_x86_64.whl (1.1MB)\n",
            "\r\u001b[K     |▎                               | 10kB 21.4MB/s eta 0:00:01\r\u001b[K     |▋                               | 20kB 5.3MB/s eta 0:00:01\r\u001b[K     |█                               | 30kB 5.5MB/s eta 0:00:01\r\u001b[K     |█▏                              | 40kB 6.3MB/s eta 0:00:01\r\u001b[K     |█▌                              | 51kB 6.2MB/s eta 0:00:01\r\u001b[K     |█▉                              | 61kB 7.0MB/s eta 0:00:01\r\u001b[K     |██▏                             | 71kB 6.1MB/s eta 0:00:01\r\u001b[K     |██▍                             | 81kB 6.2MB/s eta 0:00:01\r\u001b[K     |██▊                             | 92kB 6.5MB/s eta 0:00:01\r\u001b[K     |███                             | 102kB 6.5MB/s eta 0:00:01\r\u001b[K     |███▍                            | 112kB 6.5MB/s eta 0:00:01\r\u001b[K     |███▋                            | 122kB 6.5MB/s eta 0:00:01\r\u001b[K     |████                            | 133kB 6.5MB/s eta 0:00:01\r\u001b[K     |████▎                           | 143kB 6.5MB/s eta 0:00:01\r\u001b[K     |████▋                           | 153kB 6.5MB/s eta 0:00:01\r\u001b[K     |████▉                           | 163kB 6.5MB/s eta 0:00:01\r\u001b[K     |█████▏                          | 174kB 6.5MB/s eta 0:00:01\r\u001b[K     |█████▌                          | 184kB 6.5MB/s eta 0:00:01\r\u001b[K     |█████▉                          | 194kB 6.5MB/s eta 0:00:01\r\u001b[K     |██████                          | 204kB 6.5MB/s eta 0:00:01\r\u001b[K     |██████▍                         | 215kB 6.5MB/s eta 0:00:01\r\u001b[K     |██████▊                         | 225kB 6.5MB/s eta 0:00:01\r\u001b[K     |███████                         | 235kB 6.5MB/s eta 0:00:01\r\u001b[K     |███████▎                        | 245kB 6.5MB/s eta 0:00:01\r\u001b[K     |███████▋                        | 256kB 6.5MB/s eta 0:00:01\r\u001b[K     |████████                        | 266kB 6.5MB/s eta 0:00:01\r\u001b[K     |████████▎                       | 276kB 6.5MB/s eta 0:00:01\r\u001b[K     |████████▌                       | 286kB 6.5MB/s eta 0:00:01\r\u001b[K     |████████▉                       | 296kB 6.5MB/s eta 0:00:01\r\u001b[K     |█████████▏                      | 307kB 6.5MB/s eta 0:00:01\r\u001b[K     |█████████▌                      | 317kB 6.5MB/s eta 0:00:01\r\u001b[K     |█████████▊                      | 327kB 6.5MB/s eta 0:00:01\r\u001b[K     |██████████                      | 337kB 6.5MB/s eta 0:00:01\r\u001b[K     |██████████▍                     | 348kB 6.5MB/s eta 0:00:01\r\u001b[K     |██████████▊                     | 358kB 6.5MB/s eta 0:00:01\r\u001b[K     |███████████                     | 368kB 6.5MB/s eta 0:00:01\r\u001b[K     |███████████▎                    | 378kB 6.5MB/s eta 0:00:01\r\u001b[K     |███████████▋                    | 389kB 6.5MB/s eta 0:00:01\r\u001b[K     |████████████                    | 399kB 6.5MB/s eta 0:00:01\r\u001b[K     |████████████▏                   | 409kB 6.5MB/s eta 0:00:01\r\u001b[K     |████████████▌                   | 419kB 6.5MB/s eta 0:00:01\r\u001b[K     |████████████▉                   | 430kB 6.5MB/s eta 0:00:01\r\u001b[K     |█████████████▏                  | 440kB 6.5MB/s eta 0:00:01\r\u001b[K     |█████████████▍                  | 450kB 6.5MB/s eta 0:00:01\r\u001b[K     |█████████████▊                  | 460kB 6.5MB/s eta 0:00:01\r\u001b[K     |██████████████                  | 471kB 6.5MB/s eta 0:00:01\r\u001b[K     |██████████████▍                 | 481kB 6.5MB/s eta 0:00:01\r\u001b[K     |██████████████▋                 | 491kB 6.5MB/s eta 0:00:01\r\u001b[K     |███████████████                 | 501kB 6.5MB/s eta 0:00:01\r\u001b[K     |███████████████▎                | 512kB 6.5MB/s eta 0:00:01\r\u001b[K     |███████████████▋                | 522kB 6.5MB/s eta 0:00:01\r\u001b[K     |███████████████▉                | 532kB 6.5MB/s eta 0:00:01\r\u001b[K     |████████████████▏               | 542kB 6.5MB/s eta 0:00:01\r\u001b[K     |████████████████▌               | 552kB 6.5MB/s eta 0:00:01\r\u001b[K     |████████████████▉               | 563kB 6.5MB/s eta 0:00:01\r\u001b[K     |█████████████████               | 573kB 6.5MB/s eta 0:00:01\r\u001b[K     |█████████████████▍              | 583kB 6.5MB/s eta 0:00:01\r\u001b[K     |█████████████████▊              | 593kB 6.5MB/s eta 0:00:01\r\u001b[K     |██████████████████              | 604kB 6.5MB/s eta 0:00:01\r\u001b[K     |██████████████████▎             | 614kB 6.5MB/s eta 0:00:01\r\u001b[K     |██████████████████▋             | 624kB 6.5MB/s eta 0:00:01\r\u001b[K     |███████████████████             | 634kB 6.5MB/s eta 0:00:01\r\u001b[K     |███████████████████▎            | 645kB 6.5MB/s eta 0:00:01\r\u001b[K     |███████████████████▌            | 655kB 6.5MB/s eta 0:00:01\r\u001b[K     |███████████████████▉            | 665kB 6.5MB/s eta 0:00:01\r\u001b[K     |████████████████████▏           | 675kB 6.5MB/s eta 0:00:01\r\u001b[K     |████████████████████▌           | 686kB 6.5MB/s eta 0:00:01\r\u001b[K     |████████████████████▊           | 696kB 6.5MB/s eta 0:00:01\r\u001b[K     |█████████████████████           | 706kB 6.5MB/s eta 0:00:01\r\u001b[K     |█████████████████████▍          | 716kB 6.5MB/s eta 0:00:01\r\u001b[K     |█████████████████████▋          | 727kB 6.5MB/s eta 0:00:01\r\u001b[K     |██████████████████████          | 737kB 6.5MB/s eta 0:00:01\r\u001b[K     |██████████████████████▎         | 747kB 6.5MB/s eta 0:00:01\r\u001b[K     |██████████████████████▋         | 757kB 6.5MB/s eta 0:00:01\r\u001b[K     |██████████████████████▉         | 768kB 6.5MB/s eta 0:00:01\r\u001b[K     |███████████████████████▏        | 778kB 6.5MB/s eta 0:00:01\r\u001b[K     |███████████████████████▌        | 788kB 6.5MB/s eta 0:00:01\r\u001b[K     |███████████████████████▉        | 798kB 6.5MB/s eta 0:00:01\r\u001b[K     |████████████████████████        | 808kB 6.5MB/s eta 0:00:01\r\u001b[K     |████████████████████████▍       | 819kB 6.5MB/s eta 0:00:01\r\u001b[K     |████████████████████████▊       | 829kB 6.5MB/s eta 0:00:01\r\u001b[K     |█████████████████████████       | 839kB 6.5MB/s eta 0:00:01\r\u001b[K     |█████████████████████████▎      | 849kB 6.5MB/s eta 0:00:01\r\u001b[K     |█████████████████████████▋      | 860kB 6.5MB/s eta 0:00:01\r\u001b[K     |██████████████████████████      | 870kB 6.5MB/s eta 0:00:01\r\u001b[K     |██████████████████████████▎     | 880kB 6.5MB/s eta 0:00:01\r\u001b[K     |██████████████████████████▌     | 890kB 6.5MB/s eta 0:00:01\r\u001b[K     |██████████████████████████▉     | 901kB 6.5MB/s eta 0:00:01\r\u001b[K     |███████████████████████████▏    | 911kB 6.5MB/s eta 0:00:01\r\u001b[K     |███████████████████████████▌    | 921kB 6.5MB/s eta 0:00:01\r\u001b[K     |███████████████████████████▊    | 931kB 6.5MB/s eta 0:00:01\r\u001b[K     |████████████████████████████    | 942kB 6.5MB/s eta 0:00:01\r\u001b[K     |████████████████████████████▍   | 952kB 6.5MB/s eta 0:00:01\r\u001b[K     |████████████████████████████▊   | 962kB 6.5MB/s eta 0:00:01\r\u001b[K     |█████████████████████████████   | 972kB 6.5MB/s eta 0:00:01\r\u001b[K     |█████████████████████████████▎  | 983kB 6.5MB/s eta 0:00:01\r\u001b[K     |█████████████████████████████▋  | 993kB 6.5MB/s eta 0:00:01\r\u001b[K     |██████████████████████████████  | 1.0MB 6.5MB/s eta 0:00:01\r\u001b[K     |██████████████████████████████▏ | 1.0MB 6.5MB/s eta 0:00:01\r\u001b[K     |██████████████████████████████▌ | 1.0MB 6.5MB/s eta 0:00:01\r\u001b[K     |██████████████████████████████▉ | 1.0MB 6.5MB/s eta 0:00:01\r\u001b[K     |███████████████████████████████▏| 1.0MB 6.5MB/s eta 0:00:01\r\u001b[K     |███████████████████████████████▍| 1.1MB 6.5MB/s eta 0:00:01\r\u001b[K     |███████████████████████████████▊| 1.1MB 6.5MB/s eta 0:00:01\r\u001b[K     |████████████████████████████████| 1.1MB 6.5MB/s \n",
            "\u001b[?25hInstalling collected packages: sentencepiece\n",
            "Successfully installed sentencepiece-0.1.91\n"
          ],
          "name": "stdout"
        }
      ]
    },
    {
      "cell_type": "code",
      "metadata": {
        "id": "C4eL7cv7wmu8",
        "colab_type": "code",
        "colab": {
          "base_uri": "https://localhost:8080/",
          "height": 241
        },
        "outputId": "309e3113-6e81-4e42-ac7d-bef7b05ddb3e"
      },
      "source": [
        "!pip install fastprogress==0.1.22"
      ],
      "execution_count": 21,
      "outputs": [
        {
          "output_type": "stream",
          "text": [
            "Collecting fastprogress==0.1.22\n",
            "  Downloading https://files.pythonhosted.org/packages/f0/4f/eb76f71e7da768325e029b10a443aa015236a04217ec482e861fae7ccb8f/fastprogress-0.1.22-py3-none-any.whl\n",
            "Installing collected packages: fastprogress\n",
            "  Found existing installation: fastprogress 0.2.3\n",
            "    Uninstalling fastprogress-0.2.3:\n",
            "      Successfully uninstalled fastprogress-0.2.3\n",
            "Successfully installed fastprogress-0.1.22\n"
          ],
          "name": "stdout"
        },
        {
          "output_type": "display_data",
          "data": {
            "application/vnd.colab-display-data+json": {
              "pip_warning": {
                "packages": [
                  "fastprogress"
                ]
              }
            }
          },
          "metadata": {
            "tags": []
          }
        }
      ]
    },
    {
      "cell_type": "code",
      "metadata": {
        "id": "fuRj1K1ln1S9",
        "colab_type": "code",
        "colab": {}
      },
      "source": [
        "from fastai.text import *\n",
        "import numpy as np\n",
        "from sklearn.model_selection import train_test_split\n",
        "import pickle\n",
        "import sentencepiece as spm"
      ],
      "execution_count": 3,
      "outputs": []
    },
    {
      "cell_type": "code",
      "metadata": {
        "id": "gzEqQZuzn1TB",
        "colab_type": "code",
        "colab": {
          "base_uri": "https://localhost:8080/",
          "height": 34
        },
        "outputId": "a7872615-b50d-48f7-ba2d-0f90c77f31ec"
      },
      "source": [
        "import fastai, torch\n",
        "fastai.__version__ , torch.__version__"
      ],
      "execution_count": 5,
      "outputs": [
        {
          "output_type": "execute_result",
          "data": {
            "text/plain": [
              "('1.0.57', '1.5.1+cu101')"
            ]
          },
          "metadata": {
            "tags": []
          },
          "execution_count": 5
        }
      ]
    },
    {
      "cell_type": "code",
      "metadata": {
        "id": "N3UZowDPn1TF",
        "colab_type": "code",
        "colab": {}
      },
      "source": [
        "import multiprocessing as mp\n",
        "\n",
        "class Foo():\n",
        "    @staticmethod\n",
        "    def work(self):\n",
        "        pass\n",
        "\n",
        "if __name__ == '__main__':   \n",
        "    pool = mp.Pool()\n",
        "    foo = Foo()\n",
        "    pool.apply_async(foo.work)\n",
        "    pool.close()\n",
        "    pool.join()"
      ],
      "execution_count": 6,
      "outputs": []
    },
    {
      "cell_type": "code",
      "metadata": {
        "id": "58o7ZI_nn1TI",
        "colab_type": "code",
        "colab": {}
      },
      "source": [
        "# torch.cuda.set_device(0)"
      ],
      "execution_count": null,
      "outputs": []
    },
    {
      "cell_type": "code",
      "metadata": {
        "id": "fhGfRC1Nn1TL",
        "colab_type": "code",
        "colab": {
          "base_uri": "https://localhost:8080/",
          "height": 34
        },
        "outputId": "14b78bdf-0b8a-4ebf-96f3-b9c33c65f762"
      },
      "source": [
        "!pwd"
      ],
      "execution_count": null,
      "outputs": [
        {
          "output_type": "stream",
          "text": [
            "/content\n"
          ],
          "name": "stdout"
        }
      ]
    },
    {
      "cell_type": "code",
      "metadata": {
        "id": "XezYtwtEn1TO",
        "colab_type": "code",
        "colab": {}
      },
      "source": [
        "path = Path('/home/sauravsb99/MalWorPre/nlp-for-malyalam/language-model')"
      ],
      "execution_count": null,
      "outputs": []
    },
    {
      "cell_type": "code",
      "metadata": {
        "id": "Cj8Dlf7woh4U",
        "colab_type": "code",
        "colab": {
          "base_uri": "https://localhost:8080/",
          "height": 1000
        },
        "outputId": "d1f3d9df-d882-4905-e17e-e04e386b8537"
      },
      "source": [
        "!pip install inltk\n"
      ],
      "execution_count": 6,
      "outputs": [
        {
          "output_type": "stream",
          "text": [
            "Collecting inltk\n",
            "  Downloading https://files.pythonhosted.org/packages/4a/6b/27e71de5a61d1cb3b37abb566880b023029b95183224a60088da9abb224b/inltk-0.8.1-py3-none-any.whl\n",
            "Requirement already satisfied: packaging in /usr/local/lib/python3.6/dist-packages (from inltk) (20.4)\n",
            "Requirement already satisfied: numpy>=1.15 in /usr/local/lib/python3.6/dist-packages (from inltk) (1.18.5)\n",
            "Collecting typing\n",
            "\u001b[?25l  Downloading https://files.pythonhosted.org/packages/05/d9/6eebe19d46bd05360c9a9aae822e67a80f9242aabbfc58b641b957546607/typing-3.7.4.3.tar.gz (78kB)\n",
            "\u001b[K     |████████████████████████████████| 81kB 6.1MB/s \n",
            "\u001b[?25hCollecting async-timeout>=3.0.1\n",
            "  Downloading https://files.pythonhosted.org/packages/e1/1e/5a4441be21b0726c4464f3f23c8b19628372f606755a9d2e46c187e65ec4/async_timeout-3.0.1-py3-none-any.whl\n",
            "Collecting fastai==1.0.57\n",
            "\u001b[?25l  Downloading https://files.pythonhosted.org/packages/c1/e2/42342ded0385d694e3250e74f43f0dc9a3ff3d5c2241a2ddd98236b5f9de/fastai-1.0.57-py3-none-any.whl (233kB)\n",
            "\u001b[K     |████████████████████████████████| 235kB 15.4MB/s \n",
            "\u001b[?25hRequirement already satisfied: bottleneck in /usr/local/lib/python3.6/dist-packages (from inltk) (1.3.2)\n",
            "Collecting aiohttp>=3.5.4\n",
            "\u001b[?25l  Downloading https://files.pythonhosted.org/packages/7c/39/7eb5f98d24904e0f6d3edb505d4aa60e3ef83c0a58d6fe18244a51757247/aiohttp-3.6.2-cp36-cp36m-manylinux1_x86_64.whl (1.2MB)\n",
            "\u001b[K     |████████████████████████████████| 1.2MB 19.8MB/s \n",
            "\u001b[?25hRequirement already satisfied: sentencepiece in /usr/local/lib/python3.6/dist-packages (from inltk) (0.1.91)\n",
            "Requirement already satisfied: scipy in /usr/local/lib/python3.6/dist-packages (from inltk) (1.4.1)\n",
            "Requirement already satisfied: fastprogress>=0.1.19 in /usr/local/lib/python3.6/dist-packages (from inltk) (0.2.3)\n",
            "Requirement already satisfied: beautifulsoup4 in /usr/local/lib/python3.6/dist-packages (from inltk) (4.6.3)\n",
            "Requirement already satisfied: Pillow in /usr/local/lib/python3.6/dist-packages (from inltk) (7.0.0)\n",
            "Requirement already satisfied: nvidia-ml-py3 in /usr/local/lib/python3.6/dist-packages (from inltk) (7.352.0)\n",
            "Requirement already satisfied: pandas in /usr/local/lib/python3.6/dist-packages (from inltk) (1.0.5)\n",
            "Requirement already satisfied: pyyaml in /usr/local/lib/python3.6/dist-packages (from inltk) (3.13)\n",
            "Requirement already satisfied: matplotlib in /usr/local/lib/python3.6/dist-packages (from inltk) (3.2.2)\n",
            "Requirement already satisfied: spacy>=2.0.18 in /usr/local/lib/python3.6/dist-packages (from inltk) (2.2.4)\n",
            "Requirement already satisfied: numexpr in /usr/local/lib/python3.6/dist-packages (from inltk) (2.7.1)\n",
            "Requirement already satisfied: requests in /usr/local/lib/python3.6/dist-packages (from inltk) (2.23.0)\n",
            "Requirement already satisfied: dataclasses; python_version < \"3.7\" in /usr/local/lib/python3.6/dist-packages (from inltk) (0.7)\n",
            "Requirement already satisfied: six in /usr/local/lib/python3.6/dist-packages (from packaging->inltk) (1.15.0)\n",
            "Requirement already satisfied: pyparsing>=2.0.2 in /usr/local/lib/python3.6/dist-packages (from packaging->inltk) (2.4.7)\n",
            "Requirement already satisfied: torch>=1.0.0 in /usr/local/lib/python3.6/dist-packages (from fastai==1.0.57->inltk) (1.5.1+cu101)\n",
            "Requirement already satisfied: torchvision in /usr/local/lib/python3.6/dist-packages (from fastai==1.0.57->inltk) (0.6.1+cu101)\n",
            "Collecting yarl<2.0,>=1.0\n",
            "\u001b[?25l  Downloading https://files.pythonhosted.org/packages/77/9a/2365a077c21c3d711b2367199a81edbe3f362712a05f6437647ca770eab1/yarl-1.5.0-cp36-cp36m-manylinux1_x86_64.whl (257kB)\n",
            "\u001b[K     |████████████████████████████████| 266kB 16.1MB/s \n",
            "\u001b[?25hRequirement already satisfied: typing-extensions>=3.6.5; python_version < \"3.7\" in /usr/local/lib/python3.6/dist-packages (from aiohttp>=3.5.4->inltk) (3.7.4.2)\n",
            "Requirement already satisfied: chardet<4.0,>=2.0 in /usr/local/lib/python3.6/dist-packages (from aiohttp>=3.5.4->inltk) (3.0.4)\n",
            "Collecting multidict<5.0,>=4.5\n",
            "\u001b[?25l  Downloading https://files.pythonhosted.org/packages/1a/95/f50352b5366e7d579e8b99631680a9e32e1b22adfa1629a8f23b1d22d5e2/multidict-4.7.6-cp36-cp36m-manylinux1_x86_64.whl (148kB)\n",
            "\u001b[K     |████████████████████████████████| 153kB 30.7MB/s \n",
            "\u001b[?25hCollecting idna-ssl>=1.0; python_version < \"3.7\"\n",
            "  Downloading https://files.pythonhosted.org/packages/46/03/07c4894aae38b0de52b52586b24bf189bb83e4ddabfe2e2c8f2419eec6f4/idna-ssl-1.1.0.tar.gz\n",
            "Requirement already satisfied: attrs>=17.3.0 in /usr/local/lib/python3.6/dist-packages (from aiohttp>=3.5.4->inltk) (19.3.0)\n",
            "Requirement already satisfied: python-dateutil>=2.6.1 in /usr/local/lib/python3.6/dist-packages (from pandas->inltk) (2.8.1)\n",
            "Requirement already satisfied: pytz>=2017.2 in /usr/local/lib/python3.6/dist-packages (from pandas->inltk) (2018.9)\n",
            "Requirement already satisfied: kiwisolver>=1.0.1 in /usr/local/lib/python3.6/dist-packages (from matplotlib->inltk) (1.2.0)\n",
            "Requirement already satisfied: cycler>=0.10 in /usr/local/lib/python3.6/dist-packages (from matplotlib->inltk) (0.10.0)\n",
            "Requirement already satisfied: blis<0.5.0,>=0.4.0 in /usr/local/lib/python3.6/dist-packages (from spacy>=2.0.18->inltk) (0.4.1)\n",
            "Requirement already satisfied: srsly<1.1.0,>=1.0.2 in /usr/local/lib/python3.6/dist-packages (from spacy>=2.0.18->inltk) (1.0.2)\n",
            "Requirement already satisfied: plac<1.2.0,>=0.9.6 in /usr/local/lib/python3.6/dist-packages (from spacy>=2.0.18->inltk) (1.1.3)\n",
            "Requirement already satisfied: cymem<2.1.0,>=2.0.2 in /usr/local/lib/python3.6/dist-packages (from spacy>=2.0.18->inltk) (2.0.3)\n",
            "Requirement already satisfied: thinc==7.4.0 in /usr/local/lib/python3.6/dist-packages (from spacy>=2.0.18->inltk) (7.4.0)\n",
            "Requirement already satisfied: tqdm<5.0.0,>=4.38.0 in /usr/local/lib/python3.6/dist-packages (from spacy>=2.0.18->inltk) (4.41.1)\n",
            "Requirement already satisfied: preshed<3.1.0,>=3.0.2 in /usr/local/lib/python3.6/dist-packages (from spacy>=2.0.18->inltk) (3.0.2)\n",
            "Requirement already satisfied: setuptools in /usr/local/lib/python3.6/dist-packages (from spacy>=2.0.18->inltk) (49.1.0)\n",
            "Requirement already satisfied: wasabi<1.1.0,>=0.4.0 in /usr/local/lib/python3.6/dist-packages (from spacy>=2.0.18->inltk) (0.7.1)\n",
            "Requirement already satisfied: catalogue<1.1.0,>=0.0.7 in /usr/local/lib/python3.6/dist-packages (from spacy>=2.0.18->inltk) (1.0.0)\n",
            "Requirement already satisfied: murmurhash<1.1.0,>=0.28.0 in /usr/local/lib/python3.6/dist-packages (from spacy>=2.0.18->inltk) (1.0.2)\n",
            "Requirement already satisfied: idna<3,>=2.5 in /usr/local/lib/python3.6/dist-packages (from requests->inltk) (2.10)\n",
            "Requirement already satisfied: certifi>=2017.4.17 in /usr/local/lib/python3.6/dist-packages (from requests->inltk) (2020.6.20)\n",
            "Requirement already satisfied: urllib3!=1.25.0,!=1.25.1,<1.26,>=1.21.1 in /usr/local/lib/python3.6/dist-packages (from requests->inltk) (1.24.3)\n",
            "Requirement already satisfied: future in /usr/local/lib/python3.6/dist-packages (from torch>=1.0.0->fastai==1.0.57->inltk) (0.16.0)\n",
            "Requirement already satisfied: importlib-metadata>=0.20; python_version < \"3.8\" in /usr/local/lib/python3.6/dist-packages (from catalogue<1.1.0,>=0.0.7->spacy>=2.0.18->inltk) (1.7.0)\n",
            "Requirement already satisfied: zipp>=0.5 in /usr/local/lib/python3.6/dist-packages (from importlib-metadata>=0.20; python_version < \"3.8\"->catalogue<1.1.0,>=0.0.7->spacy>=2.0.18->inltk) (3.1.0)\n",
            "Building wheels for collected packages: typing, idna-ssl\n",
            "  Building wheel for typing (setup.py) ... \u001b[?25l\u001b[?25hdone\n",
            "  Created wheel for typing: filename=typing-3.7.4.3-cp36-none-any.whl size=26309 sha256=a525233b592c038c3dd354c7047d5cad79c1cfb8d094a4e3f46d4e2e2ab728ef\n",
            "  Stored in directory: /root/.cache/pip/wheels/2d/04/41/8e1836e79581989c22eebac3f4e70aaac9af07b0908da173be\n",
            "  Building wheel for idna-ssl (setup.py) ... \u001b[?25l\u001b[?25hdone\n",
            "  Created wheel for idna-ssl: filename=idna_ssl-1.1.0-cp36-none-any.whl size=3162 sha256=f67b8c15eb0ae5488bebaba9aa8d24f804db0ba99bde43d41725443e605d8f96\n",
            "  Stored in directory: /root/.cache/pip/wheels/d3/00/b3/32d613e19e08a739751dd6bf998cfed277728f8b2127ad4eb7\n",
            "Successfully built typing idna-ssl\n",
            "Installing collected packages: typing, async-timeout, fastai, multidict, yarl, idna-ssl, aiohttp, inltk\n",
            "  Found existing installation: fastai 1.0.61\n",
            "    Uninstalling fastai-1.0.61:\n",
            "      Successfully uninstalled fastai-1.0.61\n",
            "Successfully installed aiohttp-3.6.2 async-timeout-3.0.1 fastai-1.0.57 idna-ssl-1.1.0 inltk-0.8.1 multidict-4.7.6 typing-3.7.4.3 yarl-1.5.0\n"
          ],
          "name": "stdout"
        },
        {
          "output_type": "display_data",
          "data": {
            "application/vnd.colab-display-data+json": {
              "pip_warning": {
                "packages": [
                  "fastai",
                  "typing"
                ]
              }
            }
          },
          "metadata": {
            "tags": []
          }
        }
      ]
    },
    {
      "cell_type": "code",
      "metadata": {
        "id": "fmcfxB0sn1TR",
        "colab_type": "code",
        "colab": {}
      },
      "source": [
        "from inltk.tokenizer import MalyalamTokenizer"
      ],
      "execution_count": 7,
      "outputs": []
    },
    {
      "cell_type": "code",
      "metadata": {
        "id": "teXqUOcin1TU",
        "colab_type": "code",
        "colab": {
          "base_uri": "https://localhost:8080/",
          "height": 34
        },
        "outputId": "12208196-2045-4d83-9cf4-fc35dfd5b97a"
      },
      "source": [
        "MalyalamTokenizer"
      ],
      "execution_count": 8,
      "outputs": [
        {
          "output_type": "execute_result",
          "data": {
            "text/plain": [
              "inltk.tokenizer.MalyalamTokenizer"
            ]
          },
          "metadata": {
            "tags": []
          },
          "execution_count": 8
        }
      ]
    },
    {
      "cell_type": "code",
      "metadata": {
        "id": "Uc_DnPgNn1TX",
        "colab_type": "code",
        "colab": {}
      },
      "source": [
        "# class MalyalamTokenizer(BaseTokenizer):\n",
        "#     def __init__(self, lang:str):\n",
        "#         self.lang = lang\n",
        "#         self.sp = spm.SentencePieceProcessor()\n",
        "#         self.sp.Load(str(path/\"../tokenizer/malyalam_lm.model\"))\n",
        "        \n",
        "#     def tokenizer(self, t:str) -> List[str]:\n",
        "#         return self.sp.EncodeAsPieces(t)"
      ],
      "execution_count": null,
      "outputs": []
    },
    {
      "cell_type": "code",
      "metadata": {
        "id": "5p8LWftqsfBu",
        "colab_type": "code",
        "colab": {}
      },
      "source": [
        "!cp \"/content/drive/My Drive/Dataset/malyalam_lm.model\" \"/content/\""
      ],
      "execution_count": 14,
      "outputs": []
    },
    {
      "cell_type": "code",
      "metadata": {
        "id": "rFFljF92n1Ta",
        "colab_type": "code",
        "colab": {}
      },
      "source": [
        "sp = spm.SentencePieceProcessor()\n",
        "sp.Load(str(\"/content/malyalam_lm.model\"))\n",
        "itos = [sp.IdToPiece(int(i)) for i in range(10000)]"
      ],
      "execution_count": 9,
      "outputs": []
    },
    {
      "cell_type": "code",
      "metadata": {
        "id": "EsYU5z5On1Tc",
        "colab_type": "code",
        "colab": {}
      },
      "source": [
        "# 10,000 is the vocab size that we chose in sentencepiece\n",
        "malyalam_vocab = Vocab(itos)"
      ],
      "execution_count": 10,
      "outputs": []
    },
    {
      "cell_type": "code",
      "metadata": {
        "id": "-9xnq1zUn1Th",
        "colab_type": "code",
        "colab": {}
      },
      "source": [
        "tokenizer = Tokenizer(tok_func=MalyalamTokenizer, lang='ml')"
      ],
      "execution_count": 11,
      "outputs": []
    },
    {
      "cell_type": "code",
      "metadata": {
        "id": "YXR20aUdn1Tj",
        "colab_type": "code",
        "colab": {
          "base_uri": "https://localhost:8080/",
          "height": 170
        },
        "outputId": "8a440ac6-5982-462b-b537-2dab0f9401b0"
      },
      "source": [
        "tokenizer.special_cases"
      ],
      "execution_count": 12,
      "outputs": [
        {
          "output_type": "execute_result",
          "data": {
            "text/plain": [
              "['xxunk',\n",
              " 'xxpad',\n",
              " 'xxbos',\n",
              " 'xxeos',\n",
              " 'xxfld',\n",
              " 'xxmaj',\n",
              " 'xxup',\n",
              " 'xxrep',\n",
              " 'xxwrep']"
            ]
          },
          "metadata": {
            "tags": []
          },
          "execution_count": 12
        }
      ]
    },
    {
      "cell_type": "code",
      "metadata": {
        "id": "pAKB7Q1_peuR",
        "colab_type": "code",
        "colab": {
          "base_uri": "https://localhost:8080/",
          "height": 122
        },
        "outputId": "a6279c97-a4e9-4f0e-efdc-e6d9ca7bd80d"
      },
      "source": [
        "from google.colab import drive\n",
        "drive.mount('/content/drive')"
      ],
      "execution_count": 6,
      "outputs": [
        {
          "output_type": "stream",
          "text": [
            "Go to this URL in a browser: https://accounts.google.com/o/oauth2/auth?client_id=947318989803-6bn6qk8qdgf4n4g3pfee6491hc0brc4i.apps.googleusercontent.com&redirect_uri=urn%3aietf%3awg%3aoauth%3a2.0%3aoob&response_type=code&scope=email%20https%3a%2f%2fwww.googleapis.com%2fauth%2fdocs.test%20https%3a%2f%2fwww.googleapis.com%2fauth%2fdrive%20https%3a%2f%2fwww.googleapis.com%2fauth%2fdrive.photos.readonly%20https%3a%2f%2fwww.googleapis.com%2fauth%2fpeopleapi.readonly\n",
            "\n",
            "Enter your authorization code:\n",
            "··········\n",
            "Mounted at /content/drive\n"
          ],
          "name": "stdout"
        }
      ]
    },
    {
      "cell_type": "code",
      "metadata": {
        "id": "uZPIAF5CPsCg",
        "colab_type": "code",
        "colab": {
          "resources": {
            "http://localhost:8080/nbextensions/google.colab/files.js": {
              "data": "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",
              "ok": true,
              "headers": [
                [
                  "content-type",
                  "application/javascript"
                ]
              ],
              "status": 200,
              "status_text": ""
            }
          },
          "base_uri": "https://localhost:8080/",
          "height": 72
        },
        "outputId": "df241a4f-97d2-4c22-f797-ecf9f4593b22"
      },
      "source": [
        "from google.colab import files\n",
        "dataset_file_dict = files.upload()"
      ],
      "execution_count": null,
      "outputs": [
        {
          "output_type": "display_data",
          "data": {
            "text/html": [
              "\n",
              "     <input type=\"file\" id=\"files-590cfa12-eb5c-4553-9954-7695f00abdd4\" name=\"files[]\" multiple disabled\n",
              "        style=\"border:none\" />\n",
              "     <output id=\"result-590cfa12-eb5c-4553-9954-7695f00abdd4\">\n",
              "      Upload widget is only available when the cell has been executed in the\n",
              "      current browser session. Please rerun this cell to enable.\n",
              "      </output>\n",
              "      <script src=\"/nbextensions/google.colab/files.js\"></script> "
            ],
            "text/plain": [
              "<IPython.core.display.HTML object>"
            ]
          },
          "metadata": {
            "tags": []
          }
        },
        {
          "output_type": "stream",
          "text": [
            "Saving MalayalamDataset.zip to MalayalamDataset.zip\n"
          ],
          "name": "stdout"
        }
      ]
    },
    {
      "cell_type": "code",
      "metadata": {
        "id": "M5AxK2VCqzo6",
        "colab_type": "code",
        "colab": {}
      },
      "source": [
        "!cp \"/content/drive/My Drive/Dataset/MalayalamDataset.zip\" \"/content/\" \n"
      ],
      "execution_count": 11,
      "outputs": []
    },
    {
      "cell_type": "code",
      "metadata": {
        "id": "c9oXM7uQSKhV",
        "colab_type": "code",
        "colab": {}
      },
      "source": [
        "# zip_path = '/content/drive/My Drive/Dataset/MalayalamDataset.zip'\n",
        "# !cp “{zip_path}” .\n",
        "!unzip -q MalayalamDataset.zip\n",
        "# !rm MalayalamDataset.zip"
      ],
      "execution_count": 12,
      "outputs": []
    },
    {
      "cell_type": "code",
      "metadata": {
        "id": "4VPBFnyTUUc_",
        "colab_type": "code",
        "colab": {
          "base_uri": "https://localhost:8080/",
          "height": 394
        },
        "outputId": "ceddf483-afbb-43dd-bf64-031bff49467d"
      },
      "source": [
        "from inltk.inltk import setup\n",
        "\n",
        "setup('ml')"
      ],
      "execution_count": 8,
      "outputs": [
        {
          "output_type": "error",
          "ename": "RuntimeError",
          "evalue": "ignored",
          "traceback": [
            "\u001b[0;31m---------------------------------------------------------------------------\u001b[0m",
            "\u001b[0;31mRuntimeError\u001b[0m                              Traceback (most recent call last)",
            "\u001b[0;32m<ipython-input-8-e542df608a81>\u001b[0m in \u001b[0;36m<module>\u001b[0;34m()\u001b[0m\n\u001b[1;32m      1\u001b[0m \u001b[0;32mfrom\u001b[0m \u001b[0minltk\u001b[0m\u001b[0;34m.\u001b[0m\u001b[0minltk\u001b[0m \u001b[0;32mimport\u001b[0m \u001b[0msetup\u001b[0m\u001b[0;34m\u001b[0m\u001b[0;34m\u001b[0m\u001b[0m\n\u001b[1;32m      2\u001b[0m \u001b[0;34m\u001b[0m\u001b[0m\n\u001b[0;32m----> 3\u001b[0;31m \u001b[0msetup\u001b[0m\u001b[0;34m(\u001b[0m\u001b[0;34m'ml'\u001b[0m\u001b[0;34m)\u001b[0m\u001b[0;34m\u001b[0m\u001b[0;34m\u001b[0m\u001b[0m\n\u001b[0m",
            "\u001b[0;32m/usr/local/lib/python3.6/dist-packages/inltk/inltk.py\u001b[0m in \u001b[0;36msetup\u001b[0;34m(language_code)\u001b[0m\n\u001b[1;32m     26\u001b[0m     \u001b[0mloop\u001b[0m \u001b[0;34m=\u001b[0m \u001b[0masyncio\u001b[0m\u001b[0;34m.\u001b[0m\u001b[0mget_event_loop\u001b[0m\u001b[0;34m(\u001b[0m\u001b[0;34m)\u001b[0m\u001b[0;34m\u001b[0m\u001b[0;34m\u001b[0m\u001b[0m\n\u001b[1;32m     27\u001b[0m     \u001b[0mtasks\u001b[0m \u001b[0;34m=\u001b[0m \u001b[0;34m[\u001b[0m\u001b[0masyncio\u001b[0m\u001b[0;34m.\u001b[0m\u001b[0mensure_future\u001b[0m\u001b[0;34m(\u001b[0m\u001b[0mdownload\u001b[0m\u001b[0;34m(\u001b[0m\u001b[0mlanguage_code\u001b[0m\u001b[0;34m)\u001b[0m\u001b[0;34m)\u001b[0m\u001b[0;34m]\u001b[0m\u001b[0;34m\u001b[0m\u001b[0;34m\u001b[0m\u001b[0m\n\u001b[0;32m---> 28\u001b[0;31m     \u001b[0mlearn\u001b[0m \u001b[0;34m=\u001b[0m \u001b[0mloop\u001b[0m\u001b[0;34m.\u001b[0m\u001b[0mrun_until_complete\u001b[0m\u001b[0;34m(\u001b[0m\u001b[0masyncio\u001b[0m\u001b[0;34m.\u001b[0m\u001b[0mgather\u001b[0m\u001b[0;34m(\u001b[0m\u001b[0;34m*\u001b[0m\u001b[0mtasks\u001b[0m\u001b[0;34m)\u001b[0m\u001b[0;34m)\u001b[0m\u001b[0;34m[\u001b[0m\u001b[0;36m0\u001b[0m\u001b[0;34m]\u001b[0m\u001b[0;34m\u001b[0m\u001b[0;34m\u001b[0m\u001b[0m\n\u001b[0m\u001b[1;32m     29\u001b[0m     \u001b[0mloop\u001b[0m\u001b[0;34m.\u001b[0m\u001b[0mclose\u001b[0m\u001b[0;34m(\u001b[0m\u001b[0;34m)\u001b[0m\u001b[0;34m\u001b[0m\u001b[0;34m\u001b[0m\u001b[0m\n\u001b[1;32m     30\u001b[0m \u001b[0;34m\u001b[0m\u001b[0m\n",
            "\u001b[0;32m/usr/lib/python3.6/asyncio/base_events.py\u001b[0m in \u001b[0;36mrun_until_complete\u001b[0;34m(self, future)\u001b[0m\n\u001b[1;32m    469\u001b[0m         \u001b[0mfuture\u001b[0m\u001b[0;34m.\u001b[0m\u001b[0madd_done_callback\u001b[0m\u001b[0;34m(\u001b[0m\u001b[0m_run_until_complete_cb\u001b[0m\u001b[0;34m)\u001b[0m\u001b[0;34m\u001b[0m\u001b[0;34m\u001b[0m\u001b[0m\n\u001b[1;32m    470\u001b[0m         \u001b[0;32mtry\u001b[0m\u001b[0;34m:\u001b[0m\u001b[0;34m\u001b[0m\u001b[0;34m\u001b[0m\u001b[0m\n\u001b[0;32m--> 471\u001b[0;31m             \u001b[0mself\u001b[0m\u001b[0;34m.\u001b[0m\u001b[0mrun_forever\u001b[0m\u001b[0;34m(\u001b[0m\u001b[0;34m)\u001b[0m\u001b[0;34m\u001b[0m\u001b[0;34m\u001b[0m\u001b[0m\n\u001b[0m\u001b[1;32m    472\u001b[0m         \u001b[0;32mexcept\u001b[0m\u001b[0;34m:\u001b[0m\u001b[0;34m\u001b[0m\u001b[0;34m\u001b[0m\u001b[0m\n\u001b[1;32m    473\u001b[0m             \u001b[0;32mif\u001b[0m \u001b[0mnew_task\u001b[0m \u001b[0;32mand\u001b[0m \u001b[0mfuture\u001b[0m\u001b[0;34m.\u001b[0m\u001b[0mdone\u001b[0m\u001b[0;34m(\u001b[0m\u001b[0;34m)\u001b[0m \u001b[0;32mand\u001b[0m \u001b[0;32mnot\u001b[0m \u001b[0mfuture\u001b[0m\u001b[0;34m.\u001b[0m\u001b[0mcancelled\u001b[0m\u001b[0;34m(\u001b[0m\u001b[0;34m)\u001b[0m\u001b[0;34m:\u001b[0m\u001b[0;34m\u001b[0m\u001b[0;34m\u001b[0m\u001b[0m\n",
            "\u001b[0;32m/usr/lib/python3.6/asyncio/base_events.py\u001b[0m in \u001b[0;36mrun_forever\u001b[0;34m(self)\u001b[0m\n\u001b[1;32m    423\u001b[0m         \u001b[0mself\u001b[0m\u001b[0;34m.\u001b[0m\u001b[0m_check_closed\u001b[0m\u001b[0;34m(\u001b[0m\u001b[0;34m)\u001b[0m\u001b[0;34m\u001b[0m\u001b[0;34m\u001b[0m\u001b[0m\n\u001b[1;32m    424\u001b[0m         \u001b[0;32mif\u001b[0m \u001b[0mself\u001b[0m\u001b[0;34m.\u001b[0m\u001b[0mis_running\u001b[0m\u001b[0;34m(\u001b[0m\u001b[0;34m)\u001b[0m\u001b[0;34m:\u001b[0m\u001b[0;34m\u001b[0m\u001b[0;34m\u001b[0m\u001b[0m\n\u001b[0;32m--> 425\u001b[0;31m             \u001b[0;32mraise\u001b[0m \u001b[0mRuntimeError\u001b[0m\u001b[0;34m(\u001b[0m\u001b[0;34m'This event loop is already running'\u001b[0m\u001b[0;34m)\u001b[0m\u001b[0;34m\u001b[0m\u001b[0;34m\u001b[0m\u001b[0m\n\u001b[0m\u001b[1;32m    426\u001b[0m         \u001b[0;32mif\u001b[0m \u001b[0mevents\u001b[0m\u001b[0;34m.\u001b[0m\u001b[0m_get_running_loop\u001b[0m\u001b[0;34m(\u001b[0m\u001b[0;34m)\u001b[0m \u001b[0;32mis\u001b[0m \u001b[0;32mnot\u001b[0m \u001b[0;32mNone\u001b[0m\u001b[0;34m:\u001b[0m\u001b[0;34m\u001b[0m\u001b[0;34m\u001b[0m\u001b[0m\n\u001b[1;32m    427\u001b[0m             raise RuntimeError(\n",
            "\u001b[0;31mRuntimeError\u001b[0m: This event loop is already running"
          ]
        },
        {
          "output_type": "stream",
          "text": [
            "Downloading Model. This might take time, depending on your internet connection. Please be patient.\n",
            "We'll only do this for the first time.\n"
          ],
          "name": "stdout"
        }
      ]
    },
    {
      "cell_type": "code",
      "metadata": {
        "id": "MvrdWWdgn1Tm",
        "colab_type": "code",
        "colab": {
          "base_uri": "https://localhost:8080/",
          "height": 17
        },
        "outputId": "d3e57fe6-6175-4cae-8765-0fe4dfbb55eb"
      },
      "source": [
        "data_lm = TextLMDataBunch.from_folder(path='/content/MalayalamDataset', tokenizer=tokenizer, vocab=malyalam_vocab)\n"
      ],
      "execution_count": 13,
      "outputs": [
        {
          "output_type": "display_data",
          "data": {
            "text/html": [
              ""
            ],
            "text/plain": [
              "<IPython.core.display.HTML object>"
            ]
          },
          "metadata": {
            "tags": []
          }
        },
        {
          "output_type": "display_data",
          "data": {
            "text/html": [
              ""
            ],
            "text/plain": [
              "<IPython.core.display.HTML object>"
            ]
          },
          "metadata": {
            "tags": []
          }
        }
      ]
    },
    {
      "cell_type": "code",
      "metadata": {
        "id": "qnkEx8Tcn1Tp",
        "colab_type": "code",
        "colab": {
          "base_uri": "https://localhost:8080/",
          "height": 34
        },
        "outputId": "8afb9f91-3b0b-48a1-92a1-8173198ff21f"
      },
      "source": [
        "data_lm.batch_size"
      ],
      "execution_count": 14,
      "outputs": [
        {
          "output_type": "execute_result",
          "data": {
            "text/plain": [
              "64"
            ]
          },
          "metadata": {
            "tags": []
          },
          "execution_count": 14
        }
      ]
    },
    {
      "cell_type": "code",
      "metadata": {
        "id": "JvqLNmd-n1Ts",
        "colab_type": "code",
        "colab": {}
      },
      "source": [
        "data_lm.save()"
      ],
      "execution_count": 15,
      "outputs": []
    },
    {
      "cell_type": "code",
      "metadata": {
        "id": "NLmS1vPAn1Tv",
        "colab_type": "code",
        "colab": {
          "base_uri": "https://localhost:8080/",
          "height": 493
        },
        "outputId": "78eb4764-21b0-4778-cbd2-31e8a16b6645"
      },
      "source": [
        "data_lm.show_batch()"
      ],
      "execution_count": 16,
      "outputs": [
        {
          "output_type": "display_data",
          "data": {
            "text/html": [
              "<table border=\"1\" class=\"dataframe\">\n",
              "  <thead>\n",
              "    <tr style=\"text-align: right;\">\n",
              "      <th>idx</th>\n",
              "      <th>text</th>\n",
              "    </tr>\n",
              "  </thead>\n",
              "  <tbody>\n",
              "    <tr>\n",
              "      <td>0</td>\n",
              "      <td>▁താ ലു ക്കിൽ , ▁കോട്ട പ്പ ടി ▁പഞ്ചായത്ത ിൽ ▁മൂ ന്തു ർ ▁എന്ന ▁സ്ഥല ത്തുള്ള ▁ശിവക്ഷേത്ര മാണ് ▁ന ന്ത നാർ ▁ക്ഷേത്രം . ▁ശിവ ▁പ്രതിഷ്ഠ ക്കൊപ്പം ▁ഭക്ത ന ന്ത നാ രുടെ ▁പ്രതിഷ്ഠ യും ▁ഉള്ള ▁കേരളത്തിലെ ▁അപൂർവ്വ ം ▁ക്ഷേത്ര ങ്ങളിൽ ▁ഒന്നാണ് ▁ഇത് . ▁അമ്പ തി യ ൊന്നു ▁പടി കൾ ▁കയറി വേ ണം ▁നട &lt;unk&gt; ▁എത്ത ാൻ . ▁മലയാളം ▁മാസം ▁ഒന്നാം തി യ തി കളിൽ ▁രാവിലെ ▁പ്രത്യേക ▁പൂജ കൾ ▁നടത്തിവരുന്നു . ▁കൂടാതെ ▁എല്ലാ</td>\n",
              "    </tr>\n",
              "    <tr>\n",
              "      <td>1</td>\n",
              "      <td>▁ചെയ്തു . ▁ഗ ത്യ ന്ത ര മില്ലാതെ ▁അലി ▁മുആവിയ യുടെ ▁സൈന്യ വുമായി ▁സന്ധി ▁ചെയ്യാൻ ▁തീരുമാനിച്ചു . ▁എന്നാൽ ▁ഈ ▁തീരുമാന ം ▁അലിയുടെ ▁തന്നെ ▁അനുയായികള ിൽ ▁ചില രുടെ ▁കടുത്ത ▁എതിർപ്പ ിനി ട യാക്കി . ▁തീവ്രവാദ ികളായ ▁ഇവര ിൽ ▁ചിലർ ചേർന്ന് ▁അലി യെ ▁കൊല പ്പെടുത്തി . ▁കിട്ടിയ ▁അവസരം ▁പാ ഴ ാ ക്കാതെ ▁മുആവിയ ▁സ്വയം ▁ഖലീഫ യായി ▁അവ രോധ ിച്ചു . ▁ഖലീഫ ▁സ്ഥാന ത്തിന ർ ഹ നായ ▁അലിയുടെ ▁മൂത്ത ▁പുത്രൻ ▁ഹ സ്സ ന് ▁പെൻഷൻ</td>\n",
              "    </tr>\n",
              "    <tr>\n",
              "      <td>2</td>\n",
              "      <td>ത ൽ ▁അതിവേഗ പാത ▁ഉപയോഗ ് ഗ ിക്കുന്ന ▁വാഹന ങ്ങൾക്ക് ▁ചു ങ്ക ം ▁നിരക്ക ിൽ ▁ഇള വ ുകൾ ▁അനുവദിച്ച ിട്ടുണ്ട് . ▁ x x bo s ▁തോ ക്ക ുകളുടെ ▁മുന്നിൽ ▁ഘടിപ്പിക്ക ുന്ന ▁കത്തി യാണ് ▁ബ യ ണ റ്റ് ▁എന്ന റിയപ്പെടുന്നത് . ▁തോ ക്ക ിനെ ▁അടിസ്ഥാന പരമായി ▁ഒരു ▁കു ന്ത മാക്കി ▁ഉപയോഗിക്ക ാനാണ് ▁ബ യ ണ റ്റ് ▁ഘടിപ്പിക്ക ുന്നത് . ▁വെടി യു ണ്ട യുടെ ▁ദ ൗ ർ ല ഭ്യ മോ ▁തൊട്ടടുത്ത</td>\n",
              "    </tr>\n",
              "    <tr>\n",
              "      <td>3</td>\n",
              "      <td>ായ പ്പോൾ ▁അയാൾ ക്ക് ▁സഹ താ പ ം ▁തോന്ന ുകയും ▁ക്രമേണ ▁പ്രണയ മായി ▁മാറുകയും ▁ചെയ്തു . അ യാൾ ക്ക് ▁ഒരിക്കൽ ▁അന ധി കൃത മായി ▁ജോലി ▁ചെയ്യുന്ന ▁ അഫ്ഗാൻ കാര െ ▁പിടികൂട ാൻ ▁വന്ന ▁ഇറാനിയൻ ▁ഉദ്യോഗസ്ഥര ിൽ ▁അവളെ ▁രക്ഷിക്ക ാൻ ▁സാധിക്ക ുകയും ▁ചെയ്തു . ▁ഇ തിനുശേഷം ▁ബ റ ാൻ ▁ജോലി സ്ഥല ം ▁മാറ്റ ുകയും ▁ചെയ്തു . എന്നാൽ ▁ല തീ ഫ് ▁പല ▁സ്ഥല ങ്ങളിലും ▁അവളെ ▁അന്വേഷിച്ച ് ▁നടന്നു . ഒരു ▁പുഴ യുടെ</td>\n",
              "    </tr>\n",
              "    <tr>\n",
              "      <td>4</td>\n",
              "      <td>ാണ് . ▁മുഗൾ കാല ▁കെട്ടിട ങ്ങൾ ▁അടങ്ങുന്ന ▁തെക്കുകിഴക്ക േ ▁മൂല , ▁ആർ ക്കിയ ോളജി ക്കൽ ▁സർവ േ ▁ഓഫ് ▁ഇന്ത്യയുടെ ▁കൈവശ മാണ് . ▁ഈ ▁ഭാഗം ▁സന്ദർശക ർ ക്കായി ▁തുറന്നു കൊടുത്ത ിട്ടു മുണ്ട് . ▁ 94 - ac re ▁വിസ്തൃതി യുള്ള ▁ആഗ്ര ▁കോട്ട , ▁ഏതാണ്ട് ▁അർദ്ധ വൃത്ത ാകൃതി യിലാണ് . ▁കിഴക്കു വശത്ത ് ▁അർദ്ധ വൃത്ത ത്തിന്റെ ▁ഞാ ൺ ▁ഭാഗം , ▁യമുന ാ നദി ക്ക് ▁സമാന്തര മായി ▁സ്ഥിതി ▁ചെയ്യുന്നു . ▁ഇരട്ട ഭി ത്തി</td>\n",
              "    </tr>\n",
              "  </tbody>\n",
              "</table>"
            ],
            "text/plain": [
              "<IPython.core.display.HTML object>"
            ]
          },
          "metadata": {
            "tags": []
          }
        }
      ]
    },
    {
      "cell_type": "code",
      "metadata": {
        "id": "SVkLlFGrn1Ty",
        "colab_type": "code",
        "colab": {
          "base_uri": "https://localhost:8080/",
          "height": 34
        },
        "outputId": "d5e5c423-2b1b-46d7-8ca8-39f84a1435bf"
      },
      "source": [
        "len(data_lm.vocab.itos)"
      ],
      "execution_count": 17,
      "outputs": [
        {
          "output_type": "execute_result",
          "data": {
            "text/plain": [
              "10000"
            ]
          },
          "metadata": {
            "tags": []
          },
          "execution_count": 17
        }
      ]
    },
    {
      "cell_type": "code",
      "metadata": {
        "id": "gri-MJIYXFz1",
        "colab_type": "code",
        "colab": {
          "base_uri": "https://localhost:8080/",
          "height": 68
        },
        "outputId": "f842543f-dfb5-4606-bc1a-f78b1d4e9540"
      },
      "source": [
        "!pip install -q git+https://github.com/fastai/fastprogress --upgrade\n",
        "!pip install -q git+https://github.com/fastai/fastcore --upgrade\n",
        "!pip install -q git+https://github.com/fastai/fastai2 --upgrade"
      ],
      "execution_count": null,
      "outputs": [
        {
          "output_type": "stream",
          "text": [
            "  Building wheel for fastprogress (setup.py) ... \u001b[?25l\u001b[?25hdone\n",
            "  Building wheel for fastcore (setup.py) ... \u001b[?25l\u001b[?25hdone\n",
            "  Building wheel for fastai2 (setup.py) ... \u001b[?25l\u001b[?25hdone\n"
          ],
          "name": "stdout"
        }
      ]
    },
    {
      "cell_type": "code",
      "metadata": {
        "id": "m3jlHYgrYATH",
        "colab_type": "code",
        "colab": {
          "base_uri": "https://localhost:8080/",
          "height": 326
        },
        "outputId": "eec3db05-2e89-431c-c066-92247c0f5c8d"
      },
      "source": [
        "!pip install --upgrade --user prompt_toolkit==2.0.10"
      ],
      "execution_count": null,
      "outputs": [
        {
          "output_type": "stream",
          "text": [
            "Collecting prompt_toolkit==2.0.10\n",
            "\u001b[?25l  Downloading https://files.pythonhosted.org/packages/87/61/2dfea88583d5454e3a64f9308a686071d58d59a55db638268a6413e1eb6d/prompt_toolkit-2.0.10-py3-none-any.whl (340kB)\n",
            "\r\u001b[K     |█                               | 10kB 21.3MB/s eta 0:00:01\r\u001b[K     |██                              | 20kB 1.7MB/s eta 0:00:01\r\u001b[K     |███                             | 30kB 2.2MB/s eta 0:00:01\r\u001b[K     |███▉                            | 40kB 2.5MB/s eta 0:00:01\r\u001b[K     |████▉                           | 51kB 2.0MB/s eta 0:00:01\r\u001b[K     |█████▉                          | 61kB 2.2MB/s eta 0:00:01\r\u001b[K     |██████▊                         | 71kB 2.5MB/s eta 0:00:01\r\u001b[K     |███████▊                        | 81kB 2.7MB/s eta 0:00:01\r\u001b[K     |████████▊                       | 92kB 2.9MB/s eta 0:00:01\r\u001b[K     |█████████▋                      | 102kB 2.8MB/s eta 0:00:01\r\u001b[K     |██████████▋                     | 112kB 2.8MB/s eta 0:00:01\r\u001b[K     |███████████▋                    | 122kB 2.8MB/s eta 0:00:01\r\u001b[K     |████████████▌                   | 133kB 2.8MB/s eta 0:00:01\r\u001b[K     |█████████████▌                  | 143kB 2.8MB/s eta 0:00:01\r\u001b[K     |██████████████▌                 | 153kB 2.8MB/s eta 0:00:01\r\u001b[K     |███████████████▍                | 163kB 2.8MB/s eta 0:00:01\r\u001b[K     |████████████████▍               | 174kB 2.8MB/s eta 0:00:01\r\u001b[K     |█████████████████▍              | 184kB 2.8MB/s eta 0:00:01\r\u001b[K     |██████████████████▎             | 194kB 2.8MB/s eta 0:00:01\r\u001b[K     |███████████████████▎            | 204kB 2.8MB/s eta 0:00:01\r\u001b[K     |████████████████████▎           | 215kB 2.8MB/s eta 0:00:01\r\u001b[K     |█████████████████████▏          | 225kB 2.8MB/s eta 0:00:01\r\u001b[K     |██████████████████████▏         | 235kB 2.8MB/s eta 0:00:01\r\u001b[K     |███████████████████████▏        | 245kB 2.8MB/s eta 0:00:01\r\u001b[K     |████████████████████████        | 256kB 2.8MB/s eta 0:00:01\r\u001b[K     |█████████████████████████       | 266kB 2.8MB/s eta 0:00:01\r\u001b[K     |██████████████████████████      | 276kB 2.8MB/s eta 0:00:01\r\u001b[K     |███████████████████████████     | 286kB 2.8MB/s eta 0:00:01\r\u001b[K     |████████████████████████████    | 296kB 2.8MB/s eta 0:00:01\r\u001b[K     |█████████████████████████████   | 307kB 2.8MB/s eta 0:00:01\r\u001b[K     |█████████████████████████████▉  | 317kB 2.8MB/s eta 0:00:01\r\u001b[K     |██████████████████████████████▉ | 327kB 2.8MB/s eta 0:00:01\r\u001b[K     |███████████████████████████████▉| 337kB 2.8MB/s eta 0:00:01\r\u001b[K     |████████████████████████████████| 348kB 2.8MB/s \n",
            "\u001b[?25hRequirement already satisfied, skipping upgrade: six>=1.9.0 in /usr/local/lib/python3.6/dist-packages (from prompt_toolkit==2.0.10) (1.15.0)\n",
            "Requirement already satisfied, skipping upgrade: wcwidth in /usr/local/lib/python3.6/dist-packages (from prompt_toolkit==2.0.10) (0.2.5)\n",
            "\u001b[31mERROR: jupyter-console 5.2.0 has requirement prompt-toolkit<2.0.0,>=1.0.0, but you'll have prompt-toolkit 2.0.10 which is incompatible.\u001b[0m\n",
            "\u001b[31mERROR: ipython 5.5.0 has requirement prompt-toolkit<2.0.0,>=1.0.4, but you'll have prompt-toolkit 2.0.10 which is incompatible.\u001b[0m\n",
            "Installing collected packages: prompt-toolkit\n",
            "Successfully installed prompt-toolkit-2.0.10\n"
          ],
          "name": "stdout"
        },
        {
          "output_type": "display_data",
          "data": {
            "application/vnd.colab-display-data+json": {
              "pip_warning": {
                "packages": [
                  "prompt_toolkit"
                ]
              }
            }
          },
          "metadata": {
            "tags": []
          }
        }
      ]
    },
    {
      "cell_type": "code",
      "metadata": {
        "id": "dZEiP6IPZASP",
        "colab_type": "code",
        "colab": {
          "base_uri": "https://localhost:8080/",
          "height": 119
        },
        "outputId": "47c30f59-c05b-4e8a-d845-95e916568700"
      },
      "source": [
        "!pip uninstall fastprogress"
      ],
      "execution_count": 29,
      "outputs": [
        {
          "output_type": "stream",
          "text": [
            "Uninstalling fastprogress-0.2.3:\n",
            "  Would remove:\n",
            "    /usr/local/lib/python3.6/dist-packages/fastprogress-0.2.3.dist-info/*\n",
            "    /usr/local/lib/python3.6/dist-packages/fastprogress/*\n",
            "Proceed (y/n)? y\n",
            "  Successfully uninstalled fastprogress-0.2.3\n"
          ],
          "name": "stdout"
        }
      ]
    },
    {
      "cell_type": "code",
      "metadata": {
        "id": "cx5hytBKn1T1",
        "colab_type": "code",
        "colab": {
          "base_uri": "https://localhost:8080/",
          "height": 71
        },
        "outputId": "f4283e22-cf4e-4143-df1c-734ff42912ed"
      },
      "source": [
        "learn = language_model_learner(data_lm, AWD_LSTM, drop_mult=0.3)"
      ],
      "execution_count": 18,
      "outputs": [
        {
          "output_type": "stream",
          "text": [
            "A new version of the model is available.\n",
            "Downloading https://s3.amazonaws.com/fast-ai-modelzoo/wt103-fwd\n"
          ],
          "name": "stdout"
        },
        {
          "output_type": "display_data",
          "data": {
            "text/html": [
              "\n",
              "    <div>\n",
              "        <style>\n",
              "            /* Turns off some styling */\n",
              "            progress {\n",
              "                /* gets rid of default border in Firefox and Opera. */\n",
              "                border: none;\n",
              "                /* Needs to be in here for Safari polyfill so background images work as expected. */\n",
              "                background-size: auto;\n",
              "            }\n",
              "            .progress-bar-interrupted, .progress-bar-interrupted::-webkit-progress-bar {\n",
              "                background: #F44336;\n",
              "            }\n",
              "        </style>\n",
              "      <progress value='0' class='' max='105067061', style='width:300px; height:20px; vertical-align: middle;'></progress>\n",
              "      \n",
              "    </div>\n",
              "    "
            ],
            "text/plain": [
              "<IPython.core.display.HTML object>"
            ]
          },
          "metadata": {
            "tags": []
          }
        }
      ]
    },
    {
      "cell_type": "code",
      "metadata": {
        "id": "k4w1qsVrn1T3",
        "colab_type": "code",
        "colab": {
          "base_uri": "https://localhost:8080/",
          "height": 34
        },
        "outputId": "09c42d0e-4bbd-47bb-e321-2389262045f4"
      },
      "source": [
        "gc.collect()"
      ],
      "execution_count": 19,
      "outputs": [
        {
          "output_type": "execute_result",
          "data": {
            "text/plain": [
              "0"
            ]
          },
          "metadata": {
            "tags": []
          },
          "execution_count": 19
        }
      ]
    },
    {
      "cell_type": "code",
      "metadata": {
        "id": "0t2e8NiCn1T6",
        "colab_type": "code",
        "colab": {
          "base_uri": "https://localhost:8080/",
          "height": 34
        },
        "outputId": "961c1b24-b4b7-42aa-a0e9-8e9f394af3a9"
      },
      "source": [
        "learn.lr_find()"
      ],
      "execution_count": 20,
      "outputs": [
        {
          "output_type": "display_data",
          "data": {
            "text/html": [
              ""
            ],
            "text/plain": [
              "<IPython.core.display.HTML object>"
            ]
          },
          "metadata": {
            "tags": []
          }
        },
        {
          "output_type": "stream",
          "text": [
            "LR Finder is complete, type {learner_name}.recorder.plot() to see the graph.\n"
          ],
          "name": "stdout"
        }
      ]
    },
    {
      "cell_type": "code",
      "metadata": {
        "id": "nMYCVsvSn1T9",
        "colab_type": "code",
        "colab": {},
        "outputId": "9f7b6210-af0c-422c-d7a2-055f269b4583"
      },
      "source": [
        "learn.recorder.plot()"
      ],
      "execution_count": null,
      "outputs": [
        {
          "output_type": "display_data",
          "data": {
            "image/png": "[encoded data removed]",
            "text/plain": [
              "<Figure size 432x288 with 1 Axes>"
            ]
          },
          "metadata": {
            "tags": [],
            "needs_background": "light"
          }
        }
      ]
    },
    {
      "cell_type": "code",
      "metadata": {
        "id": "uRaZgTqin1T_",
        "colab_type": "code",
        "colab": {
          "base_uri": "https://localhost:8080/",
          "height": 80
        },
        "outputId": "3f0eb942-0d87-4660-bf5b-3383f0733f6f"
      },
      "source": [
        "learn.fit_one_cycle(1, 1e-2, moms=(0.8,0.7))"
      ],
      "execution_count": 21,
      "outputs": [
        {
          "output_type": "display_data",
          "data": {
            "text/html": [
              "<table border=\"1\" class=\"dataframe\">\n",
              "  <thead>\n",
              "    <tr style=\"text-align: left;\">\n",
              "      <th>epoch</th>\n",
              "      <th>train_loss</th>\n",
              "      <th>valid_loss</th>\n",
              "      <th>accuracy</th>\n",
              "      <th>time</th>\n",
              "    </tr>\n",
              "  </thead>\n",
              "  <tbody>\n",
              "    <tr>\n",
              "      <td>0</td>\n",
              "      <td>5.320145</td>\n",
              "      <td>5.169722</td>\n",
              "      <td>0.207704</td>\n",
              "      <td>03:54</td>\n",
              "    </tr>\n",
              "  </tbody>\n",
              "</table>"
            ],
            "text/plain": [
              "<IPython.core.display.HTML object>"
            ]
          },
          "metadata": {
            "tags": []
          }
        }
      ]
    },
    {
      "cell_type": "code",
      "metadata": {
        "id": "c9yaUs7Dn1UC",
        "colab_type": "code",
        "colab": {}
      },
      "source": [
        "learn.save('first', with_opt=True)"
      ],
      "execution_count": 22,
      "outputs": []
    },
    {
      "cell_type": "code",
      "metadata": {
        "id": "7GFwFkQAn1UE",
        "colab_type": "code",
        "colab": {}
      },
      "source": [
        "learn.load('first', with_opt=True);"
      ],
      "execution_count": 23,
      "outputs": []
    },
    {
      "cell_type": "code",
      "metadata": {
        "id": "xJXea5iBn1UH",
        "colab_type": "code",
        "colab": {}
      },
      "source": [
        "learn.unfreeze()"
      ],
      "execution_count": 24,
      "outputs": []
    },
    {
      "cell_type": "code",
      "metadata": {
        "id": "8bndf-e8n1UK",
        "colab_type": "code",
        "colab": {
          "base_uri": "https://localhost:8080/",
          "height": 204
        },
        "outputId": "1ac52287-709d-4ef5-e982-e982fc86e4ad"
      },
      "source": [
        "learn.fit_one_cycle(5, 1e-2, moms=(0.8,0.7))"
      ],
      "execution_count": 25,
      "outputs": [
        {
          "output_type": "display_data",
          "data": {
            "text/html": [
              "<table border=\"1\" class=\"dataframe\">\n",
              "  <thead>\n",
              "    <tr style=\"text-align: left;\">\n",
              "      <th>epoch</th>\n",
              "      <th>train_loss</th>\n",
              "      <th>valid_loss</th>\n",
              "      <th>accuracy</th>\n",
              "      <th>time</th>\n",
              "    </tr>\n",
              "  </thead>\n",
              "  <tbody>\n",
              "    <tr>\n",
              "      <td>0</td>\n",
              "      <td>4.616034</td>\n",
              "      <td>4.716401</td>\n",
              "      <td>0.242920</td>\n",
              "      <td>04:53</td>\n",
              "    </tr>\n",
              "    <tr>\n",
              "      <td>1</td>\n",
              "      <td>4.292662</td>\n",
              "      <td>4.435427</td>\n",
              "      <td>0.272956</td>\n",
              "      <td>04:57</td>\n",
              "    </tr>\n",
              "    <tr>\n",
              "      <td>2</td>\n",
              "      <td>3.994890</td>\n",
              "      <td>4.039202</td>\n",
              "      <td>0.321016</td>\n",
              "      <td>04:57</td>\n",
              "    </tr>\n",
              "    <tr>\n",
              "      <td>3</td>\n",
              "      <td>3.547452</td>\n",
              "      <td>3.656352</td>\n",
              "      <td>0.374645</td>\n",
              "      <td>04:57</td>\n",
              "    </tr>\n",
              "    <tr>\n",
              "      <td>4</td>\n",
              "      <td>3.153727</td>\n",
              "      <td>3.555925</td>\n",
              "      <td>0.392381</td>\n",
              "      <td>04:57</td>\n",
              "    </tr>\n",
              "  </tbody>\n",
              "</table>"
            ],
            "text/plain": [
              "<IPython.core.display.HTML object>"
            ]
          },
          "metadata": {
            "tags": []
          }
        }
      ]
    },
    {
      "cell_type": "code",
      "metadata": {
        "id": "tWcZwoVMn1UM",
        "colab_type": "code",
        "colab": {}
      },
      "source": [
        "learn.save('second_ml_lm', with_opt=True)"
      ],
      "execution_count": 26,
      "outputs": []
    },
    {
      "cell_type": "code",
      "metadata": {
        "id": "478gobgan1UO",
        "colab_type": "code",
        "colab": {}
      },
      "source": [
        "learn.load('second_ml_lm', with_opt=True);"
      ],
      "execution_count": 27,
      "outputs": []
    },
    {
      "cell_type": "code",
      "metadata": {
        "id": "GZKCdNbLn1UR",
        "colab_type": "code",
        "colab": {
          "base_uri": "https://localhost:8080/",
          "height": 95
        },
        "outputId": "7fe84a09-8da1-464a-c0f5-f71b1e164c3c"
      },
      "source": [
        "learn.fit_one_cycle(40, 1e-3, moms=(0.8,0.7))"
      ],
      "execution_count": null,
      "outputs": [
        {
          "output_type": "display_data",
          "data": {
            "text/html": [
              "\n",
              "    <div>\n",
              "        <style>\n",
              "            /* Turns off some styling */\n",
              "            progress {\n",
              "                /* gets rid of default border in Firefox and Opera. */\n",
              "                border: none;\n",
              "                /* Needs to be in here for Safari polyfill so background images work as expected. */\n",
              "                background-size: auto;\n",
              "            }\n",
              "            .progress-bar-interrupted, .progress-bar-interrupted::-webkit-progress-bar {\n",
              "                background: #F44336;\n",
              "            }\n",
              "        </style>\n",
              "      <progress value='0' class='' max='40', style='width:300px; height:20px; vertical-align: middle;'></progress>\n",
              "      \n",
              "    </div>\n",
              "    \n",
              "<table border=\"1\" class=\"dataframe\">\n",
              "  <thead>\n",
              "    <tr style=\"text-align: left;\">\n",
              "      <th>epoch</th>\n",
              "      <th>train_loss</th>\n",
              "      <th>valid_loss</th>\n",
              "      <th>accuracy</th>\n",
              "      <th>time</th>\n",
              "    </tr>\n",
              "  </thead>\n",
              "  <tbody>\n",
              "  </tbody>\n",
              "</table><p>\n",
              "\n",
              "    <div>\n",
              "        <style>\n",
              "            /* Turns off some styling */\n",
              "            progress {\n",
              "                /* gets rid of default border in Firefox and Opera. */\n",
              "                border: none;\n",
              "                /* Needs to be in here for Safari polyfill so background images work as expected. */\n",
              "                background-size: auto;\n",
              "            }\n",
              "            .progress-bar-interrupted, .progress-bar-interrupted::-webkit-progress-bar {\n",
              "                background: #F44336;\n",
              "            }\n",
              "        </style>\n",
              "      <progress value='0' class='' max='1021', style='width:300px; height:20px; vertical-align: middle;'></progress>\n",
              "      \n",
              "    </div>\n",
              "    "
            ],
            "text/plain": [
              "<IPython.core.display.HTML object>"
            ]
          },
          "metadata": {
            "tags": []
          }
        }
      ]
    },
    {
      "cell_type": "code",
      "metadata": {
        "id": "ADCHjETan1UV",
        "colab_type": "code",
        "colab": {}
      },
      "source": [
        "learn.save('third_ml_lm', with_opt=True)"
      ],
      "execution_count": null,
      "outputs": []
    },
    {
      "cell_type": "code",
      "metadata": {
        "id": "pHqla28Hn1UX",
        "colab_type": "code",
        "colab": {},
        "outputId": "6306a3b0-bcd8-42ef-9f75-64fde2722fbf"
      },
      "source": [
        "learn.load('third_ml_lm', with_opt=True);"
      ],
      "execution_count": null,
      "outputs": [
        {
          "output_type": "error",
          "ename": "RuntimeError",
          "evalue": "Error(s) in loading state_dict for SequentialRNN:\n\tsize mismatch for 0.rnns.0.weight_hh_l0_raw: copying a param with shape torch.Size([4600, 1150]) from checkpoint, the shape in current model is torch.Size([4608, 1152]).\n\tsize mismatch for 0.rnns.0.module.weight_ih_l0: copying a param with shape torch.Size([4600, 400]) from checkpoint, the shape in current model is torch.Size([4608, 400]).\n\tsize mismatch for 0.rnns.0.module.weight_hh_l0: copying a param with shape torch.Size([4600, 1150]) from checkpoint, the shape in current model is torch.Size([4608, 1152]).\n\tsize mismatch for 0.rnns.0.module.bias_ih_l0: copying a param with shape torch.Size([4600]) from checkpoint, the shape in current model is torch.Size([4608]).\n\tsize mismatch for 0.rnns.0.module.bias_hh_l0: copying a param with shape torch.Size([4600]) from checkpoint, the shape in current model is torch.Size([4608]).\n\tsize mismatch for 0.rnns.1.weight_hh_l0_raw: copying a param with shape torch.Size([4600, 1150]) from checkpoint, the shape in current model is torch.Size([4608, 1152]).\n\tsize mismatch for 0.rnns.1.module.weight_ih_l0: copying a param with shape torch.Size([4600, 1150]) from checkpoint, the shape in current model is torch.Size([4608, 1152]).\n\tsize mismatch for 0.rnns.1.module.weight_hh_l0: copying a param with shape torch.Size([4600, 1150]) from checkpoint, the shape in current model is torch.Size([4608, 1152]).\n\tsize mismatch for 0.rnns.1.module.bias_ih_l0: copying a param with shape torch.Size([4600]) from checkpoint, the shape in current model is torch.Size([4608]).\n\tsize mismatch for 0.rnns.1.module.bias_hh_l0: copying a param with shape torch.Size([4600]) from checkpoint, the shape in current model is torch.Size([4608]).\n\tsize mismatch for 0.rnns.2.module.weight_ih_l0: copying a param with shape torch.Size([1600, 1150]) from checkpoint, the shape in current model is torch.Size([1600, 1152]).",
          "traceback": [
            "\u001b[0;31m---------------------------------------------------------------------------\u001b[0m",
            "\u001b[0;31mRuntimeError\u001b[0m                              Traceback (most recent call last)",
            "\u001b[0;32m<ipython-input-24-dc5a348f6253>\u001b[0m in \u001b[0;36m<module>\u001b[0;34m\u001b[0m\n\u001b[0;32m----> 1\u001b[0;31m \u001b[0mlearn\u001b[0m\u001b[0;34m.\u001b[0m\u001b[0mload\u001b[0m\u001b[0;34m(\u001b[0m\u001b[0;34m'third_ml_lm'\u001b[0m\u001b[0;34m,\u001b[0m \u001b[0mwith_opt\u001b[0m\u001b[0;34m=\u001b[0m\u001b[0;32mTrue\u001b[0m\u001b[0;34m)\u001b[0m\u001b[0;34m;\u001b[0m\u001b[0;34m\u001b[0m\u001b[0;34m\u001b[0m\u001b[0m\n\u001b[0m",
            "\u001b[0;32m/usr/local/lib/python3.8/site-packages/fastai/basic_train.py\u001b[0m in \u001b[0;36mload\u001b[0;34m(self, file, device, strict, with_opt, purge, remove_module)\u001b[0m\n\u001b[1;32m    271\u001b[0m             \u001b[0mmodel_state\u001b[0m \u001b[0;34m=\u001b[0m \u001b[0mstate\u001b[0m\u001b[0;34m[\u001b[0m\u001b[0;34m'model'\u001b[0m\u001b[0;34m]\u001b[0m\u001b[0;34m\u001b[0m\u001b[0;34m\u001b[0m\u001b[0m\n\u001b[1;32m    272\u001b[0m             \u001b[0;32mif\u001b[0m \u001b[0mremove_module\u001b[0m\u001b[0;34m:\u001b[0m \u001b[0mmodel_state\u001b[0m \u001b[0;34m=\u001b[0m \u001b[0mremove_module_load\u001b[0m\u001b[0;34m(\u001b[0m\u001b[0mmodel_state\u001b[0m\u001b[0;34m)\u001b[0m\u001b[0;34m\u001b[0m\u001b[0;34m\u001b[0m\u001b[0m\n\u001b[0;32m--> 273\u001b[0;31m             \u001b[0mget_model\u001b[0m\u001b[0;34m(\u001b[0m\u001b[0mself\u001b[0m\u001b[0;34m.\u001b[0m\u001b[0mmodel\u001b[0m\u001b[0;34m)\u001b[0m\u001b[0;34m.\u001b[0m\u001b[0mload_state_dict\u001b[0m\u001b[0;34m(\u001b[0m\u001b[0mmodel_state\u001b[0m\u001b[0;34m,\u001b[0m \u001b[0mstrict\u001b[0m\u001b[0;34m=\u001b[0m\u001b[0mstrict\u001b[0m\u001b[0;34m)\u001b[0m\u001b[0;34m\u001b[0m\u001b[0;34m\u001b[0m\u001b[0m\n\u001b[0m\u001b[1;32m    274\u001b[0m             \u001b[0;32mif\u001b[0m \u001b[0mifnone\u001b[0m\u001b[0;34m(\u001b[0m\u001b[0mwith_opt\u001b[0m\u001b[0;34m,\u001b[0m\u001b[0;32mTrue\u001b[0m\u001b[0;34m)\u001b[0m\u001b[0;34m:\u001b[0m\u001b[0;34m\u001b[0m\u001b[0;34m\u001b[0m\u001b[0m\n\u001b[1;32m    275\u001b[0m                 \u001b[0;32mif\u001b[0m \u001b[0;32mnot\u001b[0m \u001b[0mhasattr\u001b[0m\u001b[0;34m(\u001b[0m\u001b[0mself\u001b[0m\u001b[0;34m,\u001b[0m \u001b[0;34m'opt'\u001b[0m\u001b[0;34m)\u001b[0m\u001b[0;34m:\u001b[0m \u001b[0mself\u001b[0m\u001b[0;34m.\u001b[0m\u001b[0mcreate_opt\u001b[0m\u001b[0;34m(\u001b[0m\u001b[0mdefaults\u001b[0m\u001b[0;34m.\u001b[0m\u001b[0mlr\u001b[0m\u001b[0;34m,\u001b[0m \u001b[0mself\u001b[0m\u001b[0;34m.\u001b[0m\u001b[0mwd\u001b[0m\u001b[0;34m)\u001b[0m\u001b[0;34m\u001b[0m\u001b[0;34m\u001b[0m\u001b[0m\n",
            "\u001b[0;32m/usr/local/lib64/python3.8/site-packages/torch/nn/modules/module.py\u001b[0m in \u001b[0;36mload_state_dict\u001b[0;34m(self, state_dict, strict)\u001b[0m\n\u001b[1;32m    844\u001b[0m \u001b[0;34m\u001b[0m\u001b[0m\n\u001b[1;32m    845\u001b[0m         \u001b[0;32mif\u001b[0m \u001b[0mlen\u001b[0m\u001b[0;34m(\u001b[0m\u001b[0merror_msgs\u001b[0m\u001b[0;34m)\u001b[0m \u001b[0;34m>\u001b[0m \u001b[0;36m0\u001b[0m\u001b[0;34m:\u001b[0m\u001b[0;34m\u001b[0m\u001b[0;34m\u001b[0m\u001b[0m\n\u001b[0;32m--> 846\u001b[0;31m             raise RuntimeError('Error(s) in loading state_dict for {}:\\n\\t{}'.format(\n\u001b[0m\u001b[1;32m    847\u001b[0m                                self.__class__.__name__, \"\\n\\t\".join(error_msgs)))\n\u001b[1;32m    848\u001b[0m         \u001b[0;32mreturn\u001b[0m \u001b[0m_IncompatibleKeys\u001b[0m\u001b[0;34m(\u001b[0m\u001b[0mmissing_keys\u001b[0m\u001b[0;34m,\u001b[0m \u001b[0munexpected_keys\u001b[0m\u001b[0;34m)\u001b[0m\u001b[0;34m\u001b[0m\u001b[0;34m\u001b[0m\u001b[0m\n",
            "\u001b[0;31mRuntimeError\u001b[0m: Error(s) in loading state_dict for SequentialRNN:\n\tsize mismatch for 0.rnns.0.weight_hh_l0_raw: copying a param with shape torch.Size([4600, 1150]) from checkpoint, the shape in current model is torch.Size([4608, 1152]).\n\tsize mismatch for 0.rnns.0.module.weight_ih_l0: copying a param with shape torch.Size([4600, 400]) from checkpoint, the shape in current model is torch.Size([4608, 400]).\n\tsize mismatch for 0.rnns.0.module.weight_hh_l0: copying a param with shape torch.Size([4600, 1150]) from checkpoint, the shape in current model is torch.Size([4608, 1152]).\n\tsize mismatch for 0.rnns.0.module.bias_ih_l0: copying a param with shape torch.Size([4600]) from checkpoint, the shape in current model is torch.Size([4608]).\n\tsize mismatch for 0.rnns.0.module.bias_hh_l0: copying a param with shape torch.Size([4600]) from checkpoint, the shape in current model is torch.Size([4608]).\n\tsize mismatch for 0.rnns.1.weight_hh_l0_raw: copying a param with shape torch.Size([4600, 1150]) from checkpoint, the shape in current model is torch.Size([4608, 1152]).\n\tsize mismatch for 0.rnns.1.module.weight_ih_l0: copying a param with shape torch.Size([4600, 1150]) from checkpoint, the shape in current model is torch.Size([4608, 1152]).\n\tsize mismatch for 0.rnns.1.module.weight_hh_l0: copying a param with shape torch.Size([4600, 1150]) from checkpoint, the shape in current model is torch.Size([4608, 1152]).\n\tsize mismatch for 0.rnns.1.module.bias_ih_l0: copying a param with shape torch.Size([4600]) from checkpoint, the shape in current model is torch.Size([4608]).\n\tsize mismatch for 0.rnns.1.module.bias_hh_l0: copying a param with shape torch.Size([4600]) from checkpoint, the shape in current model is torch.Size([4608]).\n\tsize mismatch for 0.rnns.2.module.weight_ih_l0: copying a param with shape torch.Size([1600, 1150]) from checkpoint, the shape in current model is torch.Size([1600, 1152])."
          ]
        }
      ]
    },
    {
      "cell_type": "code",
      "metadata": {
        "id": "jY8gcIGRn1UZ",
        "colab_type": "code",
        "colab": {}
      },
      "source": [
        "TEXT = \"ബംഗാളിലെ ▁ഭരണം ▁കമ്പനി\"\n",
        "N_WORDS = 40\n",
        "N_SENTENCES = 2"
      ],
      "execution_count": 28,
      "outputs": []
    },
    {
      "cell_type": "code",
      "metadata": {
        "id": "_F2WzmZEn1Ub",
        "colab_type": "code",
        "colab": {
          "base_uri": "https://localhost:8080/",
          "height": 71
        },
        "outputId": "42d4981f-3047-4b01-d761-acd619c69c39"
      },
      "source": [
        "print(\"\\n\".join(learn.predict(TEXT, N_WORDS, temperature=0.75) for _ in range(N_SENTENCES)))"
      ],
      "execution_count": 29,
      "outputs": [
        {
          "output_type": "stream",
          "text": [
            "ബംഗാളിലെ ▁ഭരണം ▁കമ്പനി ക്ക് ▁നേരിട്ട് ▁നിയന്ത്രണ ▁വിധേയമാക്ക ിയ ▁ഒരു ▁നിയമ മാണ് ▁വായ്പ ാ ▁അംഗ ം . ▁ x x bo s ▁നിലവിൽ ▁പുറത്തിറങ്ങിയ ▁ഒരു ▁മലയാളചലച്ചിത്ര മാണ് ▁ന മു ക്കു . ▁18 74 - ൽ ▁പുറത്തിറങ്ങിയ ▁ഈ ▁ചിത്രം ▁മൂന്ന ാ മ തായി ാം ▁എന്ന\n",
            "ബംഗാളിലെ ▁ഭരണം ▁കമ്പനി ക്ക് ▁എതിര െ ▁പോരാട ിയ ിരുന്ന ▁ഒരു ▁വില്ലേജാണ് ▁ഫ ത്തേ പ്പൂർ ▁ഹെ ലി കൊ ല്ല . ▁ഇന്ത്യയിലെ ▁മുസ്ലിം കളുടെ ▁ശത്രുക്കള ുടെ ▁ഒരു ▁കൂട്ട ം ▁ഗ ൗ ണി കൾ ക്കാണ് ▁ഈ ▁പേര് ▁നൽകിയത് . ▁ഇന്ത്യ യും ▁ഇന്ത്യൻ ▁ഉപഭൂഖണ്ഡ ത്തിന്റെ യും ▁അതിർത്തി\n"
          ],
          "name": "stdout"
        }
      ]
    },
    {
      "cell_type": "code",
      "metadata": {
        "id": "zlzPbzyQn1Ue",
        "colab_type": "code",
        "colab": {},
        "outputId": "f96cb586-155c-4fb1-e62c-e10975522caa"
      },
      "source": [
        "np.exp(3.273)"
      ],
      "execution_count": null,
      "outputs": [
        {
          "output_type": "execute_result",
          "data": {
            "text/plain": [
              "26.39039188081262"
            ]
          },
          "metadata": {
            "tags": []
          },
          "execution_count": 42
        }
      ]
    },
    {
      "cell_type": "code",
      "metadata": {
        "id": "TLkCFP_5n1Ug",
        "colab_type": "code",
        "colab": {}
      },
      "source": [
        "defaults.device = torch.device('cpu')\n",
        "learn.model.eval()\n",
        "learn.export()"
      ],
      "execution_count": null,
      "outputs": []
    },
    {
      "cell_type": "code",
      "metadata": {
        "id": "TrDjN5Rkn1Ui",
        "colab_type": "code",
        "colab": {}
      },
      "source": [
        "# Generating embedding vectors for visualization"
      ],
      "execution_count": null,
      "outputs": []
    },
    {
      "cell_type": "code",
      "metadata": {
        "id": "CQWt51qZn1Uk",
        "colab_type": "code",
        "colab": {},
        "outputId": "4168d543-2580-4027-d4d1-e692891763ef"
      },
      "source": [
        "path"
      ],
      "execution_count": null,
      "outputs": [
        {
          "output_type": "execute_result",
          "data": {
            "text/plain": [
              "PosixPath('/home/gaurav/PycharmProjects/nlp-for-malyalam/language-model')"
            ]
          },
          "metadata": {
            "tags": []
          },
          "execution_count": 13
        }
      ]
    },
    {
      "cell_type": "code",
      "metadata": {
        "id": "Mk4g-_IJn1Um",
        "colab_type": "code",
        "colab": {}
      },
      "source": [
        "defaults.device = torch.device('cpu')"
      ],
      "execution_count": null,
      "outputs": []
    },
    {
      "cell_type": "code",
      "metadata": {
        "id": "wzCsud_7n1Up",
        "colab_type": "code",
        "colab": {}
      },
      "source": [
        "learn = load_learner(path / 'MalyalamDataset/')"
      ],
      "execution_count": null,
      "outputs": []
    },
    {
      "cell_type": "code",
      "metadata": {
        "id": "VNGz9SEdn1Us",
        "colab_type": "code",
        "colab": {}
      },
      "source": [
        "encoder = get_model(learn.model)[0]"
      ],
      "execution_count": null,
      "outputs": []
    },
    {
      "cell_type": "code",
      "metadata": {
        "id": "sDHgc6lbn1Uu",
        "colab_type": "code",
        "colab": {},
        "outputId": "693ddbdd-225f-4319-a852-a70b2cc796cc"
      },
      "source": [
        "encoder.state_dict()['encoder.weight'].shape"
      ],
      "execution_count": null,
      "outputs": [
        {
          "output_type": "execute_result",
          "data": {
            "text/plain": [
              "torch.Size([10000, 400])"
            ]
          },
          "metadata": {
            "tags": []
          },
          "execution_count": 17
        }
      ]
    },
    {
      "cell_type": "code",
      "metadata": {
        "id": "FCsZUZehn1Uw",
        "colab_type": "code",
        "colab": {}
      },
      "source": [
        "embeddings = encoder.state_dict()['encoder.weight']"
      ],
      "execution_count": null,
      "outputs": []
    },
    {
      "cell_type": "code",
      "metadata": {
        "id": "kkj7zRpWn1Uz",
        "colab_type": "code",
        "colab": {}
      },
      "source": [
        "embeddings = np.array(embeddings)"
      ],
      "execution_count": null,
      "outputs": []
    },
    {
      "cell_type": "code",
      "metadata": {
        "id": "3jZX3Znjn1U2",
        "colab_type": "code",
        "colab": {},
        "outputId": "9f47267b-3fea-499a-db6e-d62decfbb85e"
      },
      "source": [
        "embeddings[0].shape"
      ],
      "execution_count": null,
      "outputs": [
        {
          "output_type": "execute_result",
          "data": {
            "text/plain": [
              "(400,)"
            ]
          },
          "metadata": {
            "tags": []
          },
          "execution_count": 20
        }
      ]
    },
    {
      "cell_type": "code",
      "metadata": {
        "id": "tC4AyiUpn1U4",
        "colab_type": "code",
        "colab": {}
      },
      "source": [
        "df = pd.DataFrame(embeddings)"
      ],
      "execution_count": null,
      "outputs": []
    },
    {
      "cell_type": "code",
      "metadata": {
        "id": "mczZrtGZn1U6",
        "colab_type": "code",
        "colab": {},
        "outputId": "b405915a-a25c-4e93-8a80-a7db71a57428"
      },
      "source": [
        "df.head()"
      ],
      "execution_count": null,
      "outputs": [
        {
          "output_type": "execute_result",
          "data": {
            "text/html": [
              "<div>\n",
              "<style scoped>\n",
              "    .dataframe tbody tr th:only-of-type {\n",
              "        vertical-align: middle;\n",
              "    }\n",
              "\n",
              "    .dataframe tbody tr th {\n",
              "        vertical-align: top;\n",
              "    }\n",
              "\n",
              "    .dataframe thead th {\n",
              "        text-align: right;\n",
              "    }\n",
              "</style>\n",
              "<table border=\"1\" class=\"dataframe\">\n",
              "  <thead>\n",
              "    <tr style=\"text-align: right;\">\n",
              "      <th></th>\n",
              "      <th>0</th>\n",
              "      <th>1</th>\n",
              "      <th>2</th>\n",
              "      <th>3</th>\n",
              "      <th>4</th>\n",
              "      <th>5</th>\n",
              "      <th>6</th>\n",
              "      <th>7</th>\n",
              "      <th>8</th>\n",
              "      <th>9</th>\n",
              "      <th>...</th>\n",
              "      <th>390</th>\n",
              "      <th>391</th>\n",
              "      <th>392</th>\n",
              "      <th>393</th>\n",
              "      <th>394</th>\n",
              "      <th>395</th>\n",
              "      <th>396</th>\n",
              "      <th>397</th>\n",
              "      <th>398</th>\n",
              "      <th>399</th>\n",
              "    </tr>\n",
              "  </thead>\n",
              "  <tbody>\n",
              "    <tr>\n",
              "      <th>0</th>\n",
              "      <td>0.291967</td>\n",
              "      <td>-0.002322</td>\n",
              "      <td>-0.209247</td>\n",
              "      <td>-0.458362</td>\n",
              "      <td>-0.211871</td>\n",
              "      <td>0.525119</td>\n",
              "      <td>0.216968</td>\n",
              "      <td>0.683054</td>\n",
              "      <td>-0.000421</td>\n",
              "      <td>-0.451211</td>\n",
              "      <td>...</td>\n",
              "      <td>-0.018488</td>\n",
              "      <td>-0.209655</td>\n",
              "      <td>0.576393</td>\n",
              "      <td>0.742110</td>\n",
              "      <td>0.626956</td>\n",
              "      <td>-0.273615</td>\n",
              "      <td>-0.226769</td>\n",
              "      <td>-0.459669</td>\n",
              "      <td>-0.138513</td>\n",
              "      <td>0.613912</td>\n",
              "    </tr>\n",
              "    <tr>\n",
              "      <th>1</th>\n",
              "      <td>-0.273549</td>\n",
              "      <td>0.049740</td>\n",
              "      <td>-1.247350</td>\n",
              "      <td>-1.372303</td>\n",
              "      <td>0.257762</td>\n",
              "      <td>-0.763619</td>\n",
              "      <td>-0.482961</td>\n",
              "      <td>0.171256</td>\n",
              "      <td>0.684894</td>\n",
              "      <td>0.376489</td>\n",
              "      <td>...</td>\n",
              "      <td>0.547570</td>\n",
              "      <td>0.743707</td>\n",
              "      <td>0.798664</td>\n",
              "      <td>-0.216511</td>\n",
              "      <td>-0.258916</td>\n",
              "      <td>-0.239699</td>\n",
              "      <td>-0.022576</td>\n",
              "      <td>0.593854</td>\n",
              "      <td>0.076901</td>\n",
              "      <td>-0.260444</td>\n",
              "    </tr>\n",
              "    <tr>\n",
              "      <th>2</th>\n",
              "      <td>-0.230950</td>\n",
              "      <td>0.072833</td>\n",
              "      <td>-1.153181</td>\n",
              "      <td>-1.288029</td>\n",
              "      <td>0.275702</td>\n",
              "      <td>-0.715835</td>\n",
              "      <td>-0.478983</td>\n",
              "      <td>0.099732</td>\n",
              "      <td>0.692943</td>\n",
              "      <td>0.347465</td>\n",
              "      <td>...</td>\n",
              "      <td>0.525808</td>\n",
              "      <td>0.640240</td>\n",
              "      <td>0.775471</td>\n",
              "      <td>-0.225178</td>\n",
              "      <td>-0.279536</td>\n",
              "      <td>-0.167131</td>\n",
              "      <td>-0.010020</td>\n",
              "      <td>0.608966</td>\n",
              "      <td>0.082256</td>\n",
              "      <td>-0.256163</td>\n",
              "    </tr>\n",
              "    <tr>\n",
              "      <th>3</th>\n",
              "      <td>1.527329</td>\n",
              "      <td>-0.199170</td>\n",
              "      <td>0.261630</td>\n",
              "      <td>-0.411390</td>\n",
              "      <td>0.225107</td>\n",
              "      <td>-0.032793</td>\n",
              "      <td>0.307198</td>\n",
              "      <td>0.282542</td>\n",
              "      <td>-0.511452</td>\n",
              "      <td>-0.663876</td>\n",
              "      <td>...</td>\n",
              "      <td>-0.942614</td>\n",
              "      <td>0.064960</td>\n",
              "      <td>0.044630</td>\n",
              "      <td>0.406766</td>\n",
              "      <td>0.304243</td>\n",
              "      <td>-0.106900</td>\n",
              "      <td>-0.311188</td>\n",
              "      <td>1.198795</td>\n",
              "      <td>-0.061395</td>\n",
              "      <td>-0.982869</td>\n",
              "    </tr>\n",
              "    <tr>\n",
              "      <th>4</th>\n",
              "      <td>-0.253548</td>\n",
              "      <td>-0.032533</td>\n",
              "      <td>-0.413230</td>\n",
              "      <td>0.201865</td>\n",
              "      <td>0.209467</td>\n",
              "      <td>0.416606</td>\n",
              "      <td>1.055918</td>\n",
              "      <td>-0.190680</td>\n",
              "      <td>0.999718</td>\n",
              "      <td>-0.150951</td>\n",
              "      <td>...</td>\n",
              "      <td>0.035856</td>\n",
              "      <td>0.736521</td>\n",
              "      <td>0.932499</td>\n",
              "      <td>0.811180</td>\n",
              "      <td>0.393260</td>\n",
              "      <td>-0.127388</td>\n",
              "      <td>0.585211</td>\n",
              "      <td>0.252797</td>\n",
              "      <td>0.105065</td>\n",
              "      <td>0.084277</td>\n",
              "    </tr>\n",
              "  </tbody>\n",
              "</table>\n",
              "<p>5 rows × 400 columns</p>\n",
              "</div>"
            ],
            "text/plain": [
              "        0         1         2         3         4         5         6    \\\n",
              "0  0.291967 -0.002322 -0.209247 -0.458362 -0.211871  0.525119  0.216968   \n",
              "1 -0.273549  0.049740 -1.247350 -1.372303  0.257762 -0.763619 -0.482961   \n",
              "2 -0.230950  0.072833 -1.153181 -1.288029  0.275702 -0.715835 -0.478983   \n",
              "3  1.527329 -0.199170  0.261630 -0.411390  0.225107 -0.032793  0.307198   \n",
              "4 -0.253548 -0.032533 -0.413230  0.201865  0.209467  0.416606  1.055918   \n",
              "\n",
              "        7         8         9    ...       390       391       392       393  \\\n",
              "0  0.683054 -0.000421 -0.451211  ... -0.018488 -0.209655  0.576393  0.742110   \n",
              "1  0.171256  0.684894  0.376489  ...  0.547570  0.743707  0.798664 -0.216511   \n",
              "2  0.099732  0.692943  0.347465  ...  0.525808  0.640240  0.775471 -0.225178   \n",
              "3  0.282542 -0.511452 -0.663876  ... -0.942614  0.064960  0.044630  0.406766   \n",
              "4 -0.190680  0.999718 -0.150951  ...  0.035856  0.736521  0.932499  0.811180   \n",
              "\n",
              "        394       395       396       397       398       399  \n",
              "0  0.626956 -0.273615 -0.226769 -0.459669 -0.138513  0.613912  \n",
              "1 -0.258916 -0.239699 -0.022576  0.593854  0.076901 -0.260444  \n",
              "2 -0.279536 -0.167131 -0.010020  0.608966  0.082256 -0.256163  \n",
              "3  0.304243 -0.106900 -0.311188  1.198795 -0.061395 -0.982869  \n",
              "4  0.393260 -0.127388  0.585211  0.252797  0.105065  0.084277  \n",
              "\n",
              "[5 rows x 400 columns]"
            ]
          },
          "metadata": {
            "tags": []
          },
          "execution_count": 22
        }
      ]
    },
    {
      "cell_type": "code",
      "metadata": {
        "id": "QuqIBDvnn1U8",
        "colab_type": "code",
        "colab": {},
        "outputId": "30fd4c0d-5fbd-4327-a5cb-90e2c29d5717"
      },
      "source": [
        "df.shape"
      ],
      "execution_count": null,
      "outputs": [
        {
          "output_type": "execute_result",
          "data": {
            "text/plain": [
              "(10000, 400)"
            ]
          },
          "metadata": {
            "tags": []
          },
          "execution_count": 23
        }
      ]
    },
    {
      "cell_type": "code",
      "metadata": {
        "id": "OW5X3ZGtn1U-",
        "colab_type": "code",
        "colab": {}
      },
      "source": [
        "df.to_csv('embeddings.tsv', sep='\\t', index=False, header=False)"
      ],
      "execution_count": null,
      "outputs": []
    },
    {
      "cell_type": "code",
      "metadata": {
        "id": "szZpBJHan1VA",
        "colab_type": "code",
        "colab": {}
      },
      "source": [
        "df2 = pd.DataFrame(itos)"
      ],
      "execution_count": null,
      "outputs": []
    },
    {
      "cell_type": "code",
      "metadata": {
        "id": "4M6Q8SVsn1VC",
        "colab_type": "code",
        "colab": {},
        "outputId": "9165fa79-d7f2-46eb-fbec-b959d6f29c0b"
      },
      "source": [
        "df2.head()"
      ],
      "execution_count": null,
      "outputs": [
        {
          "output_type": "execute_result",
          "data": {
            "text/html": [
              "<div>\n",
              "<style scoped>\n",
              "    .dataframe tbody tr th:only-of-type {\n",
              "        vertical-align: middle;\n",
              "    }\n",
              "\n",
              "    .dataframe tbody tr th {\n",
              "        vertical-align: top;\n",
              "    }\n",
              "\n",
              "    .dataframe thead th {\n",
              "        text-align: right;\n",
              "    }\n",
              "</style>\n",
              "<table border=\"1\" class=\"dataframe\">\n",
              "  <thead>\n",
              "    <tr style=\"text-align: right;\">\n",
              "      <th></th>\n",
              "      <th>0</th>\n",
              "    </tr>\n",
              "  </thead>\n",
              "  <tbody>\n",
              "    <tr>\n",
              "      <th>0</th>\n",
              "      <td>&lt;unk&gt;</td>\n",
              "    </tr>\n",
              "    <tr>\n",
              "      <th>1</th>\n",
              "      <td>&lt;s&gt;</td>\n",
              "    </tr>\n",
              "    <tr>\n",
              "      <th>2</th>\n",
              "      <td>&lt;/s&gt;</td>\n",
              "    </tr>\n",
              "    <tr>\n",
              "      <th>3</th>\n",
              "      <td>.</td>\n",
              "    </tr>\n",
              "    <tr>\n",
              "      <th>4</th>\n",
              "      <td>്</td>\n",
              "    </tr>\n",
              "  </tbody>\n",
              "</table>\n",
              "</div>"
            ],
            "text/plain": [
              "       0\n",
              "0  <unk>\n",
              "1    <s>\n",
              "2   </s>\n",
              "3      .\n",
              "4      ്"
            ]
          },
          "metadata": {
            "tags": []
          },
          "execution_count": 26
        }
      ]
    },
    {
      "cell_type": "code",
      "metadata": {
        "id": "5OlLsfGKn1VG",
        "colab_type": "code",
        "colab": {},
        "outputId": "910980df-6240-4c04-91a2-b86cba3b5652"
      },
      "source": [
        "df2.shape"
      ],
      "execution_count": null,
      "outputs": [
        {
          "output_type": "execute_result",
          "data": {
            "text/plain": [
              "(10000, 1)"
            ]
          },
          "metadata": {
            "tags": []
          },
          "execution_count": 27
        }
      ]
    },
    {
      "cell_type": "code",
      "metadata": {
        "id": "K53piZOan1VI",
        "colab_type": "code",
        "colab": {}
      },
      "source": [
        "df2.to_csv('embeddings_metadata.tsv', sep='\\t', index=False, header=False)"
      ],
      "execution_count": null,
      "outputs": []
    },
    {
      "cell_type": "code",
      "metadata": {
        "id": "zzek_-1Nn1VK",
        "colab_type": "code",
        "colab": {},
        "outputId": "c59fe120-9aec-4fa9-e7ad-93b5dea5acda"
      },
      "source": [
        "encoder.state_dict()['encoder.weight'][1]"
      ],
      "execution_count": null,
      "outputs": [
        {
          "output_type": "execute_result",
          "data": {
            "text/plain": [
              "tensor([-2.7355e-01,  4.9740e-02, -1.2474e+00, -1.3723e+00,  2.5776e-01,\n",
              "        -7.6362e-01, -4.8296e-01,  1.7126e-01,  6.8489e-01,  3.7649e-01,\n",
              "         1.2907e-01,  1.1018e-01,  5.1568e-01,  7.9365e-02, -1.9693e-01,\n",
              "         1.5606e+00,  1.3909e-01,  4.4212e-01,  2.8622e-01,  1.9001e-01,\n",
              "         4.1099e-01,  1.1254e+00, -2.0873e-01, -7.7392e-02,  5.6829e-01,\n",
              "         3.9020e-01,  6.2949e-01,  1.7590e-01,  3.3018e-01,  2.8685e-01,\n",
              "        -7.7555e-01,  3.0622e-01,  1.7872e-01,  9.3845e-01,  4.2830e-02,\n",
              "        -8.5402e-02, -5.2553e-01,  4.3522e-01,  2.7174e-01, -1.2583e-01,\n",
              "         4.8475e-01, -3.7728e-01, -3.6608e-01,  5.4688e-01,  2.1373e-01,\n",
              "        -5.6125e-01, -2.7174e-01, -9.3416e-01,  2.4786e-01, -5.0529e-01,\n",
              "        -3.4035e-01, -2.1120e-01,  3.7982e-02, -1.2824e-01, -3.4154e-01,\n",
              "         8.7507e-01,  4.3182e-01,  3.1867e-01, -1.1197e+00, -1.2728e-01,\n",
              "         9.6618e-01, -7.5389e-02, -3.4188e-01,  2.2546e-01,  1.7317e-01,\n",
              "         1.4208e+00,  1.1709e-01, -1.9090e-02, -4.0858e-02, -1.1572e-01,\n",
              "         1.7867e-01, -2.2730e-01,  9.5290e-01,  8.5460e-01, -5.4994e-02,\n",
              "        -2.2447e+00,  7.6660e-01, -4.2285e-01, -2.3511e-01,  1.4848e-01,\n",
              "        -4.1073e-01,  3.3902e-01,  4.5169e-01, -1.0511e-01,  5.9478e-01,\n",
              "         1.8716e-01,  5.2635e-01,  2.2042e-01, -3.4843e-02,  1.6912e-01,\n",
              "        -2.4716e-01,  3.5367e-01,  1.9962e-01,  2.4432e-01, -3.0583e-01,\n",
              "        -2.6313e-01, -5.4300e-02,  1.6807e-01,  3.3860e-01,  4.0517e-01,\n",
              "        -3.4211e-01,  2.5578e-01, -2.6645e-01, -8.5716e-02, -1.5947e+00,\n",
              "        -5.5090e-02,  3.2921e-01, -1.8224e-01,  9.1738e-01, -1.0322e+00,\n",
              "         1.9760e+00, -5.7727e-01,  5.0660e-01,  4.9145e-01,  3.2897e-01,\n",
              "         5.2335e-02,  1.0763e-01,  7.4897e-02, -4.4596e-02, -1.9440e-02,\n",
              "        -4.4593e-01,  4.0274e-01, -4.8848e-01, -2.7417e-01, -9.5853e-02,\n",
              "         5.4816e-01, -1.9212e-01,  1.4258e-01,  2.8511e-01,  1.9044e-01,\n",
              "        -1.3431e-01,  2.5034e-01,  5.3367e-02, -3.2784e-01, -1.7451e-01,\n",
              "         1.6196e-03,  9.6878e-01, -4.0620e-01,  4.7420e-01, -3.1002e-01,\n",
              "         2.4126e-01,  9.3827e-01, -2.2575e-01,  1.1790e+00,  2.1420e-01,\n",
              "         1.2176e-01,  3.6928e-01, -3.7387e-01,  1.6095e-02, -1.1043e+00,\n",
              "         3.8309e-01, -3.0535e-01,  2.2009e-01,  4.8657e-01,  3.3336e-01,\n",
              "        -2.0681e-02, -3.7418e-01, -9.1325e-01,  2.2386e-01,  1.1208e-01,\n",
              "         7.6523e-01,  5.1890e-01, -1.8135e-01,  8.4246e-01,  1.7637e-01,\n",
              "         3.2233e-01,  2.9010e-01,  6.5388e-01, -1.6610e+00, -4.2370e-02,\n",
              "         2.0479e-01, -6.9538e-02, -1.2717e-01,  3.3148e-01, -1.8729e-01,\n",
              "         6.3649e-01, -2.2464e-01, -1.0190e-01,  4.6866e-01, -5.5892e-02,\n",
              "         3.6058e-01,  3.2559e-01,  3.4009e-01, -2.7135e-01, -1.0699e+00,\n",
              "         4.3009e-02, -5.3111e-01, -2.7182e-01,  1.5959e-01, -5.1326e-01,\n",
              "        -5.8041e-01,  1.0743e-01, -2.5454e-01, -1.9223e-01,  5.0041e-01,\n",
              "        -1.0436e-01, -8.8933e-02,  6.4387e-01, -1.5711e-01,  2.6400e-01,\n",
              "         5.4522e-01,  2.8376e-02, -4.5845e-01,  5.4044e-01, -4.0886e-01,\n",
              "         5.7746e-01,  8.4322e-02, -1.6316e-01,  1.0962e+00, -2.6665e-01,\n",
              "        -3.2856e-01,  2.6375e-01, -7.4362e-01, -2.1490e-01, -5.0500e-01,\n",
              "        -1.1855e-01,  4.5519e-01, -4.1367e-01, -7.2039e-02, -4.5755e-02,\n",
              "         9.1112e-02, -3.6581e-01,  5.9046e-01,  2.2897e-02,  3.3079e-01,\n",
              "         7.2433e-02,  3.7962e-01, -3.9742e-01, -9.3628e-02, -3.8505e-01,\n",
              "         1.9628e-01,  1.9122e-02,  9.5473e-01,  2.0479e-01,  7.0306e-02,\n",
              "        -6.7453e-01,  4.6173e-01,  2.3797e-01, -3.8475e-01, -1.3172e-01,\n",
              "        -3.8401e-02,  3.6653e-01, -1.4525e-01,  6.5865e-01,  8.4010e-01,\n",
              "        -1.5269e-01,  2.0602e-01,  8.4053e-01,  4.1965e-02, -3.9192e-01,\n",
              "        -1.9203e+00,  1.1139e+00,  4.7090e-01, -9.1036e-01,  2.8499e-01,\n",
              "        -1.3596e+00, -4.3914e-01, -2.1283e-01,  5.1143e-01,  4.0260e-01,\n",
              "        -3.0227e-01, -1.9529e-01,  7.4790e-02,  2.5873e-01, -9.0964e-02,\n",
              "         6.0427e-01,  3.1723e-02,  7.2567e-02, -4.8054e-02, -2.5665e-01,\n",
              "         3.1949e-01, -2.5791e-01, -2.4215e-01, -1.2559e-01, -3.1404e-02,\n",
              "        -1.0723e+00, -1.4186e-01, -8.5835e-01,  8.4293e-01,  7.3532e-02,\n",
              "        -1.0460e+00, -4.9860e-01,  5.6247e-01, -5.0750e-01,  3.4033e-01,\n",
              "         2.1924e-01, -8.0956e-02, -8.7188e-01,  5.4076e-01, -2.3494e-01,\n",
              "        -1.9719e-01, -3.3236e-01, -8.6199e-02,  4.6256e-01,  2.2004e-01,\n",
              "         1.8080e-01,  2.4210e-01, -5.9047e-02, -2.5285e-01, -1.9066e-01,\n",
              "        -9.8962e-01,  1.2047e-01, -1.3332e-01,  2.4901e-01, -2.3874e-01,\n",
              "         2.9169e-01,  3.4328e-01, -1.0401e+00, -1.0636e-01, -8.3790e-01,\n",
              "        -2.2283e-01,  3.7870e-02,  3.0247e-01, -3.2111e-01, -3.9612e-01,\n",
              "         3.8965e-01,  6.4064e-02,  1.2912e+00,  3.6725e-01,  8.3852e-02,\n",
              "        -9.8076e-01, -2.5177e-01,  3.2505e-01,  2.8850e-01,  6.8628e-04,\n",
              "         1.0167e+00, -3.3983e-01, -7.0606e-02, -4.1021e-01,  6.2122e-02,\n",
              "         5.7021e-01,  1.8068e-01,  2.2632e-01, -1.7197e-01, -1.1161e-01,\n",
              "        -7.9958e-01, -1.0696e-01,  5.4813e-01, -2.5078e-01, -2.2282e-01,\n",
              "         1.1968e-01,  5.5584e-01, -4.2861e-01, -3.8036e-01, -5.1863e-01,\n",
              "        -4.4458e-01, -4.3260e-01,  1.0323e-01, -9.5130e-01, -4.5454e-01,\n",
              "        -2.5369e-01,  1.6794e-02,  2.4722e-01, -5.3022e-01,  1.2644e-01,\n",
              "        -4.2388e-01, -5.0187e-01,  1.0373e-01,  7.9540e-03, -3.2078e-01,\n",
              "         1.2055e+00,  3.5049e-01, -4.6069e-01,  1.9396e-01,  9.6956e-01,\n",
              "         4.6293e-01, -5.9837e-02,  3.0735e-01,  6.1025e-02,  3.4897e-01,\n",
              "         4.2811e-02,  7.1975e-01, -3.9895e-02,  1.6942e-01,  3.3076e-02,\n",
              "        -2.4922e-01,  3.2290e-01,  4.2509e-01, -3.4705e-02,  4.4104e-01,\n",
              "        -2.7307e-01,  1.1856e-01,  4.9750e-02, -2.6810e-01,  1.4808e-01,\n",
              "        -1.9500e-01, -4.4822e-01,  5.8663e-01,  4.4076e-02,  2.4390e-01,\n",
              "         5.4757e-01,  7.4371e-01,  7.9866e-01, -2.1651e-01, -2.5892e-01,\n",
              "        -2.3970e-01, -2.2576e-02,  5.9385e-01,  7.6901e-02, -2.6044e-01])"
            ]
          },
          "metadata": {
            "tags": []
          },
          "execution_count": 29
        }
      ]
    },
    {
      "cell_type": "code",
      "metadata": {
        "id": "9NU-AgUqn1VN",
        "colab_type": "code",
        "colab": {}
      },
      "source": [
        ""
      ],
      "execution_count": null,
      "outputs": []
    }
  ]
}