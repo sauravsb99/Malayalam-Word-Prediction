{
 "cells": [
  {
   "cell_type": "code",
   "execution_count": 18,
   "metadata": {},
   "outputs": [],
   "source": [
    "import sentencepiece as spm\n",
    "import pickle\n",
    "import pathlib"
   ]
  },
  {
   "cell_type": "code",
   "execution_count": 19,
   "metadata": {},
   "outputs": [],
   "source": [
    "path = pathlib.Path('/home/sauravsb99/MalWorPre/nlp-for-malyalam/tokenizer/MalyalamWikipediaArticles/')\n"
   ]
  },
  {
   "cell_type": "code",
   "execution_count": 20,
   "metadata": {},
   "outputs": [],
   "source": [
    "p = path.glob('**/*')\n",
    "files = [x for x in p if x.is_file()]"
   ]
  },
  {
   "cell_type": "code",
   "execution_count": 21,
   "metadata": {},
   "outputs": [
    {
     "data": {
      "text/plain": [
       "12388"
      ]
     },
     "execution_count": 21,
     "metadata": {},
     "output_type": "execute_result"
    }
   ],
   "source": [
    "len(files)"
   ]
  },
  {
   "cell_type": "code",
   "execution_count": 22,
   "metadata": {},
   "outputs": [],
   "source": [
    "files = [str(file) for file in files]"
   ]
  },
  {
   "cell_type": "code",
   "execution_count": 23,
   "metadata": {},
   "outputs": [],
   "source": [
    "flist = ','.join(files)"
   ]
  },
  {
   "cell_type": "code",
   "execution_count": 24,
   "metadata": {},
   "outputs": [],
   "source": [
    "spm.SentencePieceTrainer.Train(f'--input={flist} --model_prefix=malyalam_lm --vocab_size=10000')"
   ]
  },
  {
   "cell_type": "code",
   "execution_count": 27,
   "metadata": {},
   "outputs": [
    {
     "ename": "EOFError",
     "evalue": "Ran out of input",
     "output_type": "error",
     "traceback": [
      "\u001b[0;31m---------------------------------------------------------------------------\u001b[0m",
      "\u001b[0;31mEOFError\u001b[0m                                  Traceback (most recent call last)",
      "\u001b[0;32m<ipython-input-27-494511792e90>\u001b[0m in \u001b[0;36m<module>\u001b[0;34m\u001b[0m\n\u001b[1;32m      1\u001b[0m \u001b[0;32mwith\u001b[0m \u001b[0mopen\u001b[0m\u001b[0;34m(\u001b[0m\u001b[0mpath\u001b[0m\u001b[0;34m/\u001b[0m\u001b[0;34m'1781.pkl'\u001b[0m\u001b[0;34m,\u001b[0m \u001b[0;34m'rb'\u001b[0m\u001b[0;34m)\u001b[0m \u001b[0;32mas\u001b[0m \u001b[0mf\u001b[0m\u001b[0;34m:\u001b[0m\u001b[0;34m\u001b[0m\u001b[0;34m\u001b[0m\u001b[0m\n\u001b[0;32m----> 2\u001b[0;31m     \u001b[0mtext\u001b[0m \u001b[0;34m=\u001b[0m \u001b[0mpickle\u001b[0m\u001b[0;34m.\u001b[0m\u001b[0mload\u001b[0m\u001b[0;34m(\u001b[0m\u001b[0mf\u001b[0m\u001b[0;34m)\u001b[0m\u001b[0;34m\u001b[0m\u001b[0;34m\u001b[0m\u001b[0m\n\u001b[0m",
      "\u001b[0;31mEOFError\u001b[0m: Ran out of input"
     ]
    }
   ],
   "source": [
    "with open(path/'1781.pkl', 'rb') as f:\n",
    "    text = pickle.load(f)"
   ]
  },
  {
   "cell_type": "code",
   "execution_count": 28,
   "metadata": {},
   "outputs": [
    {
     "ename": "NameError",
     "evalue": "name 'text' is not defined",
     "output_type": "error",
     "traceback": [
      "\u001b[0;31m---------------------------------------------------------------------------\u001b[0m",
      "\u001b[0;31mNameError\u001b[0m                                 Traceback (most recent call last)",
      "\u001b[0;32m<ipython-input-28-aa785adca3fc>\u001b[0m in \u001b[0;36m<module>\u001b[0;34m\u001b[0m\n\u001b[0;32m----> 1\u001b[0;31m \u001b[0mtext\u001b[0m\u001b[0;34m\u001b[0m\u001b[0;34m\u001b[0m\u001b[0m\n\u001b[0m",
      "\u001b[0;31mNameError\u001b[0m: name 'text' is not defined"
     ]
    }
   ],
   "source": [
    "text"
   ]
  },
  {
   "cell_type": "code",
   "execution_count": 12,
   "metadata": {},
   "outputs": [],
   "source": [
    "sp = spm.SentencePieceProcessor()"
   ]
  },
  {
   "cell_type": "code",
   "execution_count": 13,
   "metadata": {},
   "outputs": [
    {
     "data": {
      "text/plain": [
       "True"
      ]
     },
     "execution_count": 13,
     "metadata": {},
     "output_type": "execute_result"
    }
   ],
   "source": [
    "sp.Load(\"malyalam_lm.model\")"
   ]
  },
  {
   "cell_type": "code",
   "execution_count": 14,
   "metadata": {},
   "outputs": [
    {
     "data": {
      "text/plain": [
       "'▁മലപ്പുറം ▁ജില്ലയിലെ ▁തിര ൂര ങ്ങാടി ▁താലൂക്കിൽ ▁വേങ്ങ ര ▁ബ്ളോക്കി ലാണ് ▁അബ്ദു റ ഹി മാൻ ▁ന ഗർ ▁ഗ്രാമപഞ്ചായത്ത് ▁സ്ഥിതി ▁ചെയ്യുന്നത് . ▁അബ്ദു റ ഹി മാൻ ▁ന ഗർ ▁വില്ലേജ ു പരിധി യിൽ ▁ഉൾപ്പെടുന്ന ▁അബ്ദു റ ഹി മാൻ ▁ന ഗർ ▁ഗ്രാമപഞ്ചായത്ത ിനു ▁14 . 83 ▁ച തുരശ്രകിലോമീറ്റർ ▁വിസ്തീർണ്ണ മുണ്ട് . ▁പഞ്ചായത്തിന്റെ ▁അതിരുകൾ ▁വടക്കു ▁ഭാഗത്ത് ▁തേ ഞ്ഞി പ്പ ലം , ▁കണ്ണ മംഗലം , ▁മൂന്ന ിയ ൂർ ▁പഞ്ചായത്ത ുകളും , ▁കിഴക്കുഭാഗത്ത ് ▁വേങ്ങ ര , ▁കണ്ണ മംഗലം ▁പഞ്ചായത്ത ുകളും , ▁തെക്കുഭാഗത്ത ് ▁തിര ൂര ങ്ങാടി , ▁വേങ്ങ ര ▁പഞ്ചായത്ത ുകളും , ▁പടിഞ്ഞാറുഭാഗത്ത ് ▁മൂന്ന ിയ ൂർ , ▁തിര ൂര ങ്ങാടി , ▁തേ ഞ്ഞി പ്പ ലം ▁പഞ്ചായത്ത ു കളുമാണ് . കോഴിക്കോട് ▁വിമാനത്താവള ത്തിൽ ▁നിന്നും ▁കോഴിക്കോട് ▁സർവ്വകലാശാലയിൽ ▁നിന്നും ▁9 ▁കിലോമീറ്റർ ▁സമ ദൂര ത്ത ായി ▁സ്ഥിതി ▁ചെയ്യുന്ന ▁ഒരു ▁കൊച്ചു ഗ്രാമ മാണ് ▁അബ്ദു റ ഹി മാൻ ▁ന ഗർ ▁ഗ്രാമപഞ്ചായത്ത് . ▁പശ്ചിമഘട്ട ത്തിൽ ▁നിന്നു ത് ഭവ ിച്ച് ▁മലപ്പുറം ▁ജില്ലയിലെ ▁വിവിധ ▁പ്രദേശ ങ്ങളിലൂടെ ▁ഒഴുകി ▁അറബിക്കടലി ൽ ▁ചേരുന്ന ▁കടലുണ്ടി പ്പുഴ യുടെ ▁തീരത്ത് ▁സ്ഥിതി ▁ചെയ്യുന്ന ▁ഈ ▁പഞ്ചായത്ത ിനു ▁അയൽ പഞ്ച ായ ത്ത ുകളുടെ ▁പകുതി ▁വിസ്തൃതി യേ ▁ഉള്ള ൂ . ▁കൊടു വായ ൂർ ▁എന്ന ▁പേരിലാണ് ▁ആദ്യകാലങ്ങളിൽ ▁ഈ ▁ഗ്രാമ ം ▁അറിയപ്പെട്ടിര ുന്നത് . ▁കടലുണ്ടി പുഴ , ▁പട്ട ി ശ്ശേരി പാട ം , ▁പെരു വ ള്ള ൂർ പാട ം , ▁കുറ്റ ൂർ പാട ം ▁എന്നിവ യാൽ ▁ചുറ്റപ്പെട്ട ുകിടക്കുന്ന ▁ഈ ▁ഗ്രാമ ം ▁വർഷ കാല ങ്ങളിൽ ▁ഒരു ▁ദ്വീപ ിന്റെ ▁പ്ര തീ തി ▁സൃഷ്ടിക്ക ുമായിരുന്നു . ▁1963 ▁ഡിസംബർ ▁4 - നാണ് ▁പഞ്ചായത്ത ിലേക്ക് ▁ആദ്യമായി ▁തെരഞ്ഞെടുപ്പ ് ▁നടന്നത് . ▁1956 - ൽ ▁കേരള ▁സംസ്ഥാന ം ▁നിലവിൽ ▁വരുന്ന ▁കാലഘട്ട ം ▁വരെ ▁ഈ ▁ഗ്രാമ ം ▁മദിരാശി ▁സംസ്ഥാനത്തിന്റെ ▁ഭാഗമായിരുന്നു . ▁മദിരാശി ▁അസ ം ബ് ളി യിലേക്ക് ▁നടന്ന ▁തെ ര ഞ്ഞ ടുപ്പ ിൽ , ▁ഈ ▁ഗ്രാമ വാസികൾ ▁കോട്ട ക്കൽ ▁ഫ ർ ക്ക യിലായിരുന്നു ▁ഉൾപ്പെട്ട ിരുന്നത് . ▁മണ്ഡല ങ്ങൾ ▁വീണ്ടും ▁വിഭജിക്ക പ്പെട്ട തോടെ ▁ഈ ▁ഗ്രാമ ം ▁തിര ൂര ങ്ങാടി ▁നിയോജക ▁മണ്ഡലത്തിൽ ▁ഉൾപ്പെട്ട ു . ▁കോൺഗ്രസ് ▁പ്രസ്ഥാന ത്തിന് ▁വളരെയേറെ ▁വേര ു കളുള്ള ▁ഒരു ▁ഗ്രാമ മായിരുന്നു ▁കൊടു വായ ൂർ . ▁സ്വാതന്ത്ര്യസമര നായക ൻ ▁അബ്ദു റ ഹി മാൻ ▁സാഹിബ ിന്റെയും ▁സഹ പ്രവർത്തക രുടെയും ▁പ്രവർത്തന മേഖല ▁കൂടിയ ായിരുന്നു ▁ഈ ▁പ്രദേശം . ▁എന്ത ് ▁പേര് ▁സ്വീകരിക്ക ണമെന്ന ▁കാര്യത്തിൽ ▁അഭിപ്രായ വ്യത്യാസ മുണ്ടായിരുന്ന ങ്ക ിലും ▁അന്നത്തെ ▁പ്രബല കക്ഷി കളായ ▁കോൺഗ്രസ ും ▁മുസ് ള ീ ം ലീ ഗ ും ▁പഞ്ചായത്തിന്റെ ▁പേരു ▁മാറ്റ ണം ▁എന്ന ▁കാര്യത്തിൽ ▁ഒരേ ▁അഭിപ്രായ ക്കാര ായിരുന്നു . ▁കൊടു വായ ൂരിലെ ▁കോൺഗ്രസ് ▁നേതാവ ും ▁എ . ആർ . ന ഗ റിലെ ▁പ്രഥമ ▁പ്രസിഡന്റ ുമായിരുന്ന ▁വി . അ ഹ മ്മ ദ് ▁ആസാദ് ▁ഈ ▁ആവശ്യ ത്തിനു ▁വേണ്ടി ▁ഉറച്ച ു പ്രവർത്തി ച്ചു . ▁മാറി വരുന്ന ▁പേരു ▁അബ്ദു റ ഹി മാൻ ▁സാഹിബ ി ന്റേത ് ▁ആയി രിക്ക ണമെന്ന് ▁അക്കാലത്ത് ▁ആസാദ് ▁കോൺഗ്രസ് ▁കമ്മിറ്റി യിൽ ▁ഉന്നയിക്ക ുകയും ▁പ്രദേശ ് ▁കോൺഗ്രസ് ▁കമ്മിറ്റി യെ ▁കൊണ്ട് ▁ഈ ▁പേര് ▁താ ത്വ ിക മായി ▁അംഗ ീ ക രി പ്പിക്കുകയും ▁ചെയ്തു . ▁1962 ▁ലാണ് ▁കൊടു വായ ൂര ിന്റെ ▁പേര് ▁അബ്ദു റ ഹി മാൻ ▁ന ഗർ ▁എന്ന ാക്കി ▁വി ജ്ഞ ാപ നം ▁പുറപ്പെടുവിച്ച ത് . ▁തുടർന്ന് ▁നടന്ന ▁പ്രവർത്തന ഫലമായി ▁വി . കെ . പടി ▁പോ സ്റ്റോ ഫീസ ് ▁അബ്ദു റ ഹി മാൻ ▁ന ഗർ ▁പോ സ്റ്റ ാ ഫീസ ാക്കി ▁മാറ്റി . ▁1969 ▁കാലഘട്ട ം ▁വരെ ▁വില്ലേജ ിന്റെ ▁പേര് ▁കൊടു വായ ൂർ ▁എന്ന ുതന്നെ ▁നിലനിന്ന ുപോന്നു . ▁1969 - ലെ ▁സർക്കാര ാണ് ▁കൊടു വായ ൂർ ▁വില്ലേജ ിന്റെ ▁പേരു ▁അബ്ദു റ ഹി മാൻ ▁ന ഗർ ▁എന്ന ാക്കി മാറ്റ ിയത് .'"
      ]
     },
     "execution_count": 14,
     "metadata": {},
     "output_type": "execute_result"
    }
   ],
   "source": [
    "' '.join(sp.EncodeAsPieces(text))"
   ]
  },
  {
   "cell_type": "code",
   "execution_count": null,
   "metadata": {},
   "outputs": [],
   "source": []
  }
 ],
 "metadata": {
  "kernelspec": {
   "display_name": "Python 3",
   "language": "python",
   "name": "python3"
  },
  "language_info": {
   "codemirror_mode": {
    "name": "ipython",
    "version": 3
   },
   "file_extension": ".py",
   "mimetype": "text/x-python",
   "name": "python",
   "nbconvert_exporter": "python",
   "pygments_lexer": "ipython3",
   "version": "3.8.3"
  }
 },
 "nbformat": 4,
 "nbformat_minor": 2
}
